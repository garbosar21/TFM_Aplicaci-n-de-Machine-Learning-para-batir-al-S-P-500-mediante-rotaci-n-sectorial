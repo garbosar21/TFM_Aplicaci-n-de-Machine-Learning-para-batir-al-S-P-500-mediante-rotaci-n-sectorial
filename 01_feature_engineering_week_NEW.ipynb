{
 "cells": [
  {
   "cell_type": "markdown",
   "metadata": {},
   "source": [
    "# 1. Descarga y adaptación de la información"
   ]
  },
  {
   "cell_type": "markdown",
   "metadata": {},
   "source": [
    "## Imports & Settings"
   ]
  },
  {
   "cell_type": "code",
   "execution_count": 384,
   "metadata": {
    "ExecuteTime": {
     "end_time": "2020-06-16T21:40:02.668823Z",
     "start_time": "2020-06-16T21:40:02.666706Z"
    }
   },
   "outputs": [],
   "source": [
    "import warnings\n",
    "warnings.filterwarnings('ignore')"
   ]
  },
  {
   "cell_type": "code",
   "execution_count": 385,
   "metadata": {
    "ExecuteTime": {
     "end_time": "2020-06-16T21:40:04.560323Z",
     "start_time": "2020-06-16T21:40:02.673361Z"
    }
   },
   "outputs": [],
   "source": [
    "%matplotlib inline\n",
    "\n",
    "from datetime import datetime\n",
    "import pandas as pd\n",
    "import pandas_datareader.data as web\n",
    "from sklearn.preprocessing import scale\n",
    "# replaces pyfinance.ols.PandasRollingOLS (no longer maintained)\n",
    "from statsmodels.regression.rolling import RollingOLS\n",
    "import statsmodels.api as sm\n",
    "\n",
    "import matplotlib.pyplot as plt\n",
    "import seaborn as sns"
   ]
  },
  {
   "cell_type": "code",
   "execution_count": 386,
   "metadata": {},
   "outputs": [],
   "source": [
    "import numpy as np"
   ]
  },
  {
   "cell_type": "code",
   "execution_count": 387,
   "metadata": {
    "ExecuteTime": {
     "end_time": "2020-06-16T21:40:04.567059Z",
     "start_time": "2020-06-16T21:40:04.562727Z"
    }
   },
   "outputs": [],
   "source": [
    "sns.set_style('whitegrid')\n",
    "idx = pd.IndexSlice"
   ]
  },
  {
   "cell_type": "code",
   "execution_count": 388,
   "metadata": {},
   "outputs": [],
   "source": [
    "import yfinance as yf"
   ]
  },
  {
   "cell_type": "code",
   "execution_count": 389,
   "metadata": {},
   "outputs": [],
   "source": [
    "normaliza=True #normalizamos por volatilidad\n",
    "neutraliza=False #normalizado cross sectional media y vola"
   ]
  },
  {
   "cell_type": "code",
   "execution_count": 390,
   "metadata": {
    "ExecuteTime": {
     "end_time": "2020-06-16T21:40:04.581618Z",
     "start_time": "2020-06-16T21:40:04.569726Z"
    }
   },
   "outputs": [],
   "source": [
    "DATA_STORE = '../data/assets.h5'"
   ]
  },
  {
   "cell_type": "code",
   "execution_count": 391,
   "metadata": {
    "ExecuteTime": {
     "end_time": "2020-06-16T21:40:04.589158Z",
     "start_time": "2020-06-16T21:40:04.583674Z"
    }
   },
   "outputs": [],
   "source": [
    "START = 1990\n",
    "END = 2024"
   ]
  },
  {
   "cell_type": "markdown",
   "metadata": {},
   "source": [
    "# Descarga de precios"
   ]
  },
  {
   "cell_type": "code",
   "execution_count": null,
   "metadata": {},
   "outputs": [],
   "source": [
    "ticker_list = ['XLE', 'XLB', 'XLI', 'XLK', 'XLF', \n",
    "               'XLP', 'XLY', 'XLV', 'XLU', 'IYR', 'VOX', 'SPY', 'QQQ']\n",
    " \n",
    "# Here we use yf.download function\n",
    "data = yf.download(\n",
    "     \n",
    "    # passes the ticker\n",
    "    tickers=ticker_list,\n",
    "     \n",
    "    # used for access data[ticker]\n",
    "    group_by='ticker',\n",
    " \n",
    ")"
   ]
  },
  {
   "cell_type": "code",
   "execution_count": null,
   "metadata": {},
   "outputs": [],
   "source": [
    "#apilamos tickers\n",
    "data = (data\n",
    "                .stack(-2))\n",
    "data"
   ]
  },
  {
   "cell_type": "code",
   "execution_count": 395,
   "metadata": {},
   "outputs": [],
   "source": [
    "data = data.rename_axis(['date', 'ticker'])"
   ]
  },
  {
   "cell_type": "code",
   "execution_count": 396,
   "metadata": {},
   "outputs": [],
   "source": [
    "# Reordenar y renombrar las columnas directamente\n",
    "new_order = ['Open', 'High', 'Low','Close','Volume', 'Adj Close']\n",
    "new_names = ['open', 'high', 'low','close','volume', 'Adj Close']\n",
    "\n",
    "# Reordenar las columnas\n",
    "prices = data[new_order]\n",
    "\n",
    "# Renombrar las columnas\n",
    "prices.columns = new_names\n"
   ]
  },
  {
   "cell_type": "code",
   "execution_count": 397,
   "metadata": {},
   "outputs": [],
   "source": [
    "prices=prices.sort_index()\n"
   ]
  },
  {
   "cell_type": "code",
   "execution_count": 398,
   "metadata": {},
   "outputs": [],
   "source": [
    "# Crear un nuevo DataFrame sin entradas duplicadas en el índice\n",
    "prices = prices.loc[~prices.index.duplicated(keep='first')]\n"
   ]
  },
  {
   "cell_type": "code",
   "execution_count": null,
   "metadata": {},
   "outputs": [],
   "source": [
    "prices.info()"
   ]
  },
  {
   "cell_type": "code",
   "execution_count": null,
   "metadata": {},
   "outputs": [],
   "source": [
    "print(prices.index.unique('ticker'))"
   ]
  },
  {
   "cell_type": "code",
   "execution_count": null,
   "metadata": {},
   "outputs": [],
   "source": [
    "num_ticker = prices.index.get_level_values('ticker').nunique()\n",
    "\n",
    "print(f'El índice \"ticker\" tiene {num_ticker} elementos únicos.')\n"
   ]
  },
  {
   "cell_type": "code",
   "execution_count": 402,
   "metadata": {},
   "outputs": [],
   "source": [
    "prices = prices.swaplevel(0, 1)"
   ]
  },
  {
   "cell_type": "code",
   "execution_count": null,
   "metadata": {},
   "outputs": [],
   "source": [
    "primera_fecha_no_nula = (\n",
    "    prices.notnull()                                      # Identifica valores no nulos\n",
    "    .any(axis=1)                                     # Filtra filas con al menos un valor no nulo\n",
    "    .groupby(level='ticker')                         # Agrupa por 'Ticker'\n",
    "    .apply(lambda x: x[x].index.get_level_values('date').min())  # Obtiene la primera fecha\n",
    ")\n",
    "primera_fecha_no_nula"
   ]
  },
  {
   "cell_type": "markdown",
   "metadata": {},
   "source": [
    "# Adaptamos VOX y IYR"
   ]
  },
  {
   "cell_type": "code",
   "execution_count": null,
   "metadata": {},
   "outputs": [],
   "source": [
    "np.mean(prices.xs('IYR', level='ticker').loc['2000-06-19':'2001-06-20']['close'] / prices.xs('XLF', level='ticker').loc['2000-06-19':'2001-06-20']['close'])"
   ]
  },
  {
   "cell_type": "code",
   "execution_count": null,
   "metadata": {},
   "outputs": [],
   "source": [
    "prices = prices.sort_index(level=1)\n",
    "\n",
    "spy_rows = prices.xs('XLF', level='ticker').head(375)\n",
    "factor_XLF = 1.6697486934700732\n",
    "spy_rows['close'] = spy_rows['close'] * factor_XLF\n",
    "spy_rows['ticker'] = 'IYR'\n",
    "spy_rows = spy_rows.set_index('ticker', append=True)\n",
    "spy_rows = spy_rows.swaplevel(0, 1)\n",
    "prices = pd.concat([prices, spy_rows])\n",
    "prices"
   ]
  },
  {
   "cell_type": "code",
   "execution_count": null,
   "metadata": {},
   "outputs": [],
   "source": [
    "np.mean(prices.xs('VOX', level='ticker').loc['2004-09-29':'2005-09-29']['close'] / prices.xs('QQQ', level='ticker').loc['2004-09-29':'2005-09-29']['close'])"
   ]
  },
  {
   "cell_type": "code",
   "execution_count": null,
   "metadata": {},
   "outputs": [],
   "source": [
    "spy_rows = prices.xs('QQQ', level='ticker').head(1448-51)\n",
    "spy_rows_1 = spy_rows.head(900)\n",
    "spy_rows_2 = spy_rows.tail(1448-51-900)\n",
    "spy_rows_1"
   ]
  },
  {
   "cell_type": "code",
   "execution_count": null,
   "metadata": {},
   "outputs": [],
   "source": [
    "prices = prices.sort_index(level=1)  # Nivel 0 normalmente corresponde a las fechas\n",
    "\n",
    "spy_rows = prices.xs('QQQ', level='ticker').head(1448-51)\n",
    "spy_rows_1 = spy_rows.head(900)\n",
    "spy_rows_2 = spy_rows.tail(1448-51-900)\n",
    "\n",
    "\n",
    "factor_VOX = 1.4035602852516436\n",
    "spy_rows_2['close'] = (spy_rows_2['close']) * factor_VOX\n",
    "spy_rows_1['close'] = (spy_rows_1['close']) * 0.75\n",
    "spy_rows = pd.concat([spy_rows_1, spy_rows_2])\n",
    "spy_rows['ticker'] = 'VOX'\n",
    "spy_rows = spy_rows.set_index('ticker', append=True)\n",
    "spy_rows = spy_rows.swaplevel(0, 1)\n",
    "prices = pd.concat([prices, spy_rows])\n",
    "prices"
   ]
  },
  {
   "cell_type": "code",
   "execution_count": 409,
   "metadata": {},
   "outputs": [],
   "source": [
    "#eliminamos spy\n",
    "prices = prices.drop(index='SPY', level=0)\n",
    "#eliminamos spy\n",
    "prices = prices.drop(index='QQQ', level=0)\n"
   ]
  },
  {
   "cell_type": "code",
   "execution_count": 410,
   "metadata": {},
   "outputs": [],
   "source": [
    "prices = prices.sort_index(level=list(range(len(prices.index.names))))  # Sort all levels"
   ]
  },
  {
   "cell_type": "code",
   "execution_count": null,
   "metadata": {
    "scrolled": true
   },
   "outputs": [],
   "source": [
    "#guardamos los datos de ohlcv\n",
    "prices.index = prices.index.set_levels([prices.index.levels[0], prices.index.levels[1].tz_localize(None)])\n",
    "\n",
    "\n",
    "with pd.HDFStore(DATA_STORE) as store:\n",
    "    store.put('data_close', prices.sort_index())\n",
    "    print(store.info())"
   ]
  },
  {
   "cell_type": "code",
   "execution_count": null,
   "metadata": {},
   "outputs": [],
   "source": [
    "#hacemos unstack de close sólo\n",
    "prices= (prices.loc[idx[:,str(START):str(END)], 'close']\n",
    "              .unstack('ticker'))\n",
    "prices"
   ]
  },
  {
   "cell_type": "code",
   "execution_count": null,
   "metadata": {},
   "outputs": [],
   "source": [
    "prices.loc['2000':].plot(figsize=(20,10))"
   ]
  },
  {
   "cell_type": "code",
   "execution_count": 414,
   "metadata": {
    "ExecuteTime": {
     "end_time": "2020-06-16T21:40:15.610681Z",
     "start_time": "2020-06-16T21:40:15.598902Z"
    }
   },
   "outputs": [],
   "source": [
    "tiene_indices_duplicados = prices.index.duplicated().any()\n"
   ]
  },
  {
   "cell_type": "code",
   "execution_count": null,
   "metadata": {},
   "outputs": [],
   "source": [
    "tiene_indices_duplicados"
   ]
  },
  {
   "cell_type": "code",
   "execution_count": 416,
   "metadata": {
    "ExecuteTime": {
     "end_time": "2020-06-16T21:40:16.028139Z",
     "start_time": "2020-06-16T21:40:15.935843Z"
    }
   },
   "outputs": [],
   "source": [
    "monthly_prices_real = prices.resample('M').last()#para que las betas de fama french esten alineadas\n",
    "monthly_prices = prices.resample('W').last()"
   ]
  },
  {
   "cell_type": "code",
   "execution_count": null,
   "metadata": {
    "ExecuteTime": {
     "end_time": "2020-06-16T21:40:27.231947Z",
     "start_time": "2020-06-16T21:40:16.228511Z"
    }
   },
   "outputs": [],
   "source": [
    "outlier_cutoff = 0.01\n",
    "data = pd.DataFrame()\n",
    "lags =  [1, 2, 3, 6, 12, 52] #para semanas\n",
    "for lag in lags:\n",
    "    data[f'return_{lag}m'] = (monthly_prices\n",
    "                           .pct_change(lag)\n",
    "                           .stack()\n",
    "                           .pipe(lambda x: x.clip(lower=x.quantile(outlier_cutoff),\n",
    "                                                  upper=x.quantile(1-outlier_cutoff)))\n",
    "                           .add(1)\n",
    "                           .pow(1/lag)\n",
    "                           .sub(1)\n",
    "                           )\n",
    "data = data.swaplevel().dropna()\n",
    "data.info()"
   ]
  },
  {
   "cell_type": "code",
   "execution_count": 419,
   "metadata": {},
   "outputs": [],
   "source": [
    "#para fama frech\n",
    "return_1m_real=monthly_prices_real.pct_change()"
   ]
  },
  {
   "cell_type": "code",
   "execution_count": null,
   "metadata": {},
   "outputs": [],
   "source": [
    "return_1m_real=return_1m_real.stack().swaplevel().dropna()\n",
    "return_1m_real.head()"
   ]
  },
  {
   "cell_type": "code",
   "execution_count": 421,
   "metadata": {},
   "outputs": [],
   "source": [
    "return_1m_real.name='return_1m'"
   ]
  },
  {
   "cell_type": "code",
   "execution_count": null,
   "metadata": {
    "ExecuteTime": {
     "end_time": "2020-06-16T21:40:32.958835Z",
     "start_time": "2020-06-16T21:40:27.238196Z"
    }
   },
   "outputs": [],
   "source": [
    "min_obs = 52*10 #semanal\n",
    "nobs = data.groupby(level='ticker').size()\n",
    "keep = nobs[nobs>min_obs].index\n",
    "\n",
    "data = data.loc[idx[keep,:], :]\n",
    "data.info()"
   ]
  },
  {
   "cell_type": "code",
   "execution_count": null,
   "metadata": {
    "ExecuteTime": {
     "end_time": "2020-06-16T21:40:33.200122Z",
     "start_time": "2020-06-16T21:40:32.964996Z"
    }
   },
   "outputs": [],
   "source": [
    "data.describe()"
   ]
  },
  {
   "cell_type": "code",
   "execution_count": 425,
   "metadata": {},
   "outputs": [],
   "source": [
    "data2=data.copy()"
   ]
  },
  {
   "cell_type": "markdown",
   "metadata": {},
   "source": [
    "## Nomalizado de retornos"
   ]
  },
  {
   "cell_type": "code",
   "execution_count": 426,
   "metadata": {},
   "outputs": [],
   "source": [
    "def normalize_by_rolling_std(series):\n",
    "    return series / series.rolling(52).std().shift(1)"
   ]
  },
  {
   "cell_type": "code",
   "execution_count": 427,
   "metadata": {},
   "outputs": [],
   "source": [
    "# normaliza=True"
   ]
  },
  {
   "cell_type": "code",
   "execution_count": 428,
   "metadata": {},
   "outputs": [],
   "source": [
    "if normaliza==True:\n",
    "    lags = [1, 2, 3, 6, 12, 52] #para semanas\n",
    "    for lag in lags:\n",
    "           data[f'return_{lag}m'] = (data.groupby(level='ticker')[f'return_{lag}m']\n",
    "                             .transform(normalize_by_rolling_std)\n",
    "                             )"
   ]
  },
  {
   "cell_type": "code",
   "execution_count": 429,
   "metadata": {},
   "outputs": [],
   "source": [
    "# Función para neutralizar (normalizar) los retornos por cada fecha\n",
    "def neutralize(group):\n",
    "    return (group - group.mean()) / group.std()\n"
   ]
  },
  {
   "cell_type": "code",
   "execution_count": 430,
   "metadata": {},
   "outputs": [],
   "source": [
    "neutraliza = False"
   ]
  },
  {
   "cell_type": "code",
   "execution_count": 431,
   "metadata": {},
   "outputs": [],
   "source": [
    "if neutraliza==True:\n",
    "    lags = [1, 2, 3, 6, 12, 52] #para semanas\n",
    "    for lag in lags:\n",
    "           data[f'return_{lag}m'] = (data.groupby(level='date')[f'return_{lag}m']\n",
    "                             .transform(neutralize))"
   ]
  },
  {
   "cell_type": "code",
   "execution_count": null,
   "metadata": {},
   "outputs": [],
   "source": [
    "data.tail(20)"
   ]
  },
  {
   "cell_type": "code",
   "execution_count": null,
   "metadata": {},
   "outputs": [],
   "source": [
    "data2.tail(20)"
   ]
  },
  {
   "cell_type": "code",
   "execution_count": null,
   "metadata": {
    "ExecuteTime": {
     "end_time": "2020-06-16T21:40:35.192980Z",
     "start_time": "2020-06-16T21:40:33.206081Z"
    }
   },
   "outputs": [],
   "source": [
    "# cmap = sns.diverging_palette(10, 220, as_cmap=True)\n",
    "sns.clustermap(data.corr('spearman'), annot=True, center=0, cmap='Blues');"
   ]
  },
  {
   "cell_type": "markdown",
   "metadata": {},
   "source": [
    "## Rolling Factor Betas"
   ]
  },
  {
   "cell_type": "code",
   "execution_count": null,
   "metadata": {
    "ExecuteTime": {
     "end_time": "2020-06-16T21:40:35.392523Z",
     "start_time": "2020-06-16T21:40:35.235572Z"
    }
   },
   "outputs": [],
   "source": [
    "factors = ['Mkt-RF', 'SMB', 'HML', 'RMW', 'CMA']\n",
    "factor_data = web.DataReader('F-F_Research_Data_5_Factors_2x3', 'famafrench', start='1999')[0].drop('RF', axis=1)\n",
    "factor_data.index = factor_data.index.to_timestamp()\n",
    "factor_data = factor_data.resample('M').last().ffill().div(100) #semanal\n",
    "\n",
    "factor_data.index.name = 'date'\n",
    "factor_data.info()"
   ]
  },
  {
   "cell_type": "markdown",
   "metadata": {},
   "source": [
    "### importante metemos el retorno sin adaptar para la regresión"
   ]
  },
  {
   "cell_type": "code",
   "execution_count": null,
   "metadata": {},
   "outputs": [],
   "source": [
    "data2['return_1m'].name"
   ]
  },
  {
   "cell_type": "code",
   "execution_count": null,
   "metadata": {
    "ExecuteTime": {
     "end_time": "2020-06-16T21:40:35.603073Z",
     "start_time": "2020-06-16T21:40:35.397091Z"
    },
    "scrolled": true
   },
   "outputs": [],
   "source": [
    "factor_data = factor_data.join(return_1m_real).sort_index()\n",
    "factor_data.info()"
   ]
  },
  {
   "cell_type": "code",
   "execution_count": 439,
   "metadata": {
    "ExecuteTime": {
     "end_time": "2020-06-16T21:40:41.278324Z",
     "start_time": "2020-06-16T21:40:35.607380Z"
    }
   },
   "outputs": [],
   "source": [
    "T = 24\n",
    "betas = (factor_data.groupby(level='ticker',\n",
    "                             group_keys=False)\n",
    "         .apply(lambda x: RollingOLS(endog=x.return_1m,\n",
    "                                     exog=sm.add_constant(x.drop('return_1m', axis=1)),\n",
    "                                     window=min(T, x.shape[0]-1))\n",
    "                .fit(params_only=True)\n",
    "                .params\n",
    "                #.drop('const', axis=1)\n",
    "               ))"
   ]
  },
  {
   "cell_type": "code",
   "execution_count": null,
   "metadata": {
    "ExecuteTime": {
     "end_time": "2020-06-16T21:40:41.635859Z",
     "start_time": "2020-06-16T21:40:41.288895Z"
    }
   },
   "outputs": [],
   "source": [
    "betas.describe().join(betas.sum(1).describe().to_frame('total'))"
   ]
  },
  {
   "cell_type": "code",
   "execution_count": null,
   "metadata": {
    "ExecuteTime": {
     "end_time": "2020-06-16T21:40:42.563309Z",
     "start_time": "2020-06-16T21:40:41.640793Z"
    }
   },
   "outputs": [],
   "source": [
    "cmap = sns.diverging_palette(10, 220, as_cmap=True)\n",
    "sns.clustermap(betas.corr(), annot=True, cmap=cmap, center=0);"
   ]
  },
  {
   "cell_type": "code",
   "execution_count": null,
   "metadata": {},
   "outputs": [],
   "source": [
    "betas.info()\n"
   ]
  },
  {
   "cell_type": "code",
   "execution_count": null,
   "metadata": {},
   "outputs": [],
   "source": [
    "betas.loc['XLK',\"2002\"].head(10)"
   ]
  },
  {
   "cell_type": "code",
   "execution_count": null,
   "metadata": {
    "ExecuteTime": {
     "end_time": "2020-06-16T21:40:46.026266Z",
     "start_time": "2020-06-16T21:40:42.568188Z"
    },
    "scrolled": true
   },
   "outputs": [],
   "source": [
    "data = (data\n",
    "        .join(betas\n",
    "              .groupby(level='ticker')\n",
    "              .shift(1)))#hacemos shift pq lo conoceremos un mes despues\n",
    "data.info()"
   ]
  },
  {
   "cell_type": "code",
   "execution_count": 446,
   "metadata": {},
   "outputs": [],
   "source": [
    "factors=['const','Mkt-RF', 'SMB', 'HML', 'RMW', 'CMA']"
   ]
  },
  {
   "cell_type": "code",
   "execution_count": null,
   "metadata": {
    "ExecuteTime": {
     "end_time": "2020-06-16T21:40:53.572793Z",
     "start_time": "2020-06-16T21:40:46.033057Z"
    }
   },
   "outputs": [],
   "source": [
    "data.loc[:, factors] = data.groupby('ticker')[factors].transform(lambda x: x.ffill())\n",
    "data.info()"
   ]
  },
  {
   "cell_type": "code",
   "execution_count": 448,
   "metadata": {},
   "outputs": [],
   "source": [
    "#incorporamos los cambios en los datos de betas\n",
    "for columna in factors:\n",
    " data[columna + '_diff'] = data[columna].diff().replace(0, np.nan).ffill()"
   ]
  },
  {
   "cell_type": "markdown",
   "metadata": {},
   "source": [
    "## Momentum factors"
   ]
  },
  {
   "cell_type": "code",
   "execution_count": 449,
   "metadata": {
    "ExecuteTime": {
     "end_time": "2020-06-16T21:40:53.607150Z",
     "start_time": "2020-06-16T21:40:53.577727Z"
    }
   },
   "outputs": [],
   "source": [
    "for lag in [2,3,6,12, 52]: #para semanas\n",
    "    data[f'momentum_{lag}'] = data[f'return_{lag}m'].sub(data.return_1m)\n",
    "data[f'momentum_3_12'] = data[f'return_12m'].sub(data.return_3m)"
   ]
  },
  {
   "cell_type": "markdown",
   "metadata": {},
   "source": [
    "## Date Indicators"
   ]
  },
  {
   "cell_type": "code",
   "execution_count": 450,
   "metadata": {
    "ExecuteTime": {
     "end_time": "2020-06-16T21:40:53.763723Z",
     "start_time": "2020-06-16T21:40:53.608546Z"
    }
   },
   "outputs": [],
   "source": [
    "dates = data.index.get_level_values('date')\n",
    "data['month'] = dates.month"
   ]
  },
  {
   "cell_type": "markdown",
   "metadata": {},
   "source": [
    "## Sector"
   ]
  },
  {
   "cell_type": "code",
   "execution_count": 454,
   "metadata": {},
   "outputs": [],
   "source": [
    "# Crear una Serie con el índice del DataFrame y los valores del nivel 'ticker'\n",
    "ticker_series = pd.Series(data.index.get_level_values('ticker'), index=data.index)\n",
    "\n",
    "# Usar esta Serie para llenar los valores NA\n",
    "data['sector'] = ticker_series"
   ]
  },
  {
   "cell_type": "code",
   "execution_count": null,
   "metadata": {},
   "outputs": [],
   "source": [
    "primera_fecha_no_nula = (\n",
    "    data.notnull()                                      # Identifica valores no nulos\n",
    "    .any(axis=1)                                     # Filtra filas con al menos un valor no nulo\n",
    "    .groupby(level='ticker')                         # Agrupa por 'Ticker'\n",
    "    .apply(lambda x: x[x].index.get_level_values('date').min())  # Obtiene la primera fecha\n",
    ")\n",
    "primera_fecha_no_nula"
   ]
  },
  {
   "cell_type": "code",
   "execution_count": null,
   "metadata": {},
   "outputs": [],
   "source": [
    "data[data['sector'].isna()].index.get_level_values(0).unique()\n"
   ]
  },
  {
   "cell_type": "markdown",
   "metadata": {},
   "source": [
    "## Lagged returns"
   ]
  },
  {
   "cell_type": "code",
   "execution_count": null,
   "metadata": {
    "ExecuteTime": {
     "end_time": "2020-06-16T21:40:54.391769Z",
     "start_time": "2020-06-16T21:40:53.765084Z"
    }
   },
   "outputs": [],
   "source": [
    "for t in range(1, 7):\n",
    "    data[f'return_1m_t-{t}'] = data.groupby(level='ticker').return_1m.shift(t)\n",
    "data.info()"
   ]
  },
  {
   "cell_type": "markdown",
   "metadata": {},
   "source": [
    "## Target: Holding Period Returns"
   ]
  },
  {
   "cell_type": "code",
   "execution_count": 460,
   "metadata": {
    "ExecuteTime": {
     "end_time": "2020-06-16T21:40:54.971089Z",
     "start_time": "2020-06-16T21:40:54.396090Z"
    }
   },
   "outputs": [],
   "source": [
    "for t in [1,2,3,6,12]:\n",
    "    data[f'target_{t}m'] = data.groupby(level='ticker')[f'return_{t}m'].shift(-t)"
   ]
  },
  {
   "cell_type": "code",
   "execution_count": null,
   "metadata": {
    "ExecuteTime": {
     "end_time": "2020-06-16T21:40:55.176943Z",
     "start_time": "2020-06-16T21:40:54.988343Z"
    }
   },
   "outputs": [],
   "source": [
    "cols = ['target_1m',\n",
    "        'target_2m',\n",
    "        'target_3m', \n",
    "        'return_1m',\n",
    "        'return_2m',\n",
    "        'return_3m',\n",
    "        'return_1m_t-1',\n",
    "        'return_1m_t-2',\n",
    "        'return_1m_t-3']\n",
    "\n",
    "data[cols].dropna().sort_index().head(10)"
   ]
  },
  {
   "cell_type": "markdown",
   "metadata": {},
   "source": [
    "# Variables Macroeconómicas"
   ]
  },
  {
   "cell_type": "code",
   "execution_count": 463,
   "metadata": {},
   "outputs": [],
   "source": [
    "indicators = (['JHDUSRGDPBR', 'T10Y3M', 'BAMLC0A0CM','BAMLH0A0HYM2','BAMLHE00EHYIOAS', 'UMCSENT','UNRATE','GDPC1','DCOILWTICO',\n",
    "               'CORESTICKM159SFRBATL','USSLIND',\n",
    "               'VIXCLS','OVXCLS','ICSA','MARTSMPCSM44000USS','RSXFS','TREAST','DGS1', 'USREC', 'T10Y2Y'])\n",
    "var_names = (['recession', 'yield_curve', 'corp_oas', 'hy_oas','eu_hy_oas', 'sentiment','empleo','real_gdp','oil',\n",
    "              'inflacion','leading',\n",
    "              'vix','vixoil','weekjobclaims','retail_sales_percent','retail_sales','us_asset_balance','1y_yield', 'USREC', 'curva_tipos'])"
   ]
  },
  {
   "cell_type": "code",
   "execution_count": 464,
   "metadata": {},
   "outputs": [],
   "source": [
    "features = var_names[1:]\n",
    "label = var_names[0]"
   ]
  },
  {
   "cell_type": "code",
   "execution_count": 465,
   "metadata": {},
   "outputs": [],
   "source": [
    "var_display = (['Recession', 'Yield Curve', 'corp_oas', 'hy_oas','eu_hy_oas' , 'Sentiment','empleo','real_gdp','oil','inflacion',\n",
    "              'leading','vix','vixoil','weekjobclaims','retail_sales_percent',\n",
    "                'retail_sales','us_asset_balance','1y_yield', 'USREC', 'curva_tipos'])\n",
    "col_dict = dict(zip(var_names, var_display))"
   ]
  },
  {
   "cell_type": "code",
   "execution_count": 466,
   "metadata": {},
   "outputs": [],
   "source": [
    "data_fred = (web.DataReader(indicators, 'fred', 1980, END+1)\n",
    "        \n",
    "        \n",
    "        .resample('W') \n",
    "        .last()\n",
    "        .ffill())  \n",
    "data_fred.columns = var_names"
   ]
  },
  {
   "cell_type": "code",
   "execution_count": null,
   "metadata": {},
   "outputs": [],
   "source": [
    "data_fred.info()"
   ]
  },
  {
   "cell_type": "code",
   "execution_count": 468,
   "metadata": {},
   "outputs": [],
   "source": [
    "data_fred.index.name = 'date'"
   ]
  },
  {
   "cell_type": "code",
   "execution_count": 470,
   "metadata": {},
   "outputs": [],
   "source": [
    "#incorporamos los cambios en los datos\n",
    "for columna in data_fred.columns:\n",
    "    data_fred[columna + '_diff'] = data_fred[columna].diff().replace(0, np.nan).ffill()\n",
    "    data_fred[columna + '_chg'] = data_fred[columna].pct_change().replace(0, np.nan).ffill()"
   ]
  },
  {
   "cell_type": "code",
   "execution_count": 471,
   "metadata": {},
   "outputs": [],
   "source": [
    "#eliminamos algunas variables que tienen mucha dependencia del nivel historico\n",
    "data_fred = data_fred.drop(['empleo','us_asset_balance'], axis=1)"
   ]
  },
  {
   "cell_type": "code",
   "execution_count": 472,
   "metadata": {},
   "outputs": [],
   "source": [
    "#para hacer bbfill sólo hasta que encuentre un primer valor\n",
    "for columna in data_fred.columns:\n",
    "    # Verificar si la columna tiene NaN al inicio\n",
    "    if data_fred[columna].isna().iloc[0]:  \n",
    "        # Obtiene el primer valor no NaN de la columna\n",
    "        primer_valor = data_fred[columna].dropna().iloc[0]\n",
    "        # Rellena los NaN iniciales con el primer valor no NaN\n",
    "        data_fred[columna][:data_fred[columna].first_valid_index()] = primer_valor\n"
   ]
  },
  {
   "cell_type": "code",
   "execution_count": 474,
   "metadata": {},
   "outputs": [],
   "source": [
    "#data_fred.index = data_fred.index.to_timestamp()\n",
    "data_fred.index.name = 'date'"
   ]
  },
  {
   "cell_type": "code",
   "execution_count": null,
   "metadata": {},
   "outputs": [],
   "source": [
    "data = (data\n",
    "        .join(data_fred))\n",
    "data.info()"
   ]
  },
  {
   "cell_type": "code",
   "execution_count": 476,
   "metadata": {},
   "outputs": [],
   "source": [
    "def determinar_fase(row):\n",
    "    if row['USREC'] == 1:\n",
    "        return 'Recesión'\n",
    "    elif row['USREC'] == 0 and row['curva_tipos'] < 0:\n",
    "        return 'Desaceleración'\n",
    "    elif row['USREC'] == 0 and row['real_gdp'] > row['pib_media_5']:\n",
    "        return 'Expansión'\n",
    "    elif row['USREC'] == 0 and row['real_gdp'] <= row['pib_media_5']:\n",
    "        return 'Recuperación'\n",
    "    return 'Desconocida'\n",
    "\n",
    "data['pib_media_5'] = data['real_gdp'].rolling(window=12).mean()\n",
    "\n",
    "# Crear columna 'fase'\n",
    "data['fase'] = data.apply(determinar_fase, axis=1)\n"
   ]
  },
  {
   "cell_type": "markdown",
   "metadata": {},
   "source": [
    "# Guardamos la información"
   ]
  },
  {
   "cell_type": "code",
   "execution_count": null,
   "metadata": {
    "ExecuteTime": {
     "end_time": "2020-06-16T21:40:58.632330Z",
     "start_time": "2020-06-16T21:40:58.003188Z"
    },
    "scrolled": true
   },
   "outputs": [],
   "source": [
    "with pd.HDFStore(DATA_STORE) as store:\n",
    "    store.put('engineered_features', data.sort_index())\n",
    "    store.put('data_raw', data2.sort_index())#antes de normalizado de retornos\n",
    "    print(store.info())"
   ]
  },
  {
   "cell_type": "code",
   "execution_count": null,
   "metadata": {},
   "outputs": [],
   "source": []
  }
 ],
 "metadata": {
  "kernelspec": {
   "display_name": "Python 3",
   "language": "python",
   "name": "python3"
  },
  "language_info": {
   "codemirror_mode": {
    "name": "ipython",
    "version": 3
   },
   "file_extension": ".py",
   "mimetype": "text/x-python",
   "name": "python",
   "nbconvert_exporter": "python",
   "pygments_lexer": "ipython3",
   "version": "3.12.3"
  },
  "toc": {
   "base_numbering": 1,
   "nav_menu": {},
   "number_sections": true,
   "sideBar": true,
   "skip_h1_title": true,
   "title_cell": "Table of Contents",
   "title_sidebar": "Contents",
   "toc_cell": false,
   "toc_position": {
    "height": "calc(100% - 180px)",
    "left": "10px",
    "top": "150px",
    "width": "230.355px"
   },
   "toc_section_display": true,
   "toc_window_display": true
  }
 },
 "nbformat": 4,
 "nbformat_minor": 4
}
