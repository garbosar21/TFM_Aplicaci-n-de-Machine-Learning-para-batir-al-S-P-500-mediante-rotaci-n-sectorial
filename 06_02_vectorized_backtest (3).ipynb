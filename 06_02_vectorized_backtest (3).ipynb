{
 "cells": [
  {
   "cell_type": "markdown",
   "metadata": {
    "id": "2a_wI9uRhd-l"
   },
   "source": [
    "# Vectorized Backtest"
   ]
  },
  {
   "cell_type": "code",
   "execution_count": 173,
   "metadata": {
    "ExecuteTime": {
     "end_time": "2021-04-15T20:18:41.096668Z",
     "start_time": "2021-04-15T20:18:41.093832Z"
    },
    "id": "91r-x0z_hd-n"
   },
   "outputs": [],
   "source": [
    "import warnings\n",
    "warnings.filterwarnings('ignore')"
   ]
  },
  {
   "cell_type": "code",
   "execution_count": 174,
   "metadata": {
    "ExecuteTime": {
     "end_time": "2021-04-15T20:18:41.613556Z",
     "start_time": "2021-04-15T20:18:41.097748Z"
    },
    "executionInfo": {
     "elapsed": 4171,
     "status": "ok",
     "timestamp": 1733251186483,
     "user": {
      "displayName": "David García Agudiez",
      "userId": "10261052937244550342"
     },
     "user_tz": -60
    },
    "id": "JD_2OPOUhd-o"
   },
   "outputs": [],
   "source": [
    "from pathlib import Path\n",
    "from time import time\n",
    "import datetime\n",
    "\n",
    "import numpy as np\n",
    "import pandas as pd\n",
    "import pandas_datareader.data as web\n",
    "\n",
    "from scipy.stats import spearmanr\n",
    "\n",
    "import matplotlib.pyplot as plt\n",
    "from matplotlib.ticker import FuncFormatter\n",
    "import seaborn as sns"
   ]
  },
  {
   "cell_type": "code",
   "execution_count": 175,
   "metadata": {
    "ExecuteTime": {
     "end_time": "2021-04-15T20:18:41.616352Z",
     "start_time": "2021-04-15T20:18:41.614577Z"
    },
    "id": "nWl0UI2Mhd-p"
   },
   "outputs": [],
   "source": [
    "sns.set_style('whitegrid')\n",
    "np.random.seed(42)"
   ]
  },
  {
   "cell_type": "markdown",
   "metadata": {},
   "source": [
    "# settings iniciales"
   ]
  },
  {
   "cell_type": "code",
   "execution_count": 176,
   "metadata": {},
   "outputs": [],
   "source": [
    "#periodo target. 1 implica que queremos predecir 1 periodo siguiente. (una semana en caso de datos semanales)\n",
    "periodo_target=1 "
   ]
  },
  {
   "cell_type": "markdown",
   "metadata": {
    "id": "dcXtmWtIhd-p"
   },
   "source": [
    "## Load Data"
   ]
  },
  {
   "cell_type": "markdown",
   "metadata": {
    "id": "kRGLf2Rthd-q"
   },
   "source": [
    "### Return Predictions"
   ]
  },
  {
   "cell_type": "code",
   "execution_count": null,
   "metadata": {
    "colab": {
     "base_uri": "https://localhost:8080/",
     "height": 352
    },
    "executionInfo": {
     "elapsed": 52,
     "status": "error",
     "timestamp": 1733251167910,
     "user": {
      "displayName": "David García Agudiez",
      "userId": "10261052937244550342"
     },
     "user_tz": -60
    },
    "id": "9uKQ8AL2hd-r",
    "outputId": "7099e925-69e9-4422-930e-55207b291926"
   },
   "outputs": [],
   "source": [
    "\n",
    "\n",
    "# Lee el archivo hdf\n",
    "store = pd.HDFStore('../data/predictions.h5')\n",
    "\n",
    "# Obtiene las claves\n",
    "keys = store.keys()\n",
    "\n",
    "# Cierra el archivo hdf\n",
    "store.close()\n",
    "\n",
    "# Imprime las claves\n",
    "print(keys)"
   ]
  },
  {
   "cell_type": "code",
   "execution_count": 178,
   "metadata": {
    "executionInfo": {
     "elapsed": 43,
     "status": "aborted",
     "timestamp": 1733251167911,
     "user": {
      "displayName": "David García Agudiez",
      "userId": "10261052937244550342"
     },
     "user_tz": -60
    },
    "id": "4y70GFF6hd-s"
   },
   "outputs": [],
   "source": [
    "#tomamos los resultados de las 10 mejores configuraciones de los predictores\n",
    "predictions = pd.concat([pd.read_hdf('../data/predictions.h5', 'lgb/train/01'),\n",
    "                   pd.read_hdf('../data/predictions.h5', 'lgb/test/01').drop('y_test', axis=1)])\n",
    "#tomamos la media\n",
    "predictions = (predictions.loc[~predictions.index.duplicated()]#si se duplican indices tomara los del train, ose los primeros\n",
    "                   .iloc[:, :10]\n",
    "                   .mean(1)\n",
    "                   .sort_index()\n",
    "                   .dropna()\n",
    "                  .to_frame('prediction'))\n",
    "tickers = predictions.index.get_level_values('ticker').unique().tolist()#modificado ticker por symbol\n"
   ]
  },
  {
   "cell_type": "code",
   "execution_count": 179,
   "metadata": {
    "executionInfo": {
     "elapsed": 43,
     "status": "aborted",
     "timestamp": 1733251167911,
     "user": {
      "displayName": "David García Agudiez",
      "userId": "10261052937244550342"
     },
     "user_tz": -60
    },
    "id": "vKpcKUIohd-s"
   },
   "outputs": [],
   "source": [
    "datos_train=(pd.read_hdf('../data/predictions.h5', 'lgb/train/01'))\n",
    "datos_test=pd.read_hdf('../data/predictions.h5', 'lgb/test/01')"
   ]
  },
  {
   "cell_type": "code",
   "execution_count": null,
   "metadata": {
    "executionInfo": {
     "elapsed": 41,
     "status": "aborted",
     "timestamp": 1733251167912,
     "user": {
      "displayName": "David García Agudiez",
      "userId": "10261052937244550342"
     },
     "user_tz": -60
    },
    "id": "ZwTewpKRhd-t"
   },
   "outputs": [],
   "source": [
    "#fin del train\n",
    "datos_train.sort_index().loc['XLY'].tail(1)"
   ]
  },
  {
   "cell_type": "code",
   "execution_count": null,
   "metadata": {
    "executionInfo": {
     "elapsed": 40,
     "status": "aborted",
     "timestamp": 1733251167913,
     "user": {
      "displayName": "David García Agudiez",
      "userId": "10261052937244550342"
     },
     "user_tz": -60
    },
    "id": "jP9Jmytfhd-t"
   },
   "outputs": [],
   "source": [
    "#comienzo del test\n",
    "datos_test.sort_index().loc['XLY'].head(1)"
   ]
  },
  {
   "cell_type": "code",
   "execution_count": 184,
   "metadata": {
    "executionInfo": {
     "elapsed": 34,
     "status": "aborted",
     "timestamp": 1733251167916,
     "user": {
      "displayName": "David García Agudiez",
      "userId": "10261052937244550342"
     },
     "user_tz": -60
    },
    "id": "jC5D7y6xhd-v"
   },
   "outputs": [],
   "source": [
    "predicciones=(predictions\n",
    "            .unstack('ticker')\n",
    "            .prediction)\n"
   ]
  },
  {
   "cell_type": "code",
   "execution_count": null,
   "metadata": {
    "executionInfo": {
     "elapsed": 33,
     "status": "aborted",
     "timestamp": 1733251167917,
     "user": {
      "displayName": "David García Agudiez",
      "userId": "10261052937244550342"
     },
     "user_tz": -60
    },
    "id": "VDcbqLAuhd-v"
   },
   "outputs": [],
   "source": [
    "predicciones.info()"
   ]
  },
  {
   "cell_type": "markdown",
   "metadata": {
    "id": "NknrqJkdhd-v"
   },
   "source": [
    "### SP500 Benchmark"
   ]
  },
  {
   "cell_type": "code",
   "execution_count": 186,
   "metadata": {
    "ExecuteTime": {
     "end_time": "2021-04-15T20:18:42.015555Z",
     "start_time": "2021-04-15T20:18:41.814603Z"
    },
    "executionInfo": {
     "elapsed": 33,
     "status": "aborted",
     "timestamp": 1733251167918,
     "user": {
      "displayName": "David García Agudiez",
      "userId": "10261052937244550342"
     },
     "user_tz": -60
    },
    "id": "RevdT8kDhd-w"
   },
   "outputs": [],
   "source": [
    "#sp500 = web.DataReader('SP500', 'fred', '2014', '2018').pct_change()"
   ]
  },
  {
   "cell_type": "code",
   "execution_count": 187,
   "metadata": {
    "ExecuteTime": {
     "end_time": "2021-04-15T20:18:42.023177Z",
     "start_time": "2021-04-15T20:18:42.016704Z"
    },
    "executionInfo": {
     "elapsed": 32,
     "status": "aborted",
     "timestamp": 1733251167918,
     "user": {
      "displayName": "David García Agudiez",
      "userId": "10261052937244550342"
     },
     "user_tz": -60
    },
    "id": "REnSBSHQhd-w"
   },
   "outputs": [],
   "source": [
    "#sp500.info()"
   ]
  },
  {
   "cell_type": "markdown",
   "metadata": {
    "id": "75ZCqcx2hd-w"
   },
   "source": [
    "## Compute Forward Returns"
   ]
  },
  {
   "cell_type": "code",
   "execution_count": 188,
   "metadata": {
    "id": "z2s_0zXShd-w"
   },
   "outputs": [],
   "source": [
    "DATA_STORE = '../data/assets.h5'"
   ]
  },
  {
   "cell_type": "code",
   "execution_count": 189,
   "metadata": {
    "id": "fsGQRXWXhd-w"
   },
   "outputs": [],
   "source": [
    "idx = pd.IndexSlice"
   ]
  },
  {
   "cell_type": "code",
   "execution_count": 190,
   "metadata": {
    "id": "JsdvsYemhd-w"
   },
   "outputs": [],
   "source": [
    "with pd.HDFStore(DATA_STORE) as store:\n",
    "    data = (store['data_raw']\n",
    "            .sort_index()\n",
    "            .loc[idx[:, :'2024'], :])"
   ]
  },
  {
   "cell_type": "code",
   "execution_count": null,
   "metadata": {
    "id": "OPZdxp5Hhd-w",
    "outputId": "aac1e2e1-e4cd-461e-fed6-2aa541760f59"
   },
   "outputs": [],
   "source": [
    "data.info()"
   ]
  },
  {
   "cell_type": "code",
   "execution_count": 192,
   "metadata": {
    "id": "PleFDZpEhd-x"
   },
   "outputs": [],
   "source": [
    "#localizamos target_1m para las fechas y tickers de predictions\n",
    "fwd_returns = (data.loc[idx[predictions.index.get_level_values('ticker').unique(),\n",
    "               predictions.index.get_level_values('date').unique()],:]\n",
    "               .sort_index(ascending=False))"
   ]
  },
  {
   "cell_type": "code",
   "execution_count": null,
   "metadata": {
    "id": "h1WuGjT6hd-x",
    "outputId": "7f18734a-55b7-4d0e-8005-b37bbf4c8a3a"
   },
   "outputs": [],
   "source": [
    "fwd_returns"
   ]
  },
  {
   "cell_type": "markdown",
   "metadata": {},
   "source": [
    "# Definimos period target"
   ]
  },
  {
   "cell_type": "code",
   "execution_count": 194,
   "metadata": {},
   "outputs": [],
   "source": [
    "#creamos la variable target_{lookahead} mesesm\n",
    "fwd_returns[f'target_{periodo_target}m'] = data.groupby(level='ticker')[f'return_{periodo_target}m'].shift(-periodo_target)"
   ]
  },
  {
   "cell_type": "code",
   "execution_count": 195,
   "metadata": {
    "ExecuteTime": {
     "end_time": "2021-04-15T20:18:42.078933Z",
     "start_time": "2021-04-15T20:18:42.076653Z"
    },
    "id": "-N9pEz6_hd-x"
   },
   "outputs": [],
   "source": [
    "#se hace la asignación del retorno de un perdio fwd\n",
    "\n",
    "fwd_returns = fwd_returns[f'target_{periodo_target}m'].unstack('ticker').sort_index()"
   ]
  },
  {
   "cell_type": "code",
   "execution_count": null,
   "metadata": {
    "id": "VzDNkkiLhd-y",
    "outputId": "f9030af3-f648-4f26-cfc3-445f5a4c9a1d"
   },
   "outputs": [],
   "source": [
    "#eliminamos SPY\n",
    "#fwd_returns.drop('SPY.US', axis=1, inplace=True)\n",
    "fwd_returns.head()"
   ]
  },
  {
   "cell_type": "code",
   "execution_count": 197,
   "metadata": {
    "id": "r45hPpd1hd-y"
   },
   "outputs": [],
   "source": [
    "\n",
    "media = fwd_returns.mean(axis=1).shift(1)\n",
    "media.name = 'mediasec'"
   ]
  },
  {
   "cell_type": "markdown",
   "metadata": {
    "id": "XoG1LBr_hd-2"
   },
   "source": [
    "## Generate Signals"
   ]
  },
  {
   "cell_type": "code",
   "execution_count": null,
   "metadata": {
    "id": "mGspWfJIhd-3",
    "outputId": "1d2d9329-061c-42f7-f585-5780725d70e8"
   },
   "outputs": [],
   "source": [
    "#eliminamos SPY si comparamos con benchmark\n",
    "#predicciones.drop('SPY.US', axis=1, inplace=True)\n",
    "predicciones"
   ]
  },
  {
   "cell_type": "code",
   "execution_count": 199,
   "metadata": {
    "ExecuteTime": {
     "end_time": "2021-04-15T20:18:42.132668Z",
     "start_time": "2021-04-15T20:18:42.130696Z"
    },
    "id": "WmijPUTKhd-3"
   },
   "outputs": [],
   "source": [
    "N_LONG = N_SHORT = 4"
   ]
  },
  {
   "cell_type": "code",
   "execution_count": 200,
   "metadata": {
    "ExecuteTime": {
     "end_time": "2021-04-15T20:18:42.154438Z",
     "start_time": "2021-04-15T20:18:42.133750Z"
    },
    "id": "d6BpQL8Phd-3"
   },
   "outputs": [],
   "source": [
    "long_signals = ((predicciones\n",
    "                .where(predicciones > 0)\n",
    "                .rank(axis=1, ascending=False, method='first') < N_LONG)\n",
    "                .astype(int))\n",
    "short_signals = ((predicciones\n",
    "                  .where(predicciones < 0)\n",
    "                  .rank(axis=1, method='first') < N_SHORT)\n",
    "                 .astype(int))"
   ]
  },
  {
   "cell_type": "markdown",
   "metadata": {
    "id": "NPdWupULhd-3"
   },
   "source": [
    "## Compute Portfolio Returns"
   ]
  },
  {
   "cell_type": "code",
   "execution_count": 201,
   "metadata": {
    "ExecuteTime": {
     "end_time": "2021-04-15T20:18:42.163266Z",
     "start_time": "2021-04-15T20:18:42.155349Z"
    },
    "id": "xQXlOidXhd-3"
   },
   "outputs": [],
   "source": [
    "long_returns = long_signals.mul(fwd_returns).replace(0, np.nan).mean(axis=1).fillna(0)\n",
    "short_returns = short_signals.mul(-fwd_returns).replace(0, np.nan).mean(axis=1).fillna(0)\n",
    "strategy = long_returns.add(short_returns).to_frame('Strategy')"
   ]
  },
  {
   "cell_type": "code",
   "execution_count": null,
   "metadata": {
    "id": "RdtoWOJAhd-3",
    "outputId": "0bf45696-c188-4852-8493-d621bfdb1b50"
   },
   "outputs": [],
   "source": [
    "short_signals.loc['2019':].describe()"
   ]
  },
  {
   "cell_type": "code",
   "execution_count": null,
   "metadata": {
    "id": "wRdefrwthd-4",
    "outputId": "bef694c6-2bef-4386-b736-81a898fe586f"
   },
   "outputs": [],
   "source": [
    "short_signals.loc['2019':].sum()"
   ]
  },
  {
   "cell_type": "code",
   "execution_count": null,
   "metadata": {
    "id": "kcZ_UDGLhd-4",
    "outputId": "eb37efca-315f-4511-93b2-4123e687fe52"
   },
   "outputs": [],
   "source": [
    "long_signals.loc['2019':].describe()"
   ]
  },
  {
   "cell_type": "code",
   "execution_count": null,
   "metadata": {
    "id": "ldC3RObVhd-4",
    "outputId": "7b1e7bd3-563a-4774-8157-3ee606718750"
   },
   "outputs": [],
   "source": [
    "long_signals.loc['2019':].sum()"
   ]
  },
  {
   "cell_type": "markdown",
   "metadata": {
    "id": "JVp7Y-8Vhd-4"
   },
   "source": [
    "## Plot results"
   ]
  },
  {
   "cell_type": "code",
   "execution_count": null,
   "metadata": {
    "ExecuteTime": {
     "end_time": "2021-04-15T20:18:42.556164Z",
     "start_time": "2021-04-15T20:18:42.164137Z"
    },
    "id": "0aiUCFVYhd-4",
    "outputId": "58aefdc9-b8e1-4db4-b811-4db642e53223"
   },
   "outputs": [],
   "source": [
    "fig, axes = plt.subplots(ncols=2, figsize=(14,5))\n",
    "strategy.loc['2019':].join(media).add(1).cumprod().sub(1).plot(ax=axes[0], title='Cumulative Return')\n",
    "#strategy.join(sp500).add(1).cumprod().sub(1).plot(ax=axes[0], title='Cumulative Return')\n",
    "sns.distplot(strategy.dropna(), ax=axes[1], hist=False, label='Strategy')\n",
    "sns.distplot(media, ax=axes[1], hist=False, label='media')\n",
    "axes[1].set_title('Daily Standard Deviation')\n",
    "axes[0].yaxis.set_major_formatter(FuncFormatter(lambda y, _: '{:.0%}'.format(y)))\n",
    "axes[1].xaxis.set_major_formatter(FuncFormatter(lambda y, _: '{:.0%}'.format(y)))\n",
    "sns.despine()\n",
    "fig.tight_layout();"
   ]
  },
  {
   "cell_type": "code",
   "execution_count": null,
   "metadata": {
    "id": "QYDYkQHghd-4",
    "outputId": "272f0991-e1db-49b7-d7c5-a90c1fe33ccf"
   },
   "outputs": [],
   "source": [
    "#en vez de s&P, la media\n",
    "fig, axes = plt.subplots(ncols=2, figsize=(14,5))\n",
    "strategy.loc['2019':].join(media).add(1).cumprod().sub(1).plot(ax=axes[0], title='Cumulative Return')\n",
    "sns.distplot(strategy.dropna(), ax=axes[1], hist=False, label='Strategy')\n",
    "sns.distplot(media, ax=axes[1], hist=False, label='media')\n",
    "axes[1].set_title('Daily Standard Deviation')\n",
    "axes[0].yaxis.set_major_formatter(FuncFormatter(lambda y, _: '{:.0%}'.format(y)))\n",
    "axes[1].xaxis.set_major_formatter(FuncFormatter(lambda y, _: '{:.0%}'.format(y)))\n",
    "sns.despine()\n",
    "fig.tight_layout();"
   ]
  },
  {
   "cell_type": "code",
   "execution_count": 208,
   "metadata": {
    "ExecuteTime": {
     "end_time": "2021-04-15T20:18:42.563307Z",
     "start_time": "2021-04-15T20:18:42.557499Z"
    },
    "id": "RDjAglVHhd-5"
   },
   "outputs": [],
   "source": [
    "res = strategy.join(media).dropna()"
   ]
  },
  {
   "cell_type": "code",
   "execution_count": null,
   "metadata": {
    "ExecuteTime": {
     "end_time": "2021-04-15T20:18:42.576546Z",
     "start_time": "2021-04-15T20:18:42.564676Z"
    },
    "id": "h93ho1k3hd-5",
    "outputId": "d90beead-92ce-4d48-b450-0ca2c36f25d7"
   },
   "outputs": [],
   "source": [
    "res.std()"
   ]
  },
  {
   "cell_type": "code",
   "execution_count": null,
   "metadata": {
    "id": "1KluDedchd-5",
    "outputId": "6b3ac400-ae71-421c-8bc4-359f85609ab9"
   },
   "outputs": [],
   "source": [
    "fwd_returns.loc['2019':].cumsum().plot(figsize=(14,5))"
   ]
  },
  {
   "cell_type": "markdown",
   "metadata": {
    "id": "1J5gVzu2hd-5"
   },
   "source": [
    "solo largos"
   ]
  },
  {
   "cell_type": "code",
   "execution_count": 211,
   "metadata": {
    "id": "IVN2aV4Lhd-5"
   },
   "outputs": [],
   "source": [
    "#sólo largos\n",
    "strategy_long = long_returns.to_frame('Strategy')"
   ]
  },
  {
   "cell_type": "code",
   "execution_count": null,
   "metadata": {
    "id": "pzZEz3Mnhd-6",
    "outputId": "d8fba668-47d7-491b-a20f-020b3dfe8021"
   },
   "outputs": [],
   "source": [
    "fig, axes = plt.subplots(ncols=2, figsize=(14,5))\n",
    "strategy_long.loc['2019':].join(media).add(1).cumprod().sub(1).plot(ax=axes[0], title='Cumulative Return')\n",
    "sns.distplot(strategy_long.dropna(), ax=axes[1], hist=False, label='Strategy')\n",
    "sns.distplot(media, ax=axes[1], hist=False, label='media')\n",
    "axes[1].set_title('Daily Standard Deviation')\n",
    "axes[0].yaxis.set_major_formatter(FuncFormatter(lambda y, _: '{:.0%}'.format(y)))\n",
    "axes[1].xaxis.set_major_formatter(FuncFormatter(lambda y, _: '{:.0%}'.format(y)))\n",
    "sns.despine()\n",
    "fig.tight_layout();"
   ]
  },
  {
   "cell_type": "code",
   "execution_count": null,
   "metadata": {},
   "outputs": [],
   "source": [
    "long_signals.loc[:'2019'].sum()"
   ]
  },
  {
   "cell_type": "markdown",
   "metadata": {
    "id": "KWJSW4pAhd-6"
   },
   "source": [
    "solo cortos"
   ]
  },
  {
   "cell_type": "code",
   "execution_count": 214,
   "metadata": {
    "id": "YfEgTZqQhd-6"
   },
   "outputs": [],
   "source": [
    "#sólo CORTOS\n",
    "strategy_short = short_returns.to_frame('Strategy')"
   ]
  },
  {
   "cell_type": "code",
   "execution_count": null,
   "metadata": {
    "id": "rwh7VBJJhd-6",
    "outputId": "913aa62c-6dbc-4f26-c2a5-959cf7e65eec"
   },
   "outputs": [],
   "source": [
    "fig, axes = plt.subplots(ncols=2, figsize=(14,5))\n",
    "strategy_short.loc['2019':].join(media).add(1).cumprod().sub(1).plot(ax=axes[0], title='Cumulative Return')\n",
    "sns.distplot(strategy_short.dropna(), ax=axes[1], hist=False, label='Strategy')\n",
    "sns.distplot(media, ax=axes[1], hist=False, label='media')\n",
    "axes[1].set_title('Daily Standard Deviation')\n",
    "axes[0].yaxis.set_major_formatter(FuncFormatter(lambda y, _: '{:.0%}'.format(y)))\n",
    "axes[1].xaxis.set_major_formatter(FuncFormatter(lambda y, _: '{:.0%}'.format(y)))\n",
    "sns.despine()\n",
    "fig.tight_layout();"
   ]
  }
 ],
 "metadata": {
  "colab": {
   "provenance": []
  },
  "kernelspec": {
   "display_name": "Python 3",
   "language": "python",
   "name": "python3"
  },
  "language_info": {
   "codemirror_mode": {
    "name": "ipython",
    "version": 3
   },
   "file_extension": ".py",
   "mimetype": "text/x-python",
   "name": "python",
   "nbconvert_exporter": "python",
   "pygments_lexer": "ipython3",
   "version": "3.12.3"
  },
  "toc": {
   "base_numbering": 1,
   "nav_menu": {},
   "number_sections": true,
   "sideBar": true,
   "skip_h1_title": true,
   "title_cell": "Table of Contents",
   "title_sidebar": "Contents",
   "toc_cell": false,
   "toc_position": {},
   "toc_section_display": true,
   "toc_window_display": true
  }
 },
 "nbformat": 4,
 "nbformat_minor": 4
}
