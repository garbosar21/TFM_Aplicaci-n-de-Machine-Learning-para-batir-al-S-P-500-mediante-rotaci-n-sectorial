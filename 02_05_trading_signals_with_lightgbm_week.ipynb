{
 "cells": [
  {
   "cell_type": "markdown",
   "metadata": {},
   "source": [
    "# Generamos trading signals con LightGBM"
   ]
  },
  {
   "cell_type": "markdown",
   "metadata": {},
   "source": [
    "## Imports & Settings"
   ]
  },
  {
   "cell_type": "code",
   "execution_count": 131,
   "metadata": {
    "ExecuteTime": {
     "end_time": "2020-06-21T03:15:53.361121Z",
     "start_time": "2020-06-21T03:15:53.359422Z"
    },
    "execution": {
     "iopub.execute_input": "2024-09-23T16:39:02.019794Z",
     "iopub.status.busy": "2024-09-23T16:39:02.019794Z",
     "iopub.status.idle": "2024-09-23T16:39:02.035315Z",
     "shell.execute_reply": "2024-09-23T16:39:02.035315Z"
    }
   },
   "outputs": [],
   "source": [
    "import warnings\n",
    "warnings.filterwarnings('ignore')"
   ]
  },
  {
   "cell_type": "code",
   "execution_count": 132,
   "metadata": {
    "execution": {
     "iopub.execute_input": "2024-09-23T16:39:02.035315Z",
     "iopub.status.busy": "2024-09-23T16:39:02.035315Z",
     "iopub.status.idle": "2024-09-23T16:39:02.050993Z",
     "shell.execute_reply": "2024-09-23T16:39:02.050993Z"
    }
   },
   "outputs": [],
   "source": [
    "# !pip install lightgbm==3.3.2\n",
    "# !pip install catboost==1.0.5"
   ]
  },
  {
   "cell_type": "code",
   "execution_count": 133,
   "metadata": {
    "ExecuteTime": {
     "end_time": "2020-06-21T03:15:54.473652Z",
     "start_time": "2020-06-21T03:15:53.619170Z"
    },
    "execution": {
     "iopub.execute_input": "2024-09-23T16:39:02.050993Z",
     "iopub.status.busy": "2024-09-23T16:39:02.050993Z",
     "iopub.status.idle": "2024-09-23T16:39:05.040186Z",
     "shell.execute_reply": "2024-09-23T16:39:05.040186Z"
    },
    "scrolled": true
   },
   "outputs": [],
   "source": [
    "%matplotlib inline\n",
    "\n",
    "from pathlib import Path\n",
    "import sys, os\n",
    "from time import time\n",
    "from collections import defaultdict\n",
    "from itertools import product\n",
    "\n",
    "import numpy as np\n",
    "import pandas as pd\n",
    "\n",
    "import lightgbm as lgb\n",
    "from catboost import Pool, CatBoostRegressor\n",
    "\n",
    "from sklearn.linear_model import LinearRegression\n",
    "from scipy.stats import spearmanr\n",
    "\n",
    "from alphalens.tears import (create_summary_tear_sheet,\n",
    "                             create_full_tear_sheet)\n",
    "\n",
    "from alphalens.utils import get_clean_factor_and_forward_returns\n",
    "\n",
    "import matplotlib.pyplot as plt\n",
    "import seaborn as sns"
   ]
  },
  {
   "cell_type": "code",
   "execution_count": 134,
   "metadata": {
    "execution": {
     "iopub.execute_input": "2024-09-23T16:39:05.040186Z",
     "iopub.status.busy": "2024-09-23T16:39:05.040186Z",
     "iopub.status.idle": "2024-09-23T16:39:05.055811Z",
     "shell.execute_reply": "2024-09-23T16:39:05.055811Z"
    }
   },
   "outputs": [],
   "source": [
    "np.random.seed(42)"
   ]
  },
  {
   "cell_type": "code",
   "execution_count": 135,
   "metadata": {
    "ExecuteTime": {
     "end_time": "2020-06-21T03:15:54.477216Z",
     "start_time": "2020-06-21T03:15:54.474618Z"
    },
    "execution": {
     "iopub.execute_input": "2024-09-23T16:39:05.055811Z",
     "iopub.status.busy": "2024-09-23T16:39:05.055811Z",
     "iopub.status.idle": "2024-09-23T16:39:05.071322Z",
     "shell.execute_reply": "2024-09-23T16:39:05.071322Z"
    },
    "scrolled": true
   },
   "outputs": [],
   "source": [
    "sys.path.insert(1, os.path.join(sys.path[0], '..'))\n",
    "\n",
    "from new_utils import MultipleTimeSeriesCV, format_time"
   ]
  },
  {
   "cell_type": "code",
   "execution_count": 136,
   "metadata": {
    "ExecuteTime": {
     "end_time": "2020-06-21T03:15:54.489618Z",
     "start_time": "2020-06-21T03:15:54.478409Z"
    },
    "execution": {
     "iopub.execute_input": "2024-09-23T16:39:05.071322Z",
     "iopub.status.busy": "2024-09-23T16:39:05.071322Z",
     "iopub.status.idle": "2024-09-23T16:39:05.087060Z",
     "shell.execute_reply": "2024-09-23T16:39:05.087060Z"
    },
    "scrolled": true
   },
   "outputs": [],
   "source": [
    "sns.set_style('whitegrid')"
   ]
  },
  {
   "cell_type": "markdown",
   "metadata": {},
   "source": [
    "## Algunas declaraciones iniciales"
   ]
  },
  {
   "cell_type": "code",
   "execution_count": 137,
   "metadata": {
    "execution": {
     "iopub.execute_input": "2024-09-23T16:39:05.087060Z",
     "iopub.status.busy": "2024-09-23T16:39:05.087060Z",
     "iopub.status.idle": "2024-09-23T16:39:05.102770Z",
     "shell.execute_reply": "2024-09-23T16:39:05.102770Z"
    }
   },
   "outputs": [],
   "source": [
    "#decimos si queremos datos semanales o no\n",
    "datos_semanales=1"
   ]
  },
  {
   "cell_type": "code",
   "execution_count": 138,
   "metadata": {
    "ExecuteTime": {
     "end_time": "2020-06-21T03:15:54.626839Z",
     "start_time": "2020-06-21T03:15:54.624975Z"
    },
    "execution": {
     "iopub.execute_input": "2024-09-23T16:39:05.102770Z",
     "iopub.status.busy": "2024-09-23T16:39:05.102770Z",
     "iopub.status.idle": "2024-09-23T16:39:05.118398Z",
     "shell.execute_reply": "2024-09-23T16:39:05.118398Z"
    },
    "scrolled": true
   },
   "outputs": [],
   "source": [
    "#YEAR = 252\n",
    "YEAR = 12\n",
    "if datos_semanales==1:\n",
    "    YEAR=52\n",
    "\n",
    "idx = pd.IndexSlice"
   ]
  },
  {
   "cell_type": "code",
   "execution_count": 139,
   "metadata": {},
   "outputs": [],
   "source": [
    "borrado=True"
   ]
  },
  {
   "cell_type": "markdown",
   "metadata": {},
   "source": [
    "# Obtenemos la información"
   ]
  },
  {
   "cell_type": "code",
   "execution_count": 140,
   "metadata": {
    "execution": {
     "iopub.execute_input": "2024-09-23T16:39:05.134022Z",
     "iopub.status.busy": "2024-09-23T16:39:05.134022Z",
     "iopub.status.idle": "2024-09-23T16:39:05.149647Z",
     "shell.execute_reply": "2024-09-23T16:39:05.149647Z"
    }
   },
   "outputs": [],
   "source": [
    "DATA_STORE = '../data/assets.h5'\n"
   ]
  },
  {
   "cell_type": "code",
   "execution_count": 141,
   "metadata": {
    "execution": {
     "iopub.execute_input": "2024-09-23T16:39:05.149647Z",
     "iopub.status.busy": "2024-09-23T16:39:05.149647Z",
     "iopub.status.idle": "2024-09-23T16:39:05.298319Z",
     "shell.execute_reply": "2024-09-23T16:39:05.297166Z"
    }
   },
   "outputs": [],
   "source": [
    "with pd.HDFStore(DATA_STORE) as store:\n",
    "    data = (store['engineered_features']\n",
    "            .sort_index()\n",
    "            .loc[idx[:, :'2019'], :])#train & validation period"
   ]
  },
  {
   "cell_type": "code",
   "execution_count": 143,
   "metadata": {
    "ExecuteTime": {
     "end_time": "2020-06-21T03:15:58.751241Z",
     "start_time": "2020-06-21T03:15:58.744605Z"
    },
    "execution": {
     "iopub.execute_input": "2024-09-23T16:39:05.579870Z",
     "iopub.status.busy": "2024-09-23T16:39:05.579870Z",
     "iopub.status.idle": "2024-09-23T16:39:05.595507Z",
     "shell.execute_reply": "2024-09-23T16:39:05.595507Z"
    }
   },
   "outputs": [],
   "source": [
    "results_path = Path('results', 'us_stocks')\n",
    "\n",
    "if not results_path.exists():\n",
    "    results_path.mkdir(parents=True)"
   ]
  },
  {
   "cell_type": "code",
   "execution_count": 144,
   "metadata": {},
   "outputs": [],
   "source": [
    "# # Calculamos la matriz de correlación\n",
    "# corr_df = data.drop(columns='sector').corr()\n",
    "\n",
    "# # Creamos una máscara para la diagonal inferior\n",
    "# mask = np.tril(np.ones(corr_df.shape), k=-1).astype(bool)\n",
    "\n",
    "# # Filtramos la matriz de correlación usando la máscara\n",
    "# lower_triangle_corr = corr_df.where(mask)\n",
    "\n",
    "# # Lista inicial de columnas\n",
    "# column_list = corr_df.columns\n",
    "# column_list_final = list(column_list)\n",
    "# salvado = []\n",
    "\n",
    "# # Iteramos sobre la diagonal inferior para eliminar columnas correlacionadas > 0.50\n",
    "# for i, column in enumerate(column_list):\n",
    "#     corr_cols = lower_triangle_corr[column][lower_triangle_corr[column] > 0.70].index\n",
    "#     for elem in corr_cols:\n",
    "#         if elem in column_list_final:\n",
    "#             column_list_final.remove(elem)\n",
    "#         else:\n",
    "#             salvado.append(elem)\n",
    "\n",
    "# # Resultado\n",
    "# print(len(column_list_final))\n"
   ]
  },
  {
   "cell_type": "code",
   "execution_count": 145,
   "metadata": {
    "ExecuteTime": {
     "end_time": "2020-06-21T03:15:58.627071Z",
     "start_time": "2020-06-21T03:15:58.611792Z"
    },
    "execution": {
     "iopub.execute_input": "2024-09-23T16:39:05.439270Z",
     "iopub.status.busy": "2024-09-23T16:39:05.439270Z",
     "iopub.status.idle": "2024-09-23T16:39:05.454572Z",
     "shell.execute_reply": "2024-09-23T16:39:05.454572Z"
    }
   },
   "outputs": [],
   "source": [
    "labels = sorted(data.filter(like='target_').columns)\n",
    "features = data.columns.difference(labels).tolist()\n",
    "label = 'target_1m'#modificado"
   ]
  },
  {
   "cell_type": "markdown",
   "metadata": {},
   "source": [
    "## Model Selection: Lookback, lookahead and roll-forward periods"
   ]
  },
  {
   "cell_type": "code",
   "execution_count": null,
   "metadata": {
    "execution": {
     "iopub.execute_input": "2024-09-23T16:39:05.454572Z",
     "iopub.status.busy": "2024-09-23T16:39:05.454572Z",
     "iopub.status.idle": "2024-09-23T16:39:05.470526Z",
     "shell.execute_reply": "2024-09-23T16:39:05.470526Z"
    }
   },
   "outputs": [],
   "source": [
    "# Obtener el nombre del primer nivel\n",
    "level_name = data.index.get_level_values(0).name\n",
    "level_name"
   ]
  },
  {
   "cell_type": "code",
   "execution_count": 147,
   "metadata": {
    "ExecuteTime": {
     "end_time": "2020-06-21T03:15:58.713463Z",
     "start_time": "2020-06-21T03:15:58.628189Z"
    },
    "execution": {
     "iopub.execute_input": "2024-09-23T16:39:05.470526Z",
     "iopub.status.busy": "2024-09-23T16:39:05.470526Z",
     "iopub.status.idle": "2024-09-23T16:39:05.486095Z",
     "shell.execute_reply": "2024-09-23T16:39:05.486095Z"
    },
    "scrolled": true
   },
   "outputs": [],
   "source": [
    "tickers = data.index.get_level_values('ticker').unique()"
   ]
  },
  {
   "cell_type": "code",
   "execution_count": 148,
   "metadata": {
    "ExecuteTime": {
     "end_time": "2020-06-21T03:15:58.716838Z",
     "start_time": "2020-06-21T03:15:58.714860Z"
    },
    "execution": {
     "iopub.execute_input": "2024-09-23T16:39:05.501777Z",
     "iopub.status.busy": "2024-09-23T16:39:05.501777Z",
     "iopub.status.idle": "2024-09-23T16:39:05.517466Z",
     "shell.execute_reply": "2024-09-23T16:39:05.517466Z"
    },
    "scrolled": true
   },
   "outputs": [],
   "source": [
    "#lookaheads = [1, 5, 21]\n",
    "lookaheads = [1]"
   ]
  },
  {
   "cell_type": "code",
   "execution_count": 149,
   "metadata": {
    "ExecuteTime": {
     "end_time": "2020-06-21T03:15:58.726739Z",
     "start_time": "2020-06-21T03:15:58.718248Z"
    },
    "execution": {
     "iopub.execute_input": "2024-09-23T16:39:05.517466Z",
     "iopub.status.busy": "2024-09-23T16:39:05.517466Z",
     "iopub.status.idle": "2024-09-23T16:39:05.533028Z",
     "shell.execute_reply": "2024-09-23T16:39:05.533028Z"
    }
   },
   "outputs": [],
   "source": [
    "categoricals = [ 'month','sector', 'fase']"
   ]
  },
  {
   "cell_type": "code",
   "execution_count": 150,
   "metadata": {
    "ExecuteTime": {
     "end_time": "2020-06-21T03:15:58.735386Z",
     "start_time": "2020-06-21T03:15:58.728023Z"
    },
    "execution": {
     "iopub.execute_input": "2024-09-23T16:39:05.533028Z",
     "iopub.status.busy": "2024-09-23T16:39:05.533028Z",
     "iopub.status.idle": "2024-09-23T16:39:05.548667Z",
     "shell.execute_reply": "2024-09-23T16:39:05.548667Z"
    },
    "scrolled": true
   },
   "outputs": [],
   "source": [
    "\n",
    "train_lengths = [int(4.5 * 12 *4), 52]\n",
    "\n",
    "test_lengths = [int(1), 12]"
   ]
  },
  {
   "cell_type": "code",
   "execution_count": null,
   "metadata": {
    "ExecuteTime": {
     "end_time": "2020-06-21T03:15:58.743174Z",
     "start_time": "2020-06-21T03:15:58.737182Z"
    },
    "execution": {
     "iopub.execute_input": "2024-09-23T16:39:05.548667Z",
     "iopub.status.busy": "2024-09-23T16:39:05.548667Z",
     "iopub.status.idle": "2024-09-23T16:39:05.564297Z",
     "shell.execute_reply": "2024-09-23T16:39:05.564297Z"
    },
    "scrolled": true
   },
   "outputs": [],
   "source": [
    "test_params = list(product(lookaheads, train_lengths, test_lengths))\n",
    "test_params"
   ]
  },
  {
   "cell_type": "code",
   "execution_count": 152,
   "metadata": {
    "execution": {
     "iopub.execute_input": "2024-09-23T16:39:05.611169Z",
     "iopub.status.busy": "2024-09-23T16:39:05.611169Z",
     "iopub.status.idle": "2024-09-23T16:39:05.626788Z",
     "shell.execute_reply": "2024-09-23T16:39:05.626788Z"
    }
   },
   "outputs": [],
   "source": [
    "years_val=14"
   ]
  },
  {
   "cell_type": "markdown",
   "metadata": {},
   "source": [
    "## LightGBM Model Tuning"
   ]
  },
  {
   "cell_type": "code",
   "execution_count": 153,
   "metadata": {
    "ExecuteTime": {
     "end_time": "2020-06-21T03:19:37.935808Z",
     "start_time": "2020-06-21T03:19:37.921761Z"
    },
    "execution": {
     "iopub.execute_input": "2024-09-23T16:39:05.736164Z",
     "iopub.status.busy": "2024-09-23T16:39:05.736164Z",
     "iopub.status.idle": "2024-09-23T16:39:05.751781Z",
     "shell.execute_reply": "2024-09-23T16:39:05.751781Z"
    }
   },
   "outputs": [],
   "source": [
    "def get_fi(model):\n",
    "    fi = model.feature_importance(importance_type='gain')\n",
    "    return (pd.Series(fi / fi.sum(),\n",
    "                      index=model.feature_name()))"
   ]
  },
  {
   "cell_type": "markdown",
   "metadata": {},
   "source": [
    "### Hyperparameter Options"
   ]
  },
  {
   "cell_type": "code",
   "execution_count": 154,
   "metadata": {
    "ExecuteTime": {
     "end_time": "2020-06-21T03:19:37.943601Z",
     "start_time": "2020-06-21T03:19:37.936926Z"
    },
    "execution": {
     "iopub.execute_input": "2024-09-23T16:39:05.751781Z",
     "iopub.status.busy": "2024-09-23T16:39:05.751781Z",
     "iopub.status.idle": "2024-09-23T16:39:05.767424Z",
     "shell.execute_reply": "2024-09-23T16:39:05.767424Z"
    },
    "scrolled": true
   },
   "outputs": [],
   "source": [
    "base_params = dict(boosting='gbdt',\n",
    "                   objective='regression',\n",
    "                   verbose=-1)"
   ]
  },
  {
   "cell_type": "code",
   "execution_count": 155,
   "metadata": {
    "execution": {
     "iopub.execute_input": "2024-09-23T16:39:05.767424Z",
     "iopub.status.busy": "2024-09-23T16:39:05.767424Z",
     "iopub.status.idle": "2024-09-23T16:39:05.783026Z",
     "shell.execute_reply": "2024-09-23T16:39:05.783026Z"
    }
   },
   "outputs": [],
   "source": [
    "# weight of each new tree in the ensemble\n",
    "learning_rate_ops = [.01, .1, .3]\n",
    "# constraints on structure (depth) of each tree\n",
    "max_depths = [2, 3, 5, 7]\n",
    "num_leaves_opts = [2 ** i for i in max_depths]\n",
    "#min_data_in_leaf_opts = [250, 500, 1000]\n",
    "min_data_in_leaf_opts = [int(250/22), int(500/22), int(1000/22)]\n",
    "if datos_semanales==1: min_data_in_leaf_opts = [int(250/5), int(500/5), int(1000/5)]\n",
    "# random feature selection\n",
    "feature_fraction_opts = [.3, .6, .95]\n"
   ]
  },
  {
   "cell_type": "code",
   "execution_count": null,
   "metadata": {
    "execution": {
     "iopub.execute_input": "2024-09-23T16:39:05.783026Z",
     "iopub.status.busy": "2024-09-23T16:39:05.783026Z",
     "iopub.status.idle": "2024-09-23T16:39:05.798699Z",
     "shell.execute_reply": "2024-09-23T16:39:05.798699Z"
    }
   },
   "outputs": [],
   "source": [
    "min_data_in_leaf_opts"
   ]
  },
  {
   "cell_type": "code",
   "execution_count": 157,
   "metadata": {
    "ExecuteTime": {
     "end_time": "2020-06-21T03:19:37.960258Z",
     "start_time": "2020-06-21T03:19:37.953744Z"
    },
    "execution": {
     "iopub.execute_input": "2024-09-23T16:39:05.798699Z",
     "iopub.status.busy": "2024-09-23T16:39:05.798699Z",
     "iopub.status.idle": "2024-09-23T16:39:05.814288Z",
     "shell.execute_reply": "2024-09-23T16:39:05.814288Z"
    }
   },
   "outputs": [],
   "source": [
    "param_names = ['learning_rate', 'num_leaves',\n",
    "               'feature_fraction', 'min_data_in_leaf']"
   ]
  },
  {
   "cell_type": "code",
   "execution_count": null,
   "metadata": {
    "ExecuteTime": {
     "end_time": "2020-06-21T03:19:37.969006Z",
     "start_time": "2020-06-21T03:19:37.961383Z"
    },
    "execution": {
     "iopub.execute_input": "2024-09-23T16:39:05.814288Z",
     "iopub.status.busy": "2024-09-23T16:39:05.814288Z",
     "iopub.status.idle": "2024-09-23T16:39:05.829908Z",
     "shell.execute_reply": "2024-09-23T16:39:05.829908Z"
    },
    "scrolled": true
   },
   "outputs": [],
   "source": [
    "cv_params = list(product(learning_rate_ops,\n",
    "                         num_leaves_opts,\n",
    "                         feature_fraction_opts,\n",
    "                         min_data_in_leaf_opts))\n",
    "n_params = len(cv_params)\n",
    "print(f'# Parameters: {n_params}')"
   ]
  },
  {
   "cell_type": "code",
   "execution_count": null,
   "metadata": {
    "execution": {
     "iopub.execute_input": "2024-09-23T16:39:05.861143Z",
     "iopub.status.busy": "2024-09-23T16:39:05.861143Z",
     "iopub.status.idle": "2024-09-23T16:39:05.878755Z",
     "shell.execute_reply": "2024-09-23T16:39:05.876833Z"
    }
   },
   "outputs": [],
   "source": [
    "train_lengths"
   ]
  },
  {
   "cell_type": "code",
   "execution_count": null,
   "metadata": {
    "execution": {
     "iopub.execute_input": "2024-09-23T16:39:05.881205Z",
     "iopub.status.busy": "2024-09-23T16:39:05.881205Z",
     "iopub.status.idle": "2024-09-23T16:39:05.897236Z",
     "shell.execute_reply": "2024-09-23T16:39:05.897236Z"
    }
   },
   "outputs": [],
   "source": [
    "lookaheads"
   ]
  },
  {
   "cell_type": "code",
   "execution_count": null,
   "metadata": {
    "ExecuteTime": {
     "end_time": "2020-06-21T03:19:37.995277Z",
     "start_time": "2020-06-21T03:19:37.987379Z"
    },
    "execution": {
     "iopub.execute_input": "2024-09-23T16:39:05.901570Z",
     "iopub.status.busy": "2024-09-23T16:39:05.901570Z",
     "iopub.status.idle": "2024-09-23T16:39:05.913923Z",
     "shell.execute_reply": "2024-09-23T16:39:05.912900Z"
    },
    "scrolled": true
   },
   "outputs": [],
   "source": [
    "test_params = list(product(lookaheads, train_lengths, test_lengths))\n",
    "n = len(test_params)\n",
    "test_param_sample = np.random.choice(list(range(n)), size=int(n), replace=False)\n",
    "test_params = [test_params[i] for i in test_param_sample]\n",
    "print('Train configs:', len(test_params))"
   ]
  },
  {
   "cell_type": "code",
   "execution_count": null,
   "metadata": {
    "execution": {
     "iopub.execute_input": "2024-09-23T16:39:05.917231Z",
     "iopub.status.busy": "2024-09-23T16:39:05.917231Z",
     "iopub.status.idle": "2024-09-23T16:39:05.933263Z",
     "shell.execute_reply": "2024-09-23T16:39:05.933263Z"
    }
   },
   "outputs": [],
   "source": [
    "test_params"
   ]
  },
  {
   "cell_type": "markdown",
   "metadata": {},
   "source": [
    "### Categorical Variables"
   ]
  },
  {
   "cell_type": "code",
   "execution_count": 163,
   "metadata": {
    "ExecuteTime": {
     "end_time": "2020-06-21T03:19:38.043537Z",
     "start_time": "2020-06-21T03:19:37.996178Z"
    },
    "execution": {
     "iopub.execute_input": "2024-09-23T16:39:05.933263Z",
     "iopub.status.busy": "2024-09-23T16:39:05.933263Z",
     "iopub.status.idle": "2024-09-23T16:39:05.948827Z",
     "shell.execute_reply": "2024-09-23T16:39:05.948827Z"
    },
    "scrolled": true
   },
   "outputs": [],
   "source": [
    "for feature in categoricals:\n",
    "    data[feature] = pd.factorize(data[feature], sort=True)[0]"
   ]
  },
  {
   "cell_type": "markdown",
   "metadata": {},
   "source": [
    "### Custom Loss Function: Information Coefficient"
   ]
  },
  {
   "cell_type": "code",
   "execution_count": 164,
   "metadata": {
    "ExecuteTime": {
     "end_time": "2020-06-21T03:19:38.046578Z",
     "start_time": "2020-06-21T03:19:38.044405Z"
    },
    "execution": {
     "iopub.execute_input": "2024-09-23T16:39:05.948827Z",
     "iopub.status.busy": "2024-09-23T16:39:05.948827Z",
     "iopub.status.idle": "2024-09-23T16:39:05.964499Z",
     "shell.execute_reply": "2024-09-23T16:39:05.964499Z"
    }
   },
   "outputs": [],
   "source": [
    "def ic_lgbm(preds, train_data):\n",
    "    \"\"\"Custom IC eval metric for lightgbm\"\"\"\n",
    "    is_higher_better = True\n",
    "    return 'ic', spearmanr(preds, train_data.get_label())[0], is_higher_better"
   ]
  },
  {
   "cell_type": "markdown",
   "metadata": {},
   "source": [
    "### Run Cross-Validation"
   ]
  },
  {
   "cell_type": "code",
   "execution_count": null,
   "metadata": {
    "execution": {
     "iopub.execute_input": "2024-09-23T16:39:05.964499Z",
     "iopub.status.busy": "2024-09-23T16:39:05.964499Z",
     "iopub.status.idle": "2024-09-23T16:39:05.980040Z",
     "shell.execute_reply": "2024-09-23T16:39:05.980040Z"
    }
   },
   "outputs": [],
   "source": [
    "#primero borramos 'tuning_lgb.h5' para que no sobrescriba parcialmente\n",
    "#si queremos borrar los datos anteriores, si no, poner borrado = False\n",
    "if borrado==True:\n",
    "    lgb_store = Path(results_path / 'tuning_lgb.h5')\n",
    "    \n",
    "    # Comprueba si el archivo existe\n",
    "    if lgb_store.exists():\n",
    "        # Elimina el archivo\n",
    "        os.remove(lgb_store)\n",
    "        print(f\"El archivo {lgb_store} ha sido eliminado.\")\n",
    "    else:\n",
    "        print(f\"No se encontró el archivo {lgb_store}.\")"
   ]
  },
  {
   "cell_type": "code",
   "execution_count": 166,
   "metadata": {
    "ExecuteTime": {
     "end_time": "2020-06-21T03:19:38.054547Z",
     "start_time": "2020-06-21T03:19:38.047670Z"
    },
    "execution": {
     "iopub.execute_input": "2024-09-23T16:39:05.980040Z",
     "iopub.status.busy": "2024-09-23T16:39:05.980040Z",
     "iopub.status.idle": "2024-09-23T16:39:05.995698Z",
     "shell.execute_reply": "2024-09-23T16:39:05.995698Z"
    },
    "scrolled": true
   },
   "outputs": [],
   "source": [
    "lgb_store = Path(results_path / 'tuning_lgb.h5')"
   ]
  },
  {
   "cell_type": "code",
   "execution_count": 167,
   "metadata": {
    "ExecuteTime": {
     "end_time": "2020-06-21T03:19:38.070171Z",
     "start_time": "2020-06-21T03:19:38.055637Z"
    },
    "execution": {
     "iopub.execute_input": "2024-09-23T16:39:05.995698Z",
     "iopub.status.busy": "2024-09-23T16:39:05.995698Z",
     "iopub.status.idle": "2024-09-23T16:39:06.011316Z",
     "shell.execute_reply": "2024-09-23T16:39:06.011316Z"
    },
    "scrolled": true
   },
   "outputs": [],
   "source": [
    "labels = sorted(data.filter(like='target').columns)\n",
    "features = data.columns.difference(labels).tolist()"
   ]
  },
  {
   "cell_type": "code",
   "execution_count": 168,
   "metadata": {
    "ExecuteTime": {
     "end_time": "2020-06-21T03:19:38.086476Z",
     "start_time": "2020-06-21T03:19:38.078921Z"
    },
    "execution": {
     "iopub.execute_input": "2024-09-23T16:39:06.073837Z",
     "iopub.status.busy": "2024-09-23T16:39:06.073837Z",
     "iopub.status.idle": "2024-09-23T16:39:06.089450Z",
     "shell.execute_reply": "2024-09-23T16:39:06.089450Z"
    },
    "scrolled": true
   },
   "outputs": [],
   "source": [
    "num_iterations = [50, 100] #+ list(range(100, 501, 50))\n",
    "num_boost_round = num_iterations[-1]"
   ]
  },
  {
   "cell_type": "code",
   "execution_count": 169,
   "metadata": {
    "ExecuteTime": {
     "end_time": "2020-06-21T03:19:38.094204Z",
     "start_time": "2020-06-21T03:19:38.087354Z"
    },
    "execution": {
     "iopub.execute_input": "2024-09-23T16:39:06.120686Z",
     "iopub.status.busy": "2024-09-23T16:39:06.120686Z",
     "iopub.status.idle": "2024-09-23T16:39:06.136366Z",
     "shell.execute_reply": "2024-09-23T16:39:06.136366Z"
    },
    "scrolled": true
   },
   "outputs": [],
   "source": [
    "metric_cols = (param_names + ['t', 'daily_ic_mean', 'daily_ic_mean_n',\n",
    "                              'daily_ic_median', 'daily_ic_median_n'] +\n",
    "               [str(n) for n in num_iterations])"
   ]
  },
  {
   "cell_type": "code",
   "execution_count": null,
   "metadata": {
    "execution": {
     "iopub.execute_input": "2024-09-23T16:39:06.136366Z",
     "iopub.status.busy": "2024-09-23T16:39:06.136366Z",
     "iopub.status.idle": "2024-09-23T16:39:06.151944Z",
     "shell.execute_reply": "2024-09-23T16:39:06.151944Z"
    }
   },
   "outputs": [],
   "source": [
    "metric_cols"
   ]
  },
  {
   "cell_type": "code",
   "execution_count": null,
   "metadata": {
    "execution": {
     "iopub.execute_input": "2024-09-23T16:39:06.151944Z",
     "iopub.status.busy": "2024-09-23T16:39:06.151944Z",
     "iopub.status.idle": "2024-09-23T16:39:06.167560Z",
     "shell.execute_reply": "2024-09-23T16:39:06.167560Z"
    }
   },
   "outputs": [],
   "source": [
    "YEAR"
   ]
  },
  {
   "cell_type": "code",
   "execution_count": null,
   "metadata": {
    "execution": {
     "iopub.execute_input": "2024-09-23T16:39:06.183201Z",
     "iopub.status.busy": "2024-09-23T16:39:06.183201Z",
     "iopub.status.idle": "2024-09-23T16:39:06.198815Z",
     "shell.execute_reply": "2024-09-23T16:39:06.198815Z"
    }
   },
   "outputs": [],
   "source": [
    "n_params"
   ]
  },
  {
   "cell_type": "code",
   "execution_count": null,
   "metadata": {},
   "outputs": [],
   "source": [
    "primera_fecha_no_nula = (\n",
    "    data.dropna().notnull()                                      # Identifica valores no nulos\n",
    "    .any(axis=1)                                     # Filtra filas con al menos un valor no nulo\n",
    "    .groupby(level='ticker')                         # Agrupa por 'Ticker'\n",
    "    .apply(lambda x: x[x].index.get_level_values('date').min())  # Obtiene la primera fecha\n",
    ")\n",
    "primera_fecha_no_nula"
   ]
  },
  {
   "cell_type": "code",
   "execution_count": null,
   "metadata": {
    "ExecuteTime": {
     "end_time": "2020-06-21T11:56:42.000694Z",
     "start_time": "2020-06-21T03:19:38.095078Z"
    },
    "execution": {
     "iopub.execute_input": "2024-09-23T16:39:06.198815Z",
     "iopub.status.busy": "2024-09-23T16:39:06.198815Z",
     "iopub.status.idle": "2024-09-23T18:00:28.733379Z",
     "shell.execute_reply": "2024-09-23T18:00:28.733379Z"
    },
    "scrolled": true
   },
   "outputs": [],
   "source": [
    "for lookahead, train_length, test_length in test_params:\n",
    "    # randomized grid search\n",
    "    cvp = np.random.choice(list(range(n_params)),\n",
    "                           size=int(n_params / 2),\n",
    "                           replace=False)\n",
    "    cv_params_ = [cv_params[i] for i in cvp]\n",
    "\n",
    "    # set up cross-validatio. years_val serán los años de validación\n",
    "    n_splits = int(YEAR * years_val/ test_length)#modificado\n",
    "    print(f'Lookahead: {lookahead:2.0f} | '\n",
    "          f'Train: {train_length:3.0f} | '\n",
    "          f'Test: {test_length:2.0f} | '\n",
    "          f'Params: {len(cv_params_):3.0f} | '\n",
    "          f'Train configs: {len(test_params)}')\n",
    "\n",
    "    # time-series cross-validation\n",
    "    cv = MultipleTimeSeriesCV(n_splits=n_splits,\n",
    "                              lookahead=lookahead,\n",
    "                              test_period_length=test_length,\n",
    "                              train_period_length=train_length)\n",
    "\n",
    "    #label = label_dict[lookahead] modificado para no liar\n",
    "    label = label \n",
    "    outcome_data = data.loc[:, features + [label]].dropna()\n",
    "    \n",
    "    # binary dataset\n",
    "    lgb_data = lgb.Dataset(data=outcome_data.drop(label, axis=1),\n",
    "                           label=outcome_data[label],\n",
    "                           categorical_feature=categoricals,\n",
    "                           free_raw_data=False)\n",
    "    T = 0\n",
    "    predictions, metrics, feature_importance, daily_ic = [], [], [], []\n",
    "    \n",
    "    # iterate over (shuffled) hyperparameter combinations\n",
    "    for p, param_vals in enumerate(cv_params_):\n",
    "        key = f'{lookahead}/{train_length}/{test_length}/' + '/'.join([str(p) for p in param_vals])\n",
    "        params = dict(zip(param_names, param_vals))\n",
    "        params.update(base_params)\n",
    "\n",
    "        start = time()\n",
    "        cv_preds, nrounds = [], []\n",
    "        ic_cv = defaultdict(list)\n",
    "        \n",
    "        # iterate over folds\n",
    "        for i, (train_idx, test_idx) in enumerate(cv.split(X=outcome_data)):\n",
    "            \n",
    "            # select train subset\n",
    "            lgb_train = lgb_data.subset(used_indices=train_idx.tolist(),\n",
    "                                       params=params).construct()\n",
    "            \n",
    "            # train model for num_boost_round\n",
    "            model = lgb.train(params=params,\n",
    "                              train_set=lgb_train,\n",
    "                              num_boost_round=num_boost_round,\n",
    "                              verbose_eval=False)\n",
    "            # log feature importance\n",
    "            if i == 0:\n",
    "                fi = get_fi(model).to_frame()\n",
    "            else:\n",
    "                fi[i] = get_fi(model)\n",
    "\n",
    "            # capture predictions\n",
    "            test_set = outcome_data.iloc[test_idx, :]\n",
    "            X_test = test_set.loc[:, model.feature_name()]\n",
    "            y_test = test_set.loc[:, label]\n",
    "            y_pred = {str(n): model.predict(X_test, num_iteration=n) for n in num_iterations}\n",
    "            \n",
    "            # record predictions for each fold\n",
    "            cv_preds.append(y_test.to_frame('y_test').assign(**y_pred).assign(i=i))\n",
    "        \n",
    "        # combine fold results\n",
    "        cv_preds = pd.concat(cv_preds).assign(**params)\n",
    "        predictions.append(cv_preds)\n",
    "        \n",
    "        # compute IC per day\n",
    "        by_day = cv_preds.groupby(level='date')\n",
    "        ic_by_day = pd.concat([by_day.apply(lambda x: spearmanr(x.y_test, x[str(n)])[0]).to_frame(n)\n",
    "                               for n in num_iterations], axis=1)\n",
    "        daily_ic_mean = ic_by_day.mean()\n",
    "        daily_ic_mean_n = daily_ic_mean.idxmax()\n",
    "        daily_ic_median = ic_by_day.median()\n",
    "        daily_ic_median_n = daily_ic_median.idxmax()\n",
    "        \n",
    "        # compute IC across all predictions\n",
    "        ic = [spearmanr(cv_preds.y_test, cv_preds[str(n)])[0] for n in num_iterations]\n",
    "        t = time() - start\n",
    "        T += t\n",
    "        \n",
    "        # collect metrics\n",
    "        metrics = pd.Series(list(param_vals) +\n",
    "                            [t, daily_ic_mean.max(), daily_ic_mean_n, daily_ic_median.max(), daily_ic_median_n] + ic,\n",
    "                            index=metric_cols)\n",
    "        msg = f'\\t{p:3.0f} | {format_time(T)} ({t:3.0f}) | {params[\"learning_rate\"]:5.2f} | '\n",
    "        msg += f'{params[\"num_leaves\"]:3.0f} | {params[\"feature_fraction\"]:3.0%} | {params[\"min_data_in_leaf\"]:4.0f} | '\n",
    "        msg += f' {max(ic):6.2%} | {ic_by_day.mean().max(): 6.2%} | {daily_ic_mean_n: 4.0f} | {ic_by_day.median().max(): 6.2%} | {daily_ic_median_n: 4.0f}'\n",
    "        print(msg)\n",
    "\n",
    "        # persist results for given CV run and hyperparameter combination\n",
    "        metrics.to_hdf(lgb_store, 'metrics/' + key)\n",
    "        ic_by_day.assign(**params).to_hdf(lgb_store, 'daily_ic/' + key)\n",
    "        fi.T.describe().T.assign(**params).to_hdf(lgb_store, 'fi/' + key)\n",
    "        cv_preds.to_hdf(lgb_store, 'predictions/' + key)\n",
    "        "
   ]
  },
  {
   "cell_type": "code",
   "execution_count": null,
   "metadata": {
    "execution": {
     "iopub.execute_input": "2024-09-23T18:00:28.733379Z",
     "iopub.status.busy": "2024-09-23T18:00:28.733379Z",
     "iopub.status.idle": "2024-09-23T18:00:28.764790Z",
     "shell.execute_reply": "2024-09-23T18:00:28.764790Z"
    }
   },
   "outputs": [],
   "source": [
    "\n",
    "\n",
    "# Para ver los datos en sí, puedes convertir el conjunto de datos a un DataFrame de pandas\n",
    "df = pd.DataFrame(lgb_train.data)\n",
    "print(df.tail(100))\n"
   ]
  },
  {
   "cell_type": "code",
   "execution_count": null,
   "metadata": {
    "execution": {
     "iopub.execute_input": "2024-09-23T18:00:28.764790Z",
     "iopub.status.busy": "2024-09-23T18:00:28.764790Z",
     "iopub.status.idle": "2024-09-23T18:00:28.780409Z",
     "shell.execute_reply": "2024-09-23T18:00:28.780409Z"
    }
   },
   "outputs": [],
   "source": [
    "ic"
   ]
  },
  {
   "cell_type": "code",
   "execution_count": null,
   "metadata": {
    "execution": {
     "iopub.execute_input": "2024-09-23T18:00:28.780409Z",
     "iopub.status.busy": "2024-09-23T18:00:28.780409Z",
     "iopub.status.idle": "2024-09-23T18:00:28.796036Z",
     "shell.execute_reply": "2024-09-23T18:00:28.796036Z"
    }
   },
   "outputs": [],
   "source": [
    "params"
   ]
  },
  {
   "cell_type": "code",
   "execution_count": null,
   "metadata": {},
   "outputs": [],
   "source": [
    "stop"
   ]
  },
  {
   "cell_type": "markdown",
   "metadata": {},
   "source": [
    "## LightGBM Random Forest Model Tuning"
   ]
  },
  {
   "cell_type": "code",
   "execution_count": 179,
   "metadata": {
    "ExecuteTime": {
     "end_time": "2020-06-21T03:19:37.935808Z",
     "start_time": "2020-06-21T03:19:37.921761Z"
    },
    "execution": {
     "iopub.execute_input": "2024-09-23T18:00:28.811660Z",
     "iopub.status.busy": "2024-09-23T18:00:28.811660Z",
     "iopub.status.idle": "2024-09-23T18:00:28.827414Z",
     "shell.execute_reply": "2024-09-23T18:00:28.827414Z"
    }
   },
   "outputs": [],
   "source": [
    "def get_fi(model):\n",
    "    fi = model.feature_importance(importance_type='gain')\n",
    "    return (pd.Series(fi / fi.sum(),\n",
    "                      index=model.feature_name()))"
   ]
  },
  {
   "cell_type": "markdown",
   "metadata": {},
   "source": [
    "### Hyperparameter Options"
   ]
  },
  {
   "cell_type": "code",
   "execution_count": 180,
   "metadata": {
    "ExecuteTime": {
     "end_time": "2020-06-21T03:19:37.943601Z",
     "start_time": "2020-06-21T03:19:37.936926Z"
    },
    "execution": {
     "iopub.execute_input": "2024-09-23T18:00:28.827414Z",
     "iopub.status.busy": "2024-09-23T18:00:28.827414Z",
     "iopub.status.idle": "2024-09-23T18:00:28.843035Z",
     "shell.execute_reply": "2024-09-23T18:00:28.843035Z"
    },
    "scrolled": true
   },
   "outputs": [],
   "source": [
    "base_params = dict(boosting_type='rf',\n",
    "                   objective='regression',\n",
    "                   bagging_freq=1,\n",
    "                   verbose=-1)"
   ]
  },
  {
   "cell_type": "code",
   "execution_count": 181,
   "metadata": {
    "execution": {
     "iopub.execute_input": "2024-09-23T18:00:28.843035Z",
     "iopub.status.busy": "2024-09-23T18:00:28.843035Z",
     "iopub.status.idle": "2024-09-23T18:00:28.858359Z",
     "shell.execute_reply": "2024-09-23T18:00:28.858359Z"
    }
   },
   "outputs": [],
   "source": [
    "# Asumiendo que data es tu conjunto de datos\n",
    "n_samples = data.shape[0]\n",
    "\n",
    "# Establece min_data_in_leaf como un porcentaje del total de muestras\n",
    "min_data_in_leaf_op0 = max(1, int(n_samples * 0.01))  # 1% del total de muestras, mínimo 1"
   ]
  },
  {
   "cell_type": "code",
   "execution_count": null,
   "metadata": {
    "execution": {
     "iopub.execute_input": "2024-09-23T18:00:28.858359Z",
     "iopub.status.busy": "2024-09-23T18:00:28.858359Z",
     "iopub.status.idle": "2024-09-23T18:00:28.874284Z",
     "shell.execute_reply": "2024-09-23T18:00:28.874284Z"
    }
   },
   "outputs": [],
   "source": [
    "min_data_in_leaf_op0"
   ]
  },
  {
   "cell_type": "code",
   "execution_count": 183,
   "metadata": {
    "ExecuteTime": {
     "end_time": "2020-06-21T03:19:37.952308Z",
     "start_time": "2020-06-21T03:19:37.944671Z"
    },
    "execution": {
     "iopub.execute_input": "2024-09-23T18:00:28.874284Z",
     "iopub.status.busy": "2024-09-23T18:00:28.874284Z",
     "iopub.status.idle": "2024-09-23T18:00:28.889902Z",
     "shell.execute_reply": "2024-09-23T18:00:28.889902Z"
    },
    "scrolled": true
   },
   "outputs": [],
   "source": [
    "#bagging_fraction_opts = [.5, .75, .95]\n",
    "bagging_fraction_opts = [.75, .95]\n",
    "feature_fraction_opts = [.75, .95]\n",
    "min_data_in_leaf_opts = [int(250/22), int(500/22), int(1000/22)]\n",
    "if datos_semanales==1: min_data_in_leaf_opts = [min_data_in_leaf_op0, int(500/5), int(1000/5)]\n",
    "#min_data_in_leaf_opts = [250, 500, 1000]\n",
    "max_depth_opts=[5, 10, -1]"
   ]
  },
  {
   "cell_type": "code",
   "execution_count": null,
   "metadata": {
    "execution": {
     "iopub.execute_input": "2024-09-23T18:00:28.889902Z",
     "iopub.status.busy": "2024-09-23T18:00:28.889902Z",
     "iopub.status.idle": "2024-09-23T18:00:28.905543Z",
     "shell.execute_reply": "2024-09-23T18:00:28.905543Z"
    }
   },
   "outputs": [],
   "source": [
    "min_data_in_leaf_opts"
   ]
  },
  {
   "cell_type": "code",
   "execution_count": 185,
   "metadata": {
    "ExecuteTime": {
     "end_time": "2020-06-21T03:19:37.960258Z",
     "start_time": "2020-06-21T03:19:37.953744Z"
    },
    "execution": {
     "iopub.execute_input": "2024-09-23T18:00:28.905543Z",
     "iopub.status.busy": "2024-09-23T18:00:28.905543Z",
     "iopub.status.idle": "2024-09-23T18:00:28.921178Z",
     "shell.execute_reply": "2024-09-23T18:00:28.921178Z"
    }
   },
   "outputs": [],
   "source": [
    "param_names = ['bagging_fraction', 'feature_fraction',\n",
    "               'min_data_in_leaf','max_depth']"
   ]
  },
  {
   "cell_type": "code",
   "execution_count": null,
   "metadata": {
    "ExecuteTime": {
     "end_time": "2020-06-21T03:19:37.969006Z",
     "start_time": "2020-06-21T03:19:37.961383Z"
    },
    "execution": {
     "iopub.execute_input": "2024-09-23T18:00:28.921178Z",
     "iopub.status.busy": "2024-09-23T18:00:28.921178Z",
     "iopub.status.idle": "2024-09-23T18:00:28.936757Z",
     "shell.execute_reply": "2024-09-23T18:00:28.936757Z"
    },
    "scrolled": true
   },
   "outputs": [],
   "source": [
    "cv_params = list(product(bagging_fraction_opts,\n",
    "                         feature_fraction_opts,\n",
    "                         min_data_in_leaf_opts,max_depth_opts))\n",
    "n_params = len(cv_params)\n",
    "print(f'# Parameters: {n_params}')"
   ]
  },
  {
   "cell_type": "code",
   "execution_count": null,
   "metadata": {
    "ExecuteTime": {
     "end_time": "2020-06-21T03:19:37.995277Z",
     "start_time": "2020-06-21T03:19:37.987379Z"
    },
    "execution": {
     "iopub.execute_input": "2024-09-23T18:00:28.983656Z",
     "iopub.status.busy": "2024-09-23T18:00:28.983656Z",
     "iopub.status.idle": "2024-09-23T18:00:28.999251Z",
     "shell.execute_reply": "2024-09-23T18:00:28.999251Z"
    },
    "scrolled": true
   },
   "outputs": [],
   "source": [
    "test_params = list(product(lookaheads, train_lengths, test_lengths))\n",
    "n = len(test_params)\n",
    "test_param_sample = np.random.choice(list(range(n)), size=int(n), replace=False)\n",
    "test_params = [test_params[i] for i in test_param_sample]\n",
    "print('Train configs:', len(test_params))"
   ]
  },
  {
   "cell_type": "markdown",
   "metadata": {},
   "source": [
    "### Categorical Variables"
   ]
  },
  {
   "cell_type": "code",
   "execution_count": 188,
   "metadata": {
    "ExecuteTime": {
     "end_time": "2020-06-21T03:19:38.043537Z",
     "start_time": "2020-06-21T03:19:37.996178Z"
    },
    "execution": {
     "iopub.execute_input": "2024-09-23T18:00:28.999251Z",
     "iopub.status.busy": "2024-09-23T18:00:28.999251Z",
     "iopub.status.idle": "2024-09-23T18:00:29.014895Z",
     "shell.execute_reply": "2024-09-23T18:00:29.014895Z"
    },
    "scrolled": true
   },
   "outputs": [],
   "source": [
    "for feature in categoricals:\n",
    "    data[feature] = pd.factorize(data[feature], sort=True)[0]"
   ]
  },
  {
   "cell_type": "markdown",
   "metadata": {},
   "source": [
    "### Custom Loss Function: Information Coefficient"
   ]
  },
  {
   "cell_type": "code",
   "execution_count": 189,
   "metadata": {
    "ExecuteTime": {
     "end_time": "2020-06-21T03:19:38.046578Z",
     "start_time": "2020-06-21T03:19:38.044405Z"
    },
    "execution": {
     "iopub.execute_input": "2024-09-23T18:00:29.014895Z",
     "iopub.status.busy": "2024-09-23T18:00:29.014895Z",
     "iopub.status.idle": "2024-09-23T18:00:29.030537Z",
     "shell.execute_reply": "2024-09-23T18:00:29.030537Z"
    }
   },
   "outputs": [],
   "source": [
    "def ic_rf(preds, train_data):\n",
    "    \"\"\"Custom IC eval metric for lightgbm\"\"\"\n",
    "    is_higher_better = True\n",
    "    return 'ic', spearmanr(preds, train_data.get_label())[0], is_higher_better"
   ]
  },
  {
   "cell_type": "markdown",
   "metadata": {},
   "source": [
    "### Run Cross-Validation"
   ]
  },
  {
   "cell_type": "code",
   "execution_count": null,
   "metadata": {
    "execution": {
     "iopub.execute_input": "2024-09-23T18:00:29.030537Z",
     "iopub.status.busy": "2024-09-23T18:00:29.030537Z",
     "iopub.status.idle": "2024-09-23T18:00:29.046142Z",
     "shell.execute_reply": "2024-09-23T18:00:29.046142Z"
    }
   },
   "outputs": [],
   "source": [
    "#primero borramos 'tuning_rf.h5' para que no sobrescriba parcialmente\n",
    "\n",
    "rf_store = Path(results_path / 'tuning_rf.h5')\n",
    "\n",
    "# Comprueba si el archivo existe\n",
    "if rf_store.exists():\n",
    "    # Elimina el archivo\n",
    "    os.remove(rf_store)\n",
    "    print(f\"El archivo {rf_store} ha sido eliminado.\")\n",
    "else:\n",
    "    print(f\"No se encontró el archivo {rf_store}.\")"
   ]
  },
  {
   "cell_type": "code",
   "execution_count": 191,
   "metadata": {
    "ExecuteTime": {
     "end_time": "2020-06-21T03:19:38.054547Z",
     "start_time": "2020-06-21T03:19:38.047670Z"
    },
    "execution": {
     "iopub.execute_input": "2024-09-23T18:00:29.046142Z",
     "iopub.status.busy": "2024-09-23T18:00:29.046142Z",
     "iopub.status.idle": "2024-09-23T18:00:29.061829Z",
     "shell.execute_reply": "2024-09-23T18:00:29.061829Z"
    },
    "scrolled": true
   },
   "outputs": [],
   "source": [
    "rf_store = Path(results_path / 'tuning_rf.h5')"
   ]
  },
  {
   "cell_type": "code",
   "execution_count": 192,
   "metadata": {
    "ExecuteTime": {
     "end_time": "2020-06-21T03:19:38.070171Z",
     "start_time": "2020-06-21T03:19:38.055637Z"
    },
    "execution": {
     "iopub.execute_input": "2024-09-23T18:00:29.061829Z",
     "iopub.status.busy": "2024-09-23T18:00:29.061829Z",
     "iopub.status.idle": "2024-09-23T18:00:29.077422Z",
     "shell.execute_reply": "2024-09-23T18:00:29.077422Z"
    },
    "scrolled": true
   },
   "outputs": [],
   "source": [
    "labels = sorted(data.filter(like='target').columns)\n",
    "features = data.columns.difference(labels).tolist()"
   ]
  },
  {
   "cell_type": "code",
   "execution_count": null,
   "metadata": {
    "execution": {
     "iopub.execute_input": "2024-09-23T18:00:29.077422Z",
     "iopub.status.busy": "2024-09-23T18:00:29.077422Z",
     "iopub.status.idle": "2024-09-23T18:00:29.093099Z",
     "shell.execute_reply": "2024-09-23T18:00:29.093099Z"
    }
   },
   "outputs": [],
   "source": [
    "labels"
   ]
  },
  {
   "cell_type": "code",
   "execution_count": null,
   "metadata": {
    "execution": {
     "iopub.execute_input": "2024-09-23T18:00:29.093099Z",
     "iopub.status.busy": "2024-09-23T18:00:29.093099Z",
     "iopub.status.idle": "2024-09-23T18:00:29.108705Z",
     "shell.execute_reply": "2024-09-23T18:00:29.108705Z"
    }
   },
   "outputs": [],
   "source": [
    "len(features)"
   ]
  },
  {
   "cell_type": "code",
   "execution_count": 195,
   "metadata": {
    "ExecuteTime": {
     "end_time": "2020-06-21T03:19:38.086476Z",
     "start_time": "2020-06-21T03:19:38.078921Z"
    },
    "execution": {
     "iopub.execute_input": "2024-09-23T18:00:29.139941Z",
     "iopub.status.busy": "2024-09-23T18:00:29.139941Z",
     "iopub.status.idle": "2024-09-23T18:00:29.155567Z",
     "shell.execute_reply": "2024-09-23T18:00:29.155567Z"
    },
    "scrolled": true
   },
   "outputs": [],
   "source": [
    "num_iterations = [50, 100] #+ list(range(100, 501, 50))\n",
    "num_boost_round = num_iterations[-1]"
   ]
  },
  {
   "cell_type": "code",
   "execution_count": null,
   "metadata": {
    "execution": {
     "iopub.execute_input": "2024-09-23T18:00:29.155567Z",
     "iopub.status.busy": "2024-09-23T18:00:29.155567Z",
     "iopub.status.idle": "2024-09-23T18:00:29.171178Z",
     "shell.execute_reply": "2024-09-23T18:00:29.171178Z"
    }
   },
   "outputs": [],
   "source": [
    "num_iterations"
   ]
  },
  {
   "cell_type": "code",
   "execution_count": null,
   "metadata": {
    "execution": {
     "iopub.execute_input": "2024-09-23T18:00:29.171178Z",
     "iopub.status.busy": "2024-09-23T18:00:29.171178Z",
     "iopub.status.idle": "2024-09-23T18:00:29.186801Z",
     "shell.execute_reply": "2024-09-23T18:00:29.186801Z"
    }
   },
   "outputs": [],
   "source": [
    "num_boost_round"
   ]
  },
  {
   "cell_type": "code",
   "execution_count": 198,
   "metadata": {
    "ExecuteTime": {
     "end_time": "2020-06-21T03:19:38.094204Z",
     "start_time": "2020-06-21T03:19:38.087354Z"
    },
    "execution": {
     "iopub.execute_input": "2024-09-23T18:00:29.186801Z",
     "iopub.status.busy": "2024-09-23T18:00:29.186801Z",
     "iopub.status.idle": "2024-09-23T18:00:29.202440Z",
     "shell.execute_reply": "2024-09-23T18:00:29.202440Z"
    },
    "scrolled": true
   },
   "outputs": [],
   "source": [
    "metric_cols = (param_names + ['t', 'daily_ic_mean', 'daily_ic_mean_n',\n",
    "                              'daily_ic_median', 'daily_ic_median_n'] +\n",
    "               [str(n) for n in num_iterations])"
   ]
  },
  {
   "cell_type": "code",
   "execution_count": null,
   "metadata": {
    "ExecuteTime": {
     "end_time": "2020-06-21T11:56:42.000694Z",
     "start_time": "2020-06-21T03:19:38.095078Z"
    },
    "execution": {
     "iopub.execute_input": "2024-09-23T18:00:29.233677Z",
     "iopub.status.busy": "2024-09-23T18:00:29.233677Z",
     "iopub.status.idle": "2024-09-23T18:27:51.965266Z",
     "shell.execute_reply": "2024-09-23T18:27:51.965266Z"
    },
    "scrolled": true
   },
   "outputs": [],
   "source": [
    "for lookahead, train_length, test_length in test_params:\n",
    "    # randomized grid search\n",
    "    cvp = np.random.choice(list(range(n_params)),\n",
    "                           size=int(n_params / 2),\n",
    "                           replace=False)\n",
    "    cv_params_ = [cv_params[i] for i in cvp]\n",
    "\n",
    "    # set up cross-validatio. years_val serán los años de validación\n",
    "    n_splits = int(YEAR * years_val/ test_length)#modificado\n",
    "    print(f'Lookahead: {lookahead:2.0f} | '\n",
    "          f'Train: {train_length:3.0f} | '\n",
    "          f'Test: {test_length:2.0f} | '\n",
    "          f'Params: {len(cv_params_):3.0f} | '\n",
    "          f'Train configs: {len(test_params)}')\n",
    "\n",
    "    # time-series cross-validation\n",
    "    cv = MultipleTimeSeriesCV(n_splits=n_splits,\n",
    "                              lookahead=lookahead,\n",
    "                              test_period_length=test_length,\n",
    "                              train_period_length=train_length)\n",
    "\n",
    "    #label = label_dict[lookahead]\n",
    "    label = label #modificado\n",
    "    outcome_data = data.loc[:, features + [label]].dropna()\n",
    "    \n",
    "    # binary dataset\n",
    "    lgb_data = lgb.Dataset(data=outcome_data.drop(label, axis=1),\n",
    "                           label=outcome_data[label],\n",
    "                           categorical_feature=categoricals,\n",
    "                           free_raw_data=False)\n",
    "    T = 0\n",
    "    predictions, metrics, feature_importance, daily_ic = [], [], [], []\n",
    "    \n",
    "    # iterate over (shuffled) hyperparameter combinations\n",
    "    for p, param_vals in enumerate(cv_params_):\n",
    "        key = f'{lookahead}/{train_length}/{test_length}/' + '/'.join([str(p) for p in param_vals])\n",
    "        params = dict(zip(param_names, param_vals))\n",
    "        params.update(base_params)\n",
    "\n",
    "        start = time()\n",
    "        cv_preds, nrounds = [], []\n",
    "        ic_cv = defaultdict(list)\n",
    "        \n",
    "        # iterate over folds\n",
    "        for i, (train_idx, test_idx) in enumerate(cv.split(X=outcome_data)):\n",
    "            \n",
    "            # select train subset\n",
    "            lgb_train = lgb_data.subset(used_indices=train_idx.tolist(),\n",
    "                                       params=params).construct()\n",
    "            \n",
    "            # train model for num_boost_round\n",
    "            model = lgb.train(params=params,\n",
    "                              train_set=lgb_train,\n",
    "                              num_boost_round=num_boost_round,\n",
    "                              verbose_eval=False)\n",
    "            # log feature importance\n",
    "            if i == 0:\n",
    "                fi = get_fi(model).to_frame()\n",
    "            else:\n",
    "                fi[i] = get_fi(model)\n",
    "\n",
    "            # capture predictions\n",
    "            test_set = outcome_data.iloc[test_idx, :]\n",
    "            X_test = test_set.loc[:, model.feature_name()]\n",
    "            y_test = test_set.loc[:, label]\n",
    "            y_pred = {str(n): model.predict(X_test, num_iteration=n) for n in num_iterations}\n",
    "            \n",
    "            # record predictions for each fold\n",
    "            cv_preds.append(y_test.to_frame('y_test').assign(**y_pred).assign(i=i))\n",
    "        \n",
    "        # combine fold results\n",
    "        cv_preds = pd.concat(cv_preds).assign(**params)\n",
    "        predictions.append(cv_preds)\n",
    "        \n",
    "        # compute IC per day\n",
    "        by_day = cv_preds.groupby(level='date')\n",
    "        ic_by_day = pd.concat([by_day.apply(lambda x: spearmanr(x.y_test, x[str(n)])[0]).to_frame(n)\n",
    "                               for n in num_iterations], axis=1)\n",
    "        daily_ic_mean = ic_by_day.mean()\n",
    "        daily_ic_mean_n = daily_ic_mean.idxmax()\n",
    "        daily_ic_median = ic_by_day.median()\n",
    "        daily_ic_median_n = daily_ic_median.idxmax()\n",
    "        \n",
    "        # compute IC across all predictions\n",
    "        ic = [spearmanr(cv_preds.y_test, cv_preds[str(n)])[0] for n in num_iterations]\n",
    "        t = time() - start\n",
    "        T += t\n",
    "        \n",
    "        # collect metrics\n",
    "        metrics = pd.Series(list(param_vals) +\n",
    "                            [t, daily_ic_mean.max(), daily_ic_mean_n, daily_ic_median.max(), daily_ic_median_n] + ic,\n",
    "                            index=metric_cols)\n",
    "        msg = f'\\t{p:3.0f} | {format_time(T)} ({t:3.0f}) | {params[\"bagging_fraction\"]:5.2f} | '\n",
    "        msg += f' {params[\"feature_fraction\"]:3.0%} | {params[\"min_data_in_leaf\"]:4.0f} |  {params[\"max_depth\"]:4.0f} |'\n",
    "        msg += f' {max(ic):6.2%} | {ic_by_day.mean().max(): 6.2%} | {daily_ic_mean_n: 4.0f} | {ic_by_day.median().max(): 6.2%} | {daily_ic_median_n: 4.0f} |'\n",
    "        \n",
    "        print(msg)\n",
    "\n",
    "        # persist results for given CV run and hyperparameter combination\n",
    "        metrics.to_hdf(rf_store, 'metrics/' + key)\n",
    "        ic_by_day.assign(**params).to_hdf(rf_store, 'daily_ic/' + key)\n",
    "        fi.T.describe().T.assign(**params).to_hdf(rf_store, 'fi/' + key)\n",
    "        cv_preds.to_hdf(rf_store, 'predictions/' + key)\n",
    "        "
   ]
  },
  {
   "cell_type": "code",
   "execution_count": null,
   "metadata": {
    "execution": {
     "iopub.execute_input": "2024-09-23T18:27:51.965266Z",
     "iopub.status.busy": "2024-09-23T18:27:51.965266Z",
     "iopub.status.idle": "2024-09-23T18:27:51.980849Z",
     "shell.execute_reply": "2024-09-23T18:27:51.980849Z"
    }
   },
   "outputs": [],
   "source": [
    "cv_preds.y_test"
   ]
  },
  {
   "cell_type": "code",
   "execution_count": null,
   "metadata": {
    "execution": {
     "iopub.execute_input": "2024-09-23T18:27:51.980849Z",
     "iopub.status.busy": "2024-09-23T18:27:51.980849Z",
     "iopub.status.idle": "2024-09-23T18:27:51.996502Z",
     "shell.execute_reply": "2024-09-23T18:27:51.996502Z"
    }
   },
   "outputs": [],
   "source": [
    "cv_preds[str(50)].tail(20)"
   ]
  },
  {
   "cell_type": "code",
   "execution_count": null,
   "metadata": {
    "execution": {
     "iopub.execute_input": "2024-09-23T18:27:51.996502Z",
     "iopub.status.busy": "2024-09-23T18:27:51.996502Z",
     "iopub.status.idle": "2024-09-23T18:27:52.012129Z",
     "shell.execute_reply": "2024-09-23T18:27:52.012129Z"
    }
   },
   "outputs": [],
   "source": [
    "y_pred"
   ]
  },
  {
   "cell_type": "code",
   "execution_count": null,
   "metadata": {},
   "outputs": [],
   "source": []
  },
  {
   "cell_type": "code",
   "execution_count": null,
   "metadata": {},
   "outputs": [],
   "source": []
  },
  {
   "cell_type": "code",
   "execution_count": null,
   "metadata": {},
   "outputs": [],
   "source": []
  }
 ],
 "metadata": {
  "kernelspec": {
   "display_name": "Python 3",
   "language": "python",
   "name": "python3"
  },
  "language_info": {
   "codemirror_mode": {
    "name": "ipython",
    "version": 3
   },
   "file_extension": ".py",
   "mimetype": "text/x-python",
   "name": "python",
   "nbconvert_exporter": "python",
   "pygments_lexer": "ipython3",
   "version": "3.12.3"
  },
  "toc": {
   "base_numbering": 1,
   "nav_menu": {},
   "number_sections": true,
   "sideBar": true,
   "skip_h1_title": true,
   "title_cell": "Table of Contents",
   "title_sidebar": "Contents",
   "toc_cell": false,
   "toc_position": {
    "height": "calc(100% - 180px)",
    "left": "10px",
    "top": "150px",
    "width": "374.162px"
   },
   "toc_section_display": true,
   "toc_window_display": true
  }
 },
 "nbformat": 4,
 "nbformat_minor": 4
}
