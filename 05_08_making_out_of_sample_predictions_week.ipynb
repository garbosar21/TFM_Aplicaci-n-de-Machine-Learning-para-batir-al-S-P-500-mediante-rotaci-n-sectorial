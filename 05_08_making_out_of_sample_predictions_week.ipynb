{
 "cells": [
  {
   "cell_type": "markdown",
   "metadata": {},
   "source": [
    "# Generando predicciones out-of-sample"
   ]
  },
  {
   "cell_type": "markdown",
   "metadata": {},
   "source": [
    "## Imports & Settings"
   ]
  },
  {
   "cell_type": "code",
   "execution_count": 179,
   "metadata": {
    "ExecuteTime": {
     "end_time": "2021-04-16T03:59:22.754238Z",
     "start_time": "2021-04-16T03:59:22.751670Z"
    },
    "execution": {
     "iopub.execute_input": "2024-09-23T18:29:41.998283Z",
     "iopub.status.busy": "2024-09-23T18:29:41.998283Z",
     "iopub.status.idle": "2024-09-23T18:29:42.013877Z",
     "shell.execute_reply": "2024-09-23T18:29:42.013877Z"
    }
   },
   "outputs": [],
   "source": [
    "import warnings\n",
    "warnings.filterwarnings('ignore')"
   ]
  },
  {
   "cell_type": "code",
   "execution_count": 180,
   "metadata": {
    "ExecuteTime": {
     "end_time": "2021-04-16T05:08:44.486465Z",
     "start_time": "2021-04-16T05:08:44.469578Z"
    },
    "execution": {
     "iopub.execute_input": "2024-09-23T18:29:42.013877Z",
     "iopub.status.busy": "2024-09-23T18:29:42.013877Z",
     "iopub.status.idle": "2024-09-23T18:29:44.216833Z",
     "shell.execute_reply": "2024-09-23T18:29:44.216833Z"
    },
    "scrolled": true
   },
   "outputs": [],
   "source": [
    "%matplotlib inline\n",
    "\n",
    "from time import time\n",
    "import sys, os\n",
    "from pathlib import Path\n",
    "\n",
    "import pandas as pd\n",
    "from scipy.stats import spearmanr\n",
    "\n",
    "import lightgbm as lgb\n",
    "from catboost import Pool, CatBoostRegressor\n",
    "\n",
    "import matplotlib.pyplot as plt\n",
    "import seaborn as sns\n",
    "import numpy as np"
   ]
  },
  {
   "cell_type": "code",
   "execution_count": 181,
   "metadata": {
    "execution": {
     "iopub.execute_input": "2024-09-23T18:29:44.216833Z",
     "iopub.status.busy": "2024-09-23T18:29:44.216833Z",
     "iopub.status.idle": "2024-09-23T18:29:44.232461Z",
     "shell.execute_reply": "2024-09-23T18:29:44.232461Z"
    }
   },
   "outputs": [],
   "source": [
    "\n",
    "np.random.seed(42)"
   ]
  },
  {
   "cell_type": "code",
   "execution_count": 182,
   "metadata": {
    "ExecuteTime": {
     "end_time": "2021-04-16T03:59:23.584097Z",
     "start_time": "2021-04-16T03:59:23.581416Z"
    },
    "execution": {
     "iopub.execute_input": "2024-09-23T18:29:44.232461Z",
     "iopub.status.busy": "2024-09-23T18:29:44.232461Z",
     "iopub.status.idle": "2024-09-23T18:29:44.248093Z",
     "shell.execute_reply": "2024-09-23T18:29:44.248093Z"
    },
    "scrolled": true
   },
   "outputs": [],
   "source": [
    "sys.path.insert(1, os.path.join(sys.path[0], '..'))\n",
    "from new_utils import MultipleTimeSeriesCV"
   ]
  },
  {
   "cell_type": "code",
   "execution_count": 183,
   "metadata": {
    "ExecuteTime": {
     "end_time": "2021-04-16T03:59:23.598076Z",
     "start_time": "2021-04-16T03:59:23.585119Z"
    },
    "execution": {
     "iopub.execute_input": "2024-09-23T18:29:44.248093Z",
     "iopub.status.busy": "2024-09-23T18:29:44.248093Z",
     "iopub.status.idle": "2024-09-23T18:29:44.263712Z",
     "shell.execute_reply": "2024-09-23T18:29:44.263712Z"
    },
    "scrolled": true
   },
   "outputs": [],
   "source": [
    "sns.set_style('whitegrid')"
   ]
  },
  {
   "cell_type": "code",
   "execution_count": 184,
   "metadata": {
    "ExecuteTime": {
     "end_time": "2021-04-16T03:59:23.611324Z",
     "start_time": "2021-04-16T03:59:23.598945Z"
    },
    "execution": {
     "iopub.execute_input": "2024-09-23T18:29:44.263712Z",
     "iopub.status.busy": "2024-09-23T18:29:44.263712Z",
     "iopub.status.idle": "2024-09-23T18:29:44.279448Z",
     "shell.execute_reply": "2024-09-23T18:29:44.279448Z"
    },
    "scrolled": true
   },
   "outputs": [],
   "source": [
    "YEAR = 12\n",
    "datos_semanales=1\n",
    "if datos_semanales==1:\n",
    "    YEAR=52\n",
    "idx = pd.IndexSlice"
   ]
  },
  {
   "cell_type": "code",
   "execution_count": 185,
   "metadata": {
    "ExecuteTime": {
     "end_time": "2021-04-16T03:59:23.618708Z",
     "start_time": "2021-04-16T03:59:23.612249Z"
    },
    "execution": {
     "iopub.execute_input": "2024-09-23T18:29:44.279448Z",
     "iopub.status.busy": "2024-09-23T18:29:44.279448Z",
     "iopub.status.idle": "2024-09-23T18:29:44.295069Z",
     "shell.execute_reply": "2024-09-23T18:29:44.295069Z"
    }
   },
   "outputs": [],
   "source": [
    "scope_params = ['lookahead', 'train_length', 'test_length']\n",
    "daily_ic_metrics = ['daily_ic_mean', 'daily_ic_mean_n', 'daily_ic_median', 'daily_ic_median_n']\n",
    "lgb_train_params = ['learning_rate', 'num_leaves', 'feature_fraction', 'min_data_in_leaf']\n",
    "rf_train_params = ['bagging_fraction', 'feature_fraction', 'min_data_in_leaf','max_depth']"
   ]
  },
  {
   "cell_type": "markdown",
   "metadata": {},
   "source": [
    "## Generate Lightgbm predictions"
   ]
  },
  {
   "cell_type": "markdown",
   "metadata": {},
   "source": [
    "### Model Configuration"
   ]
  },
  {
   "cell_type": "code",
   "execution_count": 186,
   "metadata": {
    "ExecuteTime": {
     "end_time": "2021-04-16T03:59:23.626636Z",
     "start_time": "2021-04-16T03:59:23.620602Z"
    },
    "execution": {
     "iopub.execute_input": "2024-09-23T18:29:44.295069Z",
     "iopub.status.busy": "2024-09-23T18:29:44.295069Z",
     "iopub.status.idle": "2024-09-23T18:29:44.310667Z",
     "shell.execute_reply": "2024-09-23T18:29:44.310667Z"
    }
   },
   "outputs": [],
   "source": [
    "base_params = dict(boosting='gbdt',\n",
    "                   objective='regression',\n",
    "                   random_state = 42, \n",
    "                   verbose=-1)\n",
    "\n",
    "categoricals = ['month', 'sector']\n",
    "# categoricals = ['month','sector', 'fase']\n",
    "# categoricals = ['month']"
   ]
  },
  {
   "cell_type": "code",
   "execution_count": 187,
   "metadata": {
    "ExecuteTime": {
     "end_time": "2021-04-16T03:59:23.637221Z",
     "start_time": "2021-04-16T03:59:23.627969Z"
    },
    "execution": {
     "iopub.execute_input": "2024-09-23T18:29:44.310667Z",
     "iopub.status.busy": "2024-09-23T18:29:44.310667Z",
     "iopub.status.idle": "2024-09-23T18:29:44.326450Z",
     "shell.execute_reply": "2024-09-23T18:29:44.326450Z"
    }
   },
   "outputs": [],
   "source": [
    "#dos semanas\n",
    "lookahead = 1\n",
    "store = Path('../data/predictions.h5') #no lo borramos previamente pq ya lo ha hecho el paso 5"
   ]
  },
  {
   "cell_type": "markdown",
   "metadata": {},
   "source": [
    "### Get Data"
   ]
  },
  {
   "cell_type": "code",
   "execution_count": 188,
   "metadata": {
    "ExecuteTime": {
     "end_time": "2021-04-16T03:59:24.861291Z",
     "start_time": "2021-04-16T03:59:23.638248Z"
    },
    "execution": {
     "iopub.execute_input": "2024-09-23T18:29:44.326450Z",
     "iopub.status.busy": "2024-09-23T18:29:44.326450Z",
     "iopub.status.idle": "2024-09-23T18:29:44.466835Z",
     "shell.execute_reply": "2024-09-23T18:29:44.466835Z"
    }
   },
   "outputs": [],
   "source": [
    "data = pd.read_hdf('../data/assets.h5','engineered_features').sort_index()#modificado\n",
    "\n",
    "configuración_neutral_f = ['1y_yield', 'sector', 'month', 'return_2m', 'retail_sales', 'return_6m',\n",
    "       'CMA', 'momentum_6', 'return_52m', 'return_1m_t-5', 'sentiment',\n",
    "       'return_3m', 'return_1m_t-1', 'RMW',\n",
    "        'return_1m_t-6', 'Mkt-RF_diff', 'SMB', 'oil'] + ['target_1m']\n",
    "\n",
    "\n",
    "configuración_norm_f =  ['month', 'sentiment',  'weekjobclaims_chg',\n",
    "       'corp_oas_chg', 'oil', 'hy_oas_chg', 'us_asset_balance_chg',\n",
    "       '1y_yield_chg','yield_curve_diff',\n",
    "       'curva_tipos_diff', 'vixoil_diff',\n",
    "       'return_1m_t-6', \n",
    "       'vix', 'return_1m_t-3', 'sector', 'retail_sales_diff', 'momentum_3',\n",
    "       ]  + ['target_1m']\n"
   ]
  },
  {
   "cell_type": "code",
   "execution_count": 193,
   "metadata": {
    "ExecuteTime": {
     "end_time": "2021-04-16T03:59:24.872441Z",
     "start_time": "2021-04-16T03:59:24.862170Z"
    },
    "execution": {
     "iopub.execute_input": "2024-09-23T18:29:44.544882Z",
     "iopub.status.busy": "2024-09-23T18:29:44.544882Z",
     "iopub.status.idle": "2024-09-23T18:29:44.560589Z",
     "shell.execute_reply": "2024-09-23T18:29:44.560589Z"
    }
   },
   "outputs": [],
   "source": [
    "labels = sorted(data.filter(like='target').columns)\n",
    "features = data.columns.difference(labels).tolist()\n",
    "label = 'target_1m'#modificado"
   ]
  },
  {
   "cell_type": "code",
   "execution_count": null,
   "metadata": {
    "execution": {
     "iopub.execute_input": "2024-09-23T18:29:44.607576Z",
     "iopub.status.busy": "2024-09-23T18:29:44.607576Z",
     "iopub.status.idle": "2024-09-23T18:29:44.638816Z",
     "shell.execute_reply": "2024-09-23T18:29:44.638816Z"
    }
   },
   "outputs": [],
   "source": [
    "# Encuentra las filas con al menos un valor NaN\n",
    "nan_cols = data.loc[idx[:, '2024':], features + [label]].isna().any(axis=0)\n",
    "\n",
    "print(nan_cols[nan_cols == True])\n"
   ]
  },
  {
   "cell_type": "code",
   "execution_count": 198,
   "metadata": {
    "execution": {
     "iopub.execute_input": "2024-09-23T18:29:44.638816Z",
     "iopub.status.busy": "2024-09-23T18:29:44.638816Z",
     "iopub.status.idle": "2024-09-23T18:29:44.654533Z",
     "shell.execute_reply": "2024-09-23T18:29:44.654533Z"
    }
   },
   "outputs": [],
   "source": [
    "#completamos con los valores del periodo anterior, para evitar que el último dato apareza nan\n",
    "data= data.fillna(method='ffill')"
   ]
  },
  {
   "cell_type": "code",
   "execution_count": 199,
   "metadata": {
    "ExecuteTime": {
     "end_time": "2021-04-16T03:59:25.603772Z",
     "start_time": "2021-04-16T03:59:24.873415Z"
    },
    "execution": {
     "iopub.execute_input": "2024-09-23T18:29:44.654533Z",
     "iopub.status.busy": "2024-09-23T18:29:44.654533Z",
     "iopub.status.idle": "2024-09-23T18:29:44.685860Z",
     "shell.execute_reply": "2024-09-23T18:29:44.685860Z"
    }
   },
   "outputs": [],
   "source": [
    "#datos desde 2010\n",
    "data = data.loc[idx[:, '2010':], features + [label]].dropna()"
   ]
  },
  {
   "cell_type": "code",
   "execution_count": null,
   "metadata": {
    "execution": {
     "iopub.execute_input": "2024-09-23T18:29:44.685860Z",
     "iopub.status.busy": "2024-09-23T18:29:44.685860Z",
     "iopub.status.idle": "2024-09-23T18:29:44.717159Z",
     "shell.execute_reply": "2024-09-23T18:29:44.717159Z"
    }
   },
   "outputs": [],
   "source": [
    "data.info()"
   ]
  },
  {
   "cell_type": "code",
   "execution_count": 202,
   "metadata": {
    "ExecuteTime": {
     "end_time": "2021-04-16T03:59:25.670973Z",
     "start_time": "2021-04-16T03:59:25.604625Z"
    },
    "execution": {
     "iopub.execute_input": "2024-09-23T18:29:44.779663Z",
     "iopub.status.busy": "2024-09-23T18:29:44.779663Z",
     "iopub.status.idle": "2024-09-23T18:29:44.795239Z",
     "shell.execute_reply": "2024-09-23T18:29:44.795239Z"
    }
   },
   "outputs": [],
   "source": [
    "for feature in categoricals:\n",
    "    data[feature] = pd.factorize(data[feature], sort=True)[0]"
   ]
  },
  {
   "cell_type": "code",
   "execution_count": 203,
   "metadata": {
    "ExecuteTime": {
     "end_time": "2021-04-16T03:59:25.743036Z",
     "start_time": "2021-04-16T03:59:25.671795Z"
    },
    "execution": {
     "iopub.execute_input": "2024-09-23T18:29:44.795239Z",
     "iopub.status.busy": "2024-09-23T18:29:44.795239Z",
     "iopub.status.idle": "2024-09-23T18:29:44.810800Z",
     "shell.execute_reply": "2024-09-23T18:29:44.810800Z"
    }
   },
   "outputs": [],
   "source": [
    "lgb_data = lgb.Dataset(data=data[features],\n",
    "                       label=data[label],\n",
    "                       categorical_feature=categoricals,\n",
    "                       free_raw_data=False)"
   ]
  },
  {
   "cell_type": "markdown",
   "metadata": {},
   "source": [
    "### Generamos predicciones"
   ]
  },
  {
   "cell_type": "code",
   "execution_count": 204,
   "metadata": {
    "ExecuteTime": {
     "end_time": "2021-04-16T03:59:25.860485Z",
     "start_time": "2021-04-16T03:59:25.743923Z"
    },
    "execution": {
     "iopub.execute_input": "2024-09-23T18:29:44.810800Z",
     "iopub.status.busy": "2024-09-23T18:29:44.810800Z",
     "iopub.status.idle": "2024-09-23T18:29:44.857711Z",
     "shell.execute_reply": "2024-09-23T18:29:44.857711Z"
    }
   },
   "outputs": [],
   "source": [
    "#tomamos los IC almacenados\n",
    "lgb_ic = pd.read_hdf('../data/model_tuning.h5', 'lgb/ic')\n",
    "lgb_daily_ic = pd.read_hdf('../data/model_tuning.h5', 'lgb/daily_ic')"
   ]
  },
  {
   "cell_type": "code",
   "execution_count": 205,
   "metadata": {
    "ExecuteTime": {
     "end_time": "2021-04-16T03:59:25.863322Z",
     "start_time": "2021-04-16T03:59:25.861312Z"
    },
    "execution": {
     "iopub.execute_input": "2024-09-23T18:29:44.857711Z",
     "iopub.status.busy": "2024-09-23T18:29:44.857711Z",
     "iopub.status.idle": "2024-09-23T18:29:44.873361Z",
     "shell.execute_reply": "2024-09-23T18:29:44.873361Z"
    }
   },
   "outputs": [],
   "source": [
    "#función para tomar los mejores parametros que saliernon en entrenamiento para un lookahead determinado\n",
    "def get_lgb_params(data, t=5, best=0):\n",
    "    param_cols = scope_params[1:] + lgb_train_params + ['boost_rounds']\n",
    "    df = data[data.lookahead==t].sort_values('ic', ascending=False).iloc[best]\n",
    "    return df.loc[param_cols]"
   ]
  },
  {
   "cell_type": "code",
   "execution_count": 206,
   "metadata": {
    "execution": {
     "iopub.execute_input": "2024-09-23T18:29:44.873361Z",
     "iopub.status.busy": "2024-09-23T18:29:44.873361Z",
     "iopub.status.idle": "2024-09-23T18:29:44.889001Z",
     "shell.execute_reply": "2024-09-23T18:29:44.889001Z"
    }
   },
   "outputs": [],
   "source": [
    "#para hacer más OOS que el 1 año definido inicialmente\n",
    "years_OOS=5"
   ]
  },
  {
   "cell_type": "code",
   "execution_count": null,
   "metadata": {
    "ExecuteTime": {
     "end_time": "2021-04-16T04:42:08.945191Z",
     "start_time": "2021-04-16T03:59:25.864181Z"
    },
    "execution": {
     "iopub.execute_input": "2024-09-23T18:29:44.904570Z",
     "iopub.status.busy": "2024-09-23T18:29:44.904570Z",
     "iopub.status.idle": "2024-09-23T18:32:22.390306Z",
     "shell.execute_reply": "2024-09-23T18:32:22.390306Z"
    }
   },
   "outputs": [],
   "source": [
    "#for par las 10 mejores configuracones de paramentros de las cuales almacenaremos sus predicciones\n",
    "for position in range(10):\n",
    "    params = get_lgb_params(lgb_daily_ic,\n",
    "                            t=lookahead,\n",
    "                            best=position)\n",
    "\n",
    "    params = params.to_dict()#parametros a diccionario\n",
    "\n",
    "    for p in ['min_data_in_leaf', 'num_leaves']:\n",
    "        params[p] = int(params[p])\n",
    "    train_length = int(params.pop('train_length')) # Extrae y elimina el parámetro 'train_length' del diccionario de parámetros y lo convierte a un entero\n",
    "    test_length = int(params.pop('test_length'))\n",
    "    num_boost_round = int(params.pop('boost_rounds'))\n",
    "    params.update(base_params)\n",
    "\n",
    "    print(f'\\nPosition: {position:02}')\n",
    "\n",
    "    # 1-year out-of-sample period\n",
    "    #vamos a ir haciendo el walk forward con periodos de test de un mes, moveremos el modelo para volver a entrenar y predeciremos el siguiente mes\n",
    "    n_splits = int(YEAR * years_OOS / test_length)\n",
    "    cv = MultipleTimeSeriesCV(n_splits=n_splits,\n",
    "                              test_period_length=test_length,\n",
    "                              lookahead=lookahead,\n",
    "                              train_period_length=train_length)\n",
    "\n",
    "    predictions = []\n",
    "    start = time()\n",
    "    for i, (train_idx, test_idx) in enumerate(cv.split(X=data), 1):\n",
    "        print(i, end=' ', flush=True)\n",
    "        \n",
    "        # Crea un conjunto de datos de entrenamiento para LightGBM\n",
    "        lgb_train = lgb_data.subset(used_indices=train_idx.tolist(),\n",
    "                                    params=params).construct()\n",
    "         # Entrena el modelo LightGBM\n",
    "        model = lgb.train(params=params,\n",
    "                          train_set=lgb_train,\n",
    "                          num_boost_round=num_boost_round,\n",
    "                          verbose_eval=False)\n",
    "\n",
    "        test_set = data.iloc[test_idx, :]\n",
    "        y_test = test_set.loc[:, label].to_frame('y_test')\n",
    "        # Realiza predicciones en el conjunto de datos de prueba\n",
    "        y_pred = model.predict(test_set.loc[:, model.feature_name()])\n",
    "        predictions.append(y_test.assign(prediction=y_pred))\n",
    "\n",
    "    if position == 0:\n",
    "        test_predictions = (pd.concat(predictions)\n",
    "                            .rename(columns={'prediction': position}))\n",
    "    else:\n",
    "        test_predictions[position] = pd.concat(predictions).prediction\n",
    "\n",
    "by_day = test_predictions.groupby(level='date')# Agrupa las predicciones por fecha\n",
    "for position in range(10):\n",
    "     # Si es la primera iteración, calcula el coeficiente de correlación de Spearman\n",
    "    #entre las predicciones y las etiquetas verdaderas y lo almacena en `ic_by_day`\n",
    "    if position == 0:\n",
    "        ic_by_day = by_day.apply(lambda x: spearmanr(\n",
    "            x.y_test, x[position])[0]).to_frame()\n",
    "    else:\n",
    "        ic_by_day[position] = by_day.apply(\n",
    "            lambda x: spearmanr(x.y_test, x[position])[0])\n",
    "print(ic_by_day.describe())\n",
    "test_predictions.to_hdf(store, f'lgb/test/{lookahead:02}')"
   ]
  },
  {
   "cell_type": "markdown",
   "metadata": {},
   "source": [
    "## Verificamos que funciona el cross validation "
   ]
  },
  {
   "cell_type": "code",
   "execution_count": 208,
   "metadata": {
    "execution": {
     "iopub.execute_input": "2024-09-23T18:32:22.390306Z",
     "iopub.status.busy": "2024-09-23T18:32:22.390306Z",
     "iopub.status.idle": "2024-09-23T18:32:22.406092Z",
     "shell.execute_reply": "2024-09-23T18:32:22.406092Z"
    }
   },
   "outputs": [],
   "source": [
    "train_period_length = 216\n",
    "test_period_length = 12\n",
    "#MultipleTimeSeriesCV siempre empieza por el final por eso tomará como periodo de validación/teste desde la ultima fecha que le pasemos hasta \n",
    "#los años que definamos por n_splits\n",
    "n_splits = int(YEAR* years_OOS/test_period_length)\n",
    "lookahead =1 \n",
    "\n",
    "cv = MultipleTimeSeriesCV(n_splits=n_splits,\n",
    "                          test_period_length=test_period_length,\n",
    "                          lookahead=lookahead,\n",
    "                          train_period_length=train_period_length)"
   ]
  },
  {
   "cell_type": "markdown",
   "metadata": {},
   "source": [
    "n_splits"
   ]
  },
  {
   "cell_type": "code",
   "execution_count": null,
   "metadata": {
    "execution": {
     "iopub.execute_input": "2024-09-23T18:32:22.406092Z",
     "iopub.status.busy": "2024-09-23T18:32:22.406092Z",
     "iopub.status.idle": "2024-09-23T18:32:23.031194Z",
     "shell.execute_reply": "2024-09-23T18:32:23.031194Z"
    }
   },
   "outputs": [],
   "source": [
    "i = 0\n",
    "for train_idx, test_idx in cv.split(X=data):\n",
    "    train = data.iloc[train_idx]\n",
    "    train_dates = train.index.get_level_values('date')\n",
    "    test = data.iloc[test_idx]\n",
    "    test_dates = test.index.get_level_values('date')\n",
    "    df = pd.concat([train.reset_index(), test.reset_index()])\n",
    "    n = len(df)\n",
    "    assert n== len(df.drop_duplicates())\n",
    "    print(train.groupby(level='ticker').size().value_counts().index[0],\n",
    "          train_dates.min().date(), train_dates.max().date(),\n",
    "          test.groupby(level='ticker').size().value_counts().index[0],\n",
    "          test_dates.min().date(), test_dates.max().date())\n",
    "    i += 1\n",
    "    if i == 100:\n",
    "        break"
   ]
  },
  {
   "cell_type": "markdown",
   "metadata": {
    "scrolled": true
   },
   "source": [
    "n_splits"
   ]
  },
  {
   "cell_type": "code",
   "execution_count": null,
   "metadata": {
    "execution": {
     "iopub.execute_input": "2024-09-23T18:32:23.031194Z",
     "iopub.status.busy": "2024-09-23T18:32:23.031194Z",
     "iopub.status.idle": "2024-09-23T18:32:23.046793Z",
     "shell.execute_reply": "2024-09-23T18:32:23.046793Z"
    }
   },
   "outputs": [],
   "source": [
    "stop"
   ]
  },
  {
   "cell_type": "markdown",
   "metadata": {},
   "source": [
    "## Generar RF predictions"
   ]
  },
  {
   "cell_type": "markdown",
   "metadata": {},
   "source": [
    "### Model Configuration"
   ]
  },
  {
   "cell_type": "code",
   "execution_count": 582,
   "metadata": {
    "ExecuteTime": {
     "end_time": "2021-04-16T03:59:23.626636Z",
     "start_time": "2021-04-16T03:59:23.620602Z"
    },
    "execution": {
     "iopub.execute_input": "2024-09-23T18:32:23.046793Z",
     "iopub.status.busy": "2024-09-23T18:32:23.046793Z",
     "iopub.status.idle": "2024-09-23T18:32:23.062363Z",
     "shell.execute_reply": "2024-09-23T18:32:23.062363Z"
    }
   },
   "outputs": [],
   "source": [
    "base_params = dict(boosting='rf',\n",
    "                   objective='regression',\n",
    "                   random_state = 42, \n",
    "                   bagging_freq=1, \n",
    "                   verbose=-1)\n",
    "\n",
    "#categoricals = ['year', 'month', 'sector', 'weekday']"
   ]
  },
  {
   "cell_type": "code",
   "execution_count": 584,
   "metadata": {
    "ExecuteTime": {
     "end_time": "2021-04-16T03:59:23.637221Z",
     "start_time": "2021-04-16T03:59:23.627969Z"
    },
    "execution": {
     "iopub.execute_input": "2024-09-23T18:32:23.077980Z",
     "iopub.status.busy": "2024-09-23T18:32:23.077980Z",
     "iopub.status.idle": "2024-09-23T18:32:23.093616Z",
     "shell.execute_reply": "2024-09-23T18:32:23.093616Z"
    }
   },
   "outputs": [],
   "source": [
    "\n",
    "store = Path('../data/predictions.h5')"
   ]
  },
  {
   "cell_type": "markdown",
   "metadata": {},
   "source": [
    "### Get Data"
   ]
  },
  {
   "cell_type": "code",
   "execution_count": null,
   "metadata": {
    "execution": {
     "iopub.execute_input": "2024-09-23T18:32:23.156193Z",
     "iopub.status.busy": "2024-09-23T18:32:23.156193Z",
     "iopub.status.idle": "2024-09-23T18:32:23.202981Z",
     "shell.execute_reply": "2024-09-23T18:32:23.202981Z"
    }
   },
   "outputs": [],
   "source": [
    "data.loc[idx[:, '2024'],:]"
   ]
  },
  {
   "cell_type": "code",
   "execution_count": 589,
   "metadata": {
    "ExecuteTime": {
     "end_time": "2021-04-16T03:59:25.670973Z",
     "start_time": "2021-04-16T03:59:25.604625Z"
    },
    "execution": {
     "iopub.execute_input": "2024-09-23T18:32:23.218604Z",
     "iopub.status.busy": "2024-09-23T18:32:23.218604Z",
     "iopub.status.idle": "2024-09-23T18:32:23.234240Z",
     "shell.execute_reply": "2024-09-23T18:32:23.234240Z"
    }
   },
   "outputs": [],
   "source": [
    "for feature in categoricals:\n",
    "    data[feature] = pd.factorize(data[feature], sort=True)[0]"
   ]
  },
  {
   "cell_type": "code",
   "execution_count": 590,
   "metadata": {
    "ExecuteTime": {
     "end_time": "2021-04-16T03:59:25.743036Z",
     "start_time": "2021-04-16T03:59:25.671795Z"
    },
    "execution": {
     "iopub.execute_input": "2024-09-23T18:32:23.234240Z",
     "iopub.status.busy": "2024-09-23T18:32:23.234240Z",
     "iopub.status.idle": "2024-09-23T18:32:23.249838Z",
     "shell.execute_reply": "2024-09-23T18:32:23.249838Z"
    }
   },
   "outputs": [],
   "source": [
    "lgb_data = lgb.Dataset(data=data[features],\n",
    "                       label=data[label],\n",
    "                       categorical_feature=categoricals,\n",
    "                       free_raw_data=False)"
   ]
  },
  {
   "cell_type": "code",
   "execution_count": null,
   "metadata": {},
   "outputs": [],
   "source": [
    "stop"
   ]
  },
  {
   "cell_type": "markdown",
   "metadata": {},
   "source": [
    "### Generate predictions"
   ]
  },
  {
   "cell_type": "code",
   "execution_count": 591,
   "metadata": {
    "ExecuteTime": {
     "end_time": "2021-04-16T03:59:25.860485Z",
     "start_time": "2021-04-16T03:59:25.743923Z"
    },
    "execution": {
     "iopub.execute_input": "2024-09-23T18:32:23.249838Z",
     "iopub.status.busy": "2024-09-23T18:32:23.249838Z",
     "iopub.status.idle": "2024-09-23T18:32:23.280987Z",
     "shell.execute_reply": "2024-09-23T18:32:23.280987Z"
    }
   },
   "outputs": [],
   "source": [
    "#tomamos los IC almacenados\n",
    "rf_ic = pd.read_hdf('../data/model_tuning.h5', 'rf/ic')\n",
    "rf_daily_ic = pd.read_hdf('../data/model_tuning.h5', 'rf/daily_ic')"
   ]
  },
  {
   "cell_type": "code",
   "execution_count": null,
   "metadata": {
    "execution": {
     "iopub.execute_input": "2024-09-23T18:32:23.280987Z",
     "iopub.status.busy": "2024-09-23T18:32:23.280987Z",
     "iopub.status.idle": "2024-09-23T18:32:23.312224Z",
     "shell.execute_reply": "2024-09-23T18:32:23.312224Z"
    }
   },
   "outputs": [],
   "source": [
    "rf_daily_ic"
   ]
  },
  {
   "cell_type": "code",
   "execution_count": 593,
   "metadata": {
    "execution": {
     "iopub.execute_input": "2024-09-23T18:32:23.312224Z",
     "iopub.status.busy": "2024-09-23T18:32:23.312224Z",
     "iopub.status.idle": "2024-09-23T18:32:23.327850Z",
     "shell.execute_reply": "2024-09-23T18:32:23.327850Z"
    }
   },
   "outputs": [],
   "source": [
    "rf_daily_ic['test_length']=1"
   ]
  },
  {
   "cell_type": "code",
   "execution_count": 594,
   "metadata": {
    "ExecuteTime": {
     "end_time": "2021-04-16T03:59:25.863322Z",
     "start_time": "2021-04-16T03:59:25.861312Z"
    },
    "execution": {
     "iopub.execute_input": "2024-09-23T18:32:23.327850Z",
     "iopub.status.busy": "2024-09-23T18:32:23.327850Z",
     "iopub.status.idle": "2024-09-23T18:32:23.343454Z",
     "shell.execute_reply": "2024-09-23T18:32:23.343454Z"
    }
   },
   "outputs": [],
   "source": [
    "#función para tomar los mejores parametros que saliernon en entrenamiento para un lookahead determinado\n",
    "def get_rf_params(data, t=5, best=0):\n",
    "    param_cols = scope_params[1:] + rf_train_params + ['boost_rounds']\n",
    "    df = data[data.lookahead==t].sort_values('ic', ascending=False).iloc[best]\n",
    "    return df.loc[param_cols]"
   ]
  },
  {
   "cell_type": "code",
   "execution_count": 595,
   "metadata": {
    "execution": {
     "iopub.execute_input": "2024-09-23T18:32:23.343454Z",
     "iopub.status.busy": "2024-09-23T18:32:23.343454Z",
     "iopub.status.idle": "2024-09-23T18:32:23.359075Z",
     "shell.execute_reply": "2024-09-23T18:32:23.359075Z"
    }
   },
   "outputs": [],
   "source": [
    "#para hacer más OOS que el 1 año definido inicialmente\n",
    "#years_OOS=1"
   ]
  },
  {
   "cell_type": "code",
   "execution_count": null,
   "metadata": {
    "ExecuteTime": {
     "end_time": "2021-04-16T04:42:08.945191Z",
     "start_time": "2021-04-16T03:59:25.864181Z"
    },
    "execution": {
     "iopub.execute_input": "2024-09-23T18:32:23.359075Z",
     "iopub.status.busy": "2024-09-23T18:32:23.359075Z",
     "iopub.status.idle": "2024-09-23T18:37:11.453877Z",
     "shell.execute_reply": "2024-09-23T18:37:11.453877Z"
    }
   },
   "outputs": [],
   "source": [
    "#for par las 10 mejores configuracones de paramentros de las cuales almacenaremos sus predicciones\n",
    "for position in range(10):\n",
    "    params = get_rf_params(rf_daily_ic,\n",
    "                            t=lookahead,\n",
    "                            best=position)\n",
    "\n",
    "    params = params.to_dict()#parametros a diccionario\n",
    "\n",
    "    for p in ['min_data_in_leaf','max_depth']:\n",
    "        params[p] = int(params[p])\n",
    "    train_length = int(params.pop('train_length')) # Extrae y elimina el parámetro 'train_length' del diccionario de parámetros y lo convierte a un entero\n",
    "    test_length = int(params.pop('test_length'))\n",
    "    num_boost_round = int(params.pop('boost_rounds'))\n",
    "    params.update(base_params)\n",
    "\n",
    "    print(f'\\nPosition: {position:02}')\n",
    "\n",
    "    # 1-year out-of-sample period\n",
    "    #vamos a ir haciendo el walk forward con periodos de test de un mes, moveremos el modelo para volver a entrenar y predeciremos el siguiente mes\n",
    "    n_splits = int(YEAR * years_OOS / test_length)\n",
    "    cv = MultipleTimeSeriesCV(n_splits=n_splits,\n",
    "                              test_period_length=test_length,\n",
    "                              lookahead=lookahead,\n",
    "                              train_period_length=train_length)\n",
    "\n",
    "    predictions = []\n",
    "    start = time()\n",
    "    for i, (train_idx, test_idx) in enumerate(cv.split(X=data), 1):\n",
    "        print(i, end=' ', flush=True)\n",
    "        \n",
    "        # Crea un conjunto de datos de entrenamiento para LightGBM\n",
    "        lgb_train = lgb_data.subset(used_indices=train_idx.tolist(),\n",
    "                                    params=params).construct()\n",
    "         # Entrena el modelo LightGBM\n",
    "        model = lgb.train(params=params,\n",
    "                          train_set=lgb_train,\n",
    "                          num_boost_round=num_boost_round,\n",
    "                          verbose_eval=False)\n",
    "\n",
    "        test_set = data.iloc[test_idx, :]\n",
    "        y_test = test_set.loc[:, label].to_frame('y_test')\n",
    "        # Realiza predicciones en el conjunto de datos de prueba\n",
    "        y_pred = model.predict(test_set.loc[:, model.feature_name()])\n",
    "        predictions.append(y_test.assign(prediction=y_pred))\n",
    "        #if position == 0:\n",
    "        #    break\n",
    "    #if position == 0:\n",
    "    #    break\n",
    "    if position == 0:\n",
    "        test_predictions = (pd.concat(predictions)\n",
    "                            .rename(columns={'prediction': position}))\n",
    "    else:\n",
    "        test_predictions[position] = pd.concat(predictions).prediction\n",
    "\n",
    "by_day = test_predictions.groupby(level='date')# Agrupa las predicciones por fecha\n",
    "for position in range(10):\n",
    "     # Si es la primera iteración, calcula el coeficiente de correlación de Spearman\n",
    "    #entre las predicciones y las etiquetas verdaderas y lo almacena en `ic_by_day`\n",
    "    if position == 0:\n",
    "        ic_by_day = by_day.apply(lambda x: spearmanr(\n",
    "            x.y_test, x[position])[0]).to_frame()\n",
    "    else:\n",
    "        ic_by_day[position] = by_day.apply(\n",
    "            lambda x: spearmanr(x.y_test, x[position])[0])\n",
    "print(ic_by_day.describe())\n",
    "test_predictions.to_hdf(store, f'rf/test/{lookahead:02}')"
   ]
  },
  {
   "cell_type": "code",
   "execution_count": 597,
   "metadata": {
    "execution": {
     "iopub.execute_input": "2024-09-23T18:37:11.453877Z",
     "iopub.status.busy": "2024-09-23T18:37:11.453877Z",
     "iopub.status.idle": "2024-09-23T18:37:11.469705Z",
     "shell.execute_reply": "2024-09-23T18:37:11.469705Z"
    }
   },
   "outputs": [],
   "source": [
    " n_splits = int(YEAR * years_OOS / test_length)"
   ]
  },
  {
   "cell_type": "code",
   "execution_count": null,
   "metadata": {
    "execution": {
     "iopub.execute_input": "2024-09-23T18:37:11.469705Z",
     "iopub.status.busy": "2024-09-23T18:37:11.469705Z",
     "iopub.status.idle": "2024-09-23T18:37:11.485393Z",
     "shell.execute_reply": "2024-09-23T18:37:11.485393Z"
    }
   },
   "outputs": [],
   "source": [
    "test_length"
   ]
  },
  {
   "cell_type": "code",
   "execution_count": null,
   "metadata": {
    "execution": {
     "iopub.execute_input": "2024-09-23T18:37:11.485393Z",
     "iopub.status.busy": "2024-09-23T18:37:11.485393Z",
     "iopub.status.idle": "2024-09-23T18:37:11.516710Z",
     "shell.execute_reply": "2024-09-23T18:37:11.516710Z"
    }
   },
   "outputs": [],
   "source": [
    "ic_by_day"
   ]
  },
  {
   "cell_type": "code",
   "execution_count": null,
   "metadata": {
    "execution": {
     "iopub.execute_input": "2024-09-23T18:37:11.516710Z",
     "iopub.status.busy": "2024-09-23T18:37:11.516710Z",
     "iopub.status.idle": "2024-09-23T18:37:11.532391Z",
     "shell.execute_reply": "2024-09-23T18:37:11.532391Z"
    }
   },
   "outputs": [],
   "source": [
    " f'rf/test/{lookahead:02}'"
   ]
  },
  {
   "cell_type": "code",
   "execution_count": null,
   "metadata": {
    "execution": {
     "iopub.execute_input": "2024-09-23T18:37:11.532391Z",
     "iopub.status.busy": "2024-09-23T18:37:11.532391Z",
     "iopub.status.idle": "2024-09-23T18:37:11.563631Z",
     "shell.execute_reply": "2024-09-23T18:37:11.563631Z"
    }
   },
   "outputs": [],
   "source": [
    "test_set.loc['XLU', model.feature_name()]"
   ]
  },
  {
   "cell_type": "code",
   "execution_count": null,
   "metadata": {
    "execution": {
     "iopub.execute_input": "2024-09-23T18:37:11.563631Z",
     "iopub.status.busy": "2024-09-23T18:37:11.563631Z",
     "iopub.status.idle": "2024-09-23T18:37:11.579270Z",
     "shell.execute_reply": "2024-09-23T18:37:11.579270Z"
    }
   },
   "outputs": [],
   "source": [
    "num_boost_round"
   ]
  },
  {
   "cell_type": "code",
   "execution_count": null,
   "metadata": {
    "execution": {
     "iopub.execute_input": "2024-09-23T18:37:11.579270Z",
     "iopub.status.busy": "2024-09-23T18:37:11.579270Z",
     "iopub.status.idle": "2024-09-23T18:37:11.594682Z",
     "shell.execute_reply": "2024-09-23T18:37:11.594682Z"
    }
   },
   "outputs": [],
   "source": [
    "params"
   ]
  },
  {
   "cell_type": "code",
   "execution_count": null,
   "metadata": {
    "execution": {
     "iopub.execute_input": "2024-09-23T18:37:11.594682Z",
     "iopub.status.busy": "2024-09-23T18:37:11.594682Z",
     "iopub.status.idle": "2024-09-23T18:37:11.610464Z",
     "shell.execute_reply": "2024-09-23T18:37:11.610464Z"
    }
   },
   "outputs": [],
   "source": [
    " model.feature_name()"
   ]
  },
  {
   "cell_type": "code",
   "execution_count": null,
   "metadata": {
    "execution": {
     "iopub.execute_input": "2024-09-23T18:37:11.610464Z",
     "iopub.status.busy": "2024-09-23T18:37:11.610464Z",
     "iopub.status.idle": "2024-09-23T18:37:11.641579Z",
     "shell.execute_reply": "2024-09-23T18:37:11.641579Z"
    }
   },
   "outputs": [],
   "source": [
    "#for par las 10 mejores configuracones de paramentros de las cuales almacenaremos sus predicciones\n",
    "for position in range(10):\n",
    "    params = get_rf_params(rf_daily_ic,\n",
    "                            t=lookahead,\n",
    "                            best=position)\n",
    "    print (params)"
   ]
  },
  {
   "cell_type": "code",
   "execution_count": null,
   "metadata": {
    "execution": {
     "iopub.execute_input": "2024-09-23T18:37:11.641579Z",
     "iopub.status.busy": "2024-09-23T18:37:11.641579Z",
     "iopub.status.idle": "2024-09-23T18:37:11.657343Z",
     "shell.execute_reply": "2024-09-23T18:37:11.657343Z"
    }
   },
   "outputs": [],
   "source": [
    "params"
   ]
  },
  {
   "cell_type": "markdown",
   "metadata": {},
   "source": [
    "## Verificamos que funciona el cross validation "
   ]
  },
  {
   "cell_type": "code",
   "execution_count": 546,
   "metadata": {
    "execution": {
     "iopub.execute_input": "2024-09-23T18:37:11.657343Z",
     "iopub.status.busy": "2024-09-23T18:37:11.657343Z",
     "iopub.status.idle": "2024-09-23T18:37:11.673021Z",
     "shell.execute_reply": "2024-09-23T18:37:11.673021Z"
    }
   },
   "outputs": [],
   "source": [
    "train_period_length = 216\n",
    "test_period_length = 4\n",
    "#MultipleTimeSeriesCV siempre empieza por el final por eso tomará como periodo de validación/teste desde la ultima fecha que le pasemos hasta \n",
    "#los años que definamos por n_splits\n",
    "n_splits = int(YEAR* years_OOS/test_period_length)\n",
    "lookahead =2\n",
    "\n",
    "cv = MultipleTimeSeriesCV(n_splits=n_splits,\n",
    "                          test_period_length=test_period_length,\n",
    "                          lookahead=lookahead,\n",
    "                          train_period_length=train_period_length)"
   ]
  },
  {
   "cell_type": "code",
   "execution_count": null,
   "metadata": {
    "execution": {
     "iopub.execute_input": "2024-09-23T18:37:11.673021Z",
     "iopub.status.busy": "2024-09-23T18:37:11.673021Z",
     "iopub.status.idle": "2024-09-23T18:37:11.688649Z",
     "shell.execute_reply": "2024-09-23T18:37:11.688649Z"
    }
   },
   "outputs": [],
   "source": [
    "n_splits"
   ]
  },
  {
   "cell_type": "code",
   "execution_count": null,
   "metadata": {
    "execution": {
     "iopub.execute_input": "2024-09-23T18:37:11.688649Z",
     "iopub.status.busy": "2024-09-23T18:37:11.688649Z",
     "iopub.status.idle": "2024-09-23T18:37:13.578911Z",
     "shell.execute_reply": "2024-09-23T18:37:13.578911Z"
    }
   },
   "outputs": [],
   "source": [
    "i = 0\n",
    "for train_idx, test_idx in cv.split(X=data):\n",
    "    train = data.iloc[train_idx]\n",
    "    train_dates = train.index.get_level_values('date')\n",
    "    test = data.iloc[test_idx]\n",
    "    test_dates = test.index.get_level_values('date')\n",
    "    df = pd.concat([train.reset_index(), test.reset_index()])\n",
    "    n = len(df)\n",
    "    assert n== len(df.drop_duplicates())\n",
    "    print(train.groupby(level='ticker').size().value_counts().index[0],\n",
    "          train_dates.min().date(), train_dates.max().date(),\n",
    "          test.groupby(level='ticker').size().value_counts().index[0],\n",
    "          test_dates.min().date(), test_dates.max().date())\n",
    "    i += 1\n",
    "    if i == 100:\n",
    "        break"
   ]
  },
  {
   "cell_type": "code",
   "execution_count": null,
   "metadata": {
    "execution": {
     "iopub.execute_input": "2024-09-23T18:37:13.578911Z",
     "iopub.status.busy": "2024-09-23T18:37:13.578911Z",
     "iopub.status.idle": "2024-09-23T18:37:13.594539Z",
     "shell.execute_reply": "2024-09-23T18:37:13.594539Z"
    }
   },
   "outputs": [],
   "source": [
    "n_splits"
   ]
  },
  {
   "cell_type": "code",
   "execution_count": null,
   "metadata": {
    "execution": {
     "iopub.execute_input": "2024-09-23T18:37:13.594539Z",
     "iopub.status.busy": "2024-09-23T18:37:13.594539Z",
     "iopub.status.idle": "2024-09-23T18:37:13.610178Z",
     "shell.execute_reply": "2024-09-23T18:37:13.610178Z"
    }
   },
   "outputs": [],
   "source": [
    "years_OOS"
   ]
  },
  {
   "cell_type": "code",
   "execution_count": null,
   "metadata": {},
   "outputs": [],
   "source": []
  }
 ],
 "metadata": {
  "kernelspec": {
   "display_name": "Python 3",
   "language": "python",
   "name": "python3"
  },
  "language_info": {
   "codemirror_mode": {
    "name": "ipython",
    "version": 3
   },
   "file_extension": ".py",
   "mimetype": "text/x-python",
   "name": "python",
   "nbconvert_exporter": "python",
   "pygments_lexer": "ipython3",
   "version": "3.12.3"
  },
  "toc": {
   "base_numbering": 1,
   "nav_menu": {},
   "number_sections": true,
   "sideBar": true,
   "skip_h1_title": true,
   "title_cell": "Table of Contents",
   "title_sidebar": "Contents",
   "toc_cell": false,
   "toc_position": {
    "height": "calc(100% - 180px)",
    "left": "10px",
    "top": "150px",
    "width": "301.861px"
   },
   "toc_section_display": true,
   "toc_window_display": true
  }
 },
 "nbformat": 4,
 "nbformat_minor": 4
}
