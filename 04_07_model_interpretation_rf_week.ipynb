{
 "cells": [
  {
   "cell_type": "markdown",
   "metadata": {},
   "source": [
    "# Interpretación de los resultados"
   ]
  },
  {
   "cell_type": "markdown",
   "metadata": {},
   "source": [
    "## Imports & Settings"
   ]
  },
  {
   "cell_type": "code",
   "execution_count": null,
   "metadata": {
    "ExecuteTime": {
     "end_time": "2021-04-16T04:07:44.225676Z",
     "start_time": "2021-04-16T04:07:42.745956Z"
    }
   },
   "outputs": [],
   "source": [
    "%matplotlib inline\n",
    "\n",
    "from pathlib import Path\n",
    "import warnings\n",
    "from random import randint\n",
    "import joblib\n",
    "from itertools import product\n",
    "\n",
    "import numpy as np\n",
    "import pandas as pd\n",
    "\n",
    "import shap\n",
    "import lightgbm as lgb\n",
    "#from sklearn.inspection import (plot_partial_dependence, \n",
    "#                                partial_dependence)\n",
    "\n",
    "import matplotlib.pyplot as plt\n",
    "from matplotlib.ticker import FuncFormatter\n",
    "from mpl_toolkits.mplot3d import Axes3D\n",
    "import seaborn as sns"
   ]
  },
  {
   "cell_type": "code",
   "execution_count": 8,
   "metadata": {
    "ExecuteTime": {
     "end_time": "2021-04-16T04:07:44.229969Z",
     "start_time": "2021-04-16T04:07:44.227894Z"
    }
   },
   "outputs": [],
   "source": [
    "warnings.filterwarnings('ignore')\n",
    "sns.set_style('darkgrid')\n",
    "idx = pd.IndexSlice\n",
    "np.random.seed(42)"
   ]
  },
  {
   "cell_type": "code",
   "execution_count": 9,
   "metadata": {
    "ExecuteTime": {
     "end_time": "2021-04-16T04:07:44.237839Z",
     "start_time": "2021-04-16T04:07:44.230769Z"
    }
   },
   "outputs": [],
   "source": [
    "DATA_STORE = Path('../data/assets.h5')"
   ]
  },
  {
   "cell_type": "code",
   "execution_count": 10,
   "metadata": {},
   "outputs": [],
   "source": [
    "tiporf=0 # 0 para LGBM"
   ]
  },
  {
   "cell_type": "code",
   "execution_count": 11,
   "metadata": {
    "ExecuteTime": {
     "end_time": "2021-04-16T04:07:44.267552Z",
     "start_time": "2021-04-16T04:07:44.238777Z"
    }
   },
   "outputs": [],
   "source": [
    "with pd.HDFStore('data.h5') as store:\n",
    "    best_params = store['best_params_rf']\n",
    "    if tiporf==0:\n",
    "        best_params = store['best_params']"
   ]
  },
  {
   "cell_type": "code",
   "execution_count": null,
   "metadata": {
    "ExecuteTime": {
     "end_time": "2021-04-16T04:07:44.276925Z",
     "start_time": "2021-04-16T04:07:44.268565Z"
    }
   },
   "outputs": [],
   "source": [
    "best_params"
   ]
  },
  {
   "cell_type": "markdown",
   "metadata": {},
   "source": [
    "## Obteniendo Datos"
   ]
  },
  {
   "cell_type": "code",
   "execution_count": null,
   "metadata": {},
   "outputs": [],
   "source": [
    "with pd.HDFStore(DATA_STORE) as store:\n",
    "    # Obtiene la lista de claves\n",
    "    keys = store.keys()\n",
    "# Imprime las claves\n",
    "for key in keys:\n",
    "    print(key)"
   ]
  },
  {
   "cell_type": "code",
   "execution_count": 14,
   "metadata": {
    "ExecuteTime": {
     "end_time": "2021-04-16T04:07:46.097806Z",
     "start_time": "2021-04-16T04:07:44.278888Z"
    }
   },
   "outputs": [],
   "source": [
    "data = pd.read_hdf(DATA_STORE,'engineered_features').sort_index()#modificado\n",
    "data0=data.copy()\n",
    "data = data.loc[idx[:, '2000': '2019'], :]#para incorporar otro train set más actualizado \n",
    "\n",
    "# XLE, XLB, XLI, XLK, XLF, XLP, XLY, XLV, XLU, IYR, VOX\n",
    "# data = data[data['sector'] == 'VOX']\n",
    "# AQUIIIII"
   ]
  },
  {
   "cell_type": "code",
   "execution_count": null,
   "metadata": {},
   "outputs": [],
   "source": [
    "#miramos las exposiciones a los factores\n",
    "resultado = data.groupby(level=0).last().iloc[:, 6:11]\n",
    "print(resultado)"
   ]
  },
  {
   "cell_type": "code",
   "execution_count": 17,
   "metadata": {},
   "outputs": [],
   "source": [
    "unknown_tickers = data[data['sector'] == 'Unknown'].index.get_level_values(0)"
   ]
  },
  {
   "cell_type": "code",
   "execution_count": null,
   "metadata": {},
   "outputs": [],
   "source": [
    "unknown_tickers.unique()"
   ]
  },
  {
   "cell_type": "markdown",
   "metadata": {},
   "source": [
    "## Tratamiento NaN"
   ]
  },
  {
   "cell_type": "code",
   "execution_count": 20,
   "metadata": {},
   "outputs": [],
   "source": [
    "#completamos con los valores del periodo anterior, para evitar que el último dato apareza nan\n",
    "data= data.fillna(method='ffill')"
   ]
  },
  {
   "cell_type": "markdown",
   "metadata": {},
   "source": [
    "## Datos binarios"
   ]
  },
  {
   "cell_type": "code",
   "execution_count": 21,
   "metadata": {
    "ExecuteTime": {
     "end_time": "2021-04-16T04:07:46.228942Z",
     "start_time": "2021-04-16T04:07:46.191652Z"
    }
   },
   "outputs": [],
   "source": [
    "dates = sorted(data.index.get_level_values('date').unique())"
   ]
  },
  {
   "cell_type": "code",
   "execution_count": 22,
   "metadata": {
    "ExecuteTime": {
     "end_time": "2021-04-16T04:07:46.238602Z",
     "start_time": "2021-04-16T04:07:46.232223Z"
    }
   },
   "outputs": [],
   "source": [
    "# train_dates = dates[-int(best_params.train_length+best_params.test_length):-int(best_params.test_length)]\n",
    "train_dates = dates[:-int(best_params.test_length)]"
   ]
  },
  {
   "cell_type": "code",
   "execution_count": null,
   "metadata": {},
   "outputs": [],
   "source": [
    "len(train_dates)"
   ]
  },
  {
   "cell_type": "code",
   "execution_count": 25,
   "metadata": {},
   "outputs": [],
   "source": [
    "data_copia=data.copy()"
   ]
  },
  {
   "cell_type": "code",
   "execution_count": 26,
   "metadata": {
    "ExecuteTime": {
     "end_time": "2021-04-16T04:08:07.426738Z",
     "start_time": "2021-04-16T04:07:46.239641Z"
    }
   },
   "outputs": [],
   "source": [
    "data = data.loc[idx[:, train_dates], :]"
   ]
  },
  {
   "cell_type": "code",
   "execution_count": 27,
   "metadata": {
    "ExecuteTime": {
     "end_time": "2021-04-16T04:08:07.436165Z",
     "start_time": "2021-04-16T04:08:07.427885Z"
    }
   },
   "outputs": [],
   "source": [
    "labels = sorted(data.filter(like='target').columns)#modificado\n",
    "features = data.columns.difference(labels).tolist()"
   ]
  },
  {
   "cell_type": "code",
   "execution_count": 29,
   "metadata": {
    "ExecuteTime": {
     "end_time": "2021-04-16T04:08:07.453480Z",
     "start_time": "2021-04-16T04:08:07.437305Z"
    }
   },
   "outputs": [],
   "source": [
    "lookahead = 1\n",
    "label = 'target_1m'#modificado"
   ]
  },
  {
   "cell_type": "code",
   "execution_count": 30,
   "metadata": {
    "ExecuteTime": {
     "end_time": "2021-04-16T04:08:07.461500Z",
     "start_time": "2021-04-16T04:08:07.454405Z"
    }
   },
   "outputs": [],
   "source": [
    "categoricals = ['month','sector', 'fase']#modificado"
   ]
  },
  {
   "cell_type": "code",
   "execution_count": 31,
   "metadata": {},
   "outputs": [],
   "source": [
    "for feature in categoricals:\n",
    "    data[feature] = pd.factorize(data[feature], sort=True)[0]"
   ]
  },
  {
   "cell_type": "code",
   "execution_count": 32,
   "metadata": {
    "ExecuteTime": {
     "end_time": "2021-04-16T04:08:07.515677Z",
     "start_time": "2021-04-16T04:08:07.462443Z"
    }
   },
   "outputs": [],
   "source": [
    "lgb_train = lgb.Dataset(data=data[features],\n",
    "                       label=data[label],\n",
    "                       categorical_feature=categoricals,\n",
    "                       free_raw_data=False)"
   ]
  },
  {
   "cell_type": "markdown",
   "metadata": {},
   "source": [
    "## Train LightGBM Model"
   ]
  },
  {
   "cell_type": "code",
   "execution_count": 33,
   "metadata": {
    "ExecuteTime": {
     "end_time": "2021-04-16T04:08:07.518997Z",
     "start_time": "2021-04-16T04:08:07.516844Z"
    }
   },
   "outputs": [],
   "source": [
    "params = dict(boosting='rf', objective='regression', bagging_freq=1, verbose=-1)\n",
    "if tiporf==0:\n",
    "    params = dict(boosting='gbdt', objective='regression', verbose=-1)"
   ]
  },
  {
   "cell_type": "code",
   "execution_count": 34,
   "metadata": {
    "ExecuteTime": {
     "end_time": "2021-04-16T04:08:07.530812Z",
     "start_time": "2021-04-16T04:08:07.520054Z"
    }
   },
   "outputs": [],
   "source": [
    "train_params = ['bagging_fraction','feature_fraction', 'min_data_in_leaf','max_depth']\n",
    "if tiporf==0:\n",
    "    train_params = ['learning_rate', 'num_leaves', 'feature_fraction', 'min_data_in_leaf']"
   ]
  },
  {
   "cell_type": "code",
   "execution_count": 35,
   "metadata": {},
   "outputs": [],
   "source": [
    "if tiporf==1:\n",
    "    params.update(best_params.loc[train_params].to_dict())\n",
    "    for p in ['min_data_in_leaf','max_depth']:\n",
    "        params[p] = int(params[p])\n",
    "\n",
    "if tiporf==0:\n",
    "    params.update(best_params.loc[train_params].to_dict())\n",
    "    for p in ['min_data_in_leaf', 'num_leaves']:\n",
    "        params[p] = int(params[p])"
   ]
  },
  {
   "cell_type": "code",
   "execution_count": null,
   "metadata": {},
   "outputs": [],
   "source": [
    "best_params"
   ]
  },
  {
   "cell_type": "code",
   "execution_count": null,
   "metadata": {},
   "outputs": [],
   "source": [
    "params"
   ]
  },
  {
   "cell_type": "code",
   "execution_count": 40,
   "metadata": {
    "ExecuteTime": {
     "end_time": "2021-04-16T04:42:21.737302Z",
     "start_time": "2021-04-16T04:08:07.551061Z"
    }
   },
   "outputs": [],
   "source": [
    "lgb_model = lgb.train(params=params,\n",
    "                  train_set=lgb_train,\n",
    "                  num_boost_round=int(best_params.boost_rounds))"
   ]
  },
  {
   "cell_type": "code",
   "execution_count": 41,
   "metadata": {},
   "outputs": [],
   "source": [
    "for feature in categoricals:\n",
    "    data_copia[feature] = pd.factorize(data_copia[feature], sort=True)[0]"
   ]
  },
  {
   "cell_type": "markdown",
   "metadata": {},
   "source": [
    "## Compute Feature Importance"
   ]
  },
  {
   "cell_type": "code",
   "execution_count": 42,
   "metadata": {
    "ExecuteTime": {
     "end_time": "2021-04-16T04:42:21.744340Z",
     "start_time": "2021-04-16T04:42:21.738320Z"
    }
   },
   "outputs": [],
   "source": [
    "def get_feature_importance(model, importance_type='split'):\n",
    "    fi = pd.Series(model.feature_importance(importance_type=importance_type), \n",
    "                   index=model.feature_name())\n",
    "    return fi/fi.sum()"
   ]
  },
  {
   "cell_type": "code",
   "execution_count": 43,
   "metadata": {
    "ExecuteTime": {
     "end_time": "2021-04-16T04:42:21.759800Z",
     "start_time": "2021-04-16T04:42:21.745851Z"
    },
    "scrolled": true
   },
   "outputs": [],
   "source": [
    "feature_importance = (get_feature_importance(lgb_model).to_frame('Split').\n",
    "                      join(get_feature_importance(lgb_model, 'gain').to_frame('Gain')))"
   ]
  },
  {
   "cell_type": "code",
   "execution_count": null,
   "metadata": {
    "ExecuteTime": {
     "end_time": "2021-04-16T04:42:22.478338Z",
     "start_time": "2021-04-16T04:42:21.760738Z"
    },
    "scrolled": true
   },
   "outputs": [],
   "source": [
    "(feature_importance\n",
    " .nlargest(20, columns='Gain')\n",
    " .sort_values('Gain', ascending=False)\n",
    " .plot\n",
    " .bar(subplots=True,\n",
    "      layout=(2, 1),\n",
    "      figsize=(14, 6),\n",
    "      legend=False,\n",
    "      sharey=True,\n",
    "      rot=0))\n",
    "plt.suptitle('Normalized Importance (Top 20 Features)', fontsize=14)\n",
    "plt.tight_layout()\n",
    "plt.subplots_adjust(top=.9);"
   ]
  },
  {
   "cell_type": "code",
   "execution_count": null,
   "metadata": {},
   "outputs": [],
   "source": [
    "(feature_importance\n",
    " .nlargest(30, columns='Gain')\n",
    " .sort_values('Gain', ascending=False)).index\n",
    "\n",
    "# AQUIIIII"
   ]
  },
  {
   "cell_type": "markdown",
   "metadata": {},
   "source": [
    "## Partial Dependence Plots"
   ]
  },
  {
   "cell_type": "markdown",
   "metadata": {},
   "source": [
    "## SHAP Values"
   ]
  },
  {
   "cell_type": "markdown",
   "metadata": {},
   "source": [
    "### Summary Plot"
   ]
  },
  {
   "cell_type": "code",
   "execution_count": 49,
   "metadata": {
    "ExecuteTime": {
     "end_time": "2021-04-16T04:42:32.522435Z",
     "start_time": "2021-04-16T04:42:32.267650Z"
    }
   },
   "outputs": [],
   "source": [
    "X = data[features].sample(n=len(data))#modificado"
   ]
  },
  {
   "cell_type": "code",
   "execution_count": null,
   "metadata": {
    "ExecuteTime": {
     "end_time": "2021-04-16T04:42:36.861456Z",
     "start_time": "2021-04-16T04:42:32.523591Z"
    }
   },
   "outputs": [],
   "source": [
    "# load JS visualization code to notebook\n",
    "shap.initjs()\n",
    "\n",
    "# explain the model's predictions using SHAP values\n",
    "explainer = shap.TreeExplainer(lgb_model)\n",
    "shap_values = explainer.shap_values(X=X)\n",
    "\n",
    "shap.summary_plot(shap_values, X, show=False)\n",
    "plt.tight_layout();"
   ]
  },
  {
   "cell_type": "code",
   "execution_count": null,
   "metadata": {
    "ExecuteTime": {
     "end_time": "2021-04-16T04:42:37.394876Z",
     "start_time": "2021-04-16T04:42:36.862422Z"
    }
   },
   "outputs": [],
   "source": [
    "shap.summary_plot(shap_values, X, plot_type=\"bar\",show=False)\n",
    "plt.tight_layout();"
   ]
  },
  {
   "cell_type": "markdown",
   "metadata": {},
   "source": [
    "### Feature Interaction"
   ]
  },
  {
   "cell_type": "markdown",
   "metadata": {},
   "source": [
    "### Force Plots"
   ]
  },
  {
   "cell_type": "code",
   "execution_count": null,
   "metadata": {
    "ExecuteTime": {
     "end_time": "2021-04-16T04:42:37.399876Z",
     "start_time": "2021-04-16T04:42:37.395942Z"
    }
   },
   "outputs": [],
   "source": [
    "i = randint(0, len(X))\n",
    "# visualize the first prediction's explanation\n",
    "shap.force_plot(explainer.expected_value, shap_values[i,:], X.iloc[i,:])"
   ]
  },
  {
   "cell_type": "code",
   "execution_count": null,
   "metadata": {
    "ExecuteTime": {
     "end_time": "2021-04-16T04:42:38.391122Z",
     "start_time": "2021-04-16T04:42:37.401195Z"
    }
   },
   "outputs": [],
   "source": [
    "shap.force_plot(explainer.expected_value, shap_values[:1000,:], X.iloc[:1000])"
   ]
  },
  {
   "cell_type": "markdown",
   "metadata": {},
   "source": [
    "### Interaction Plot"
   ]
  },
  {
   "cell_type": "code",
   "execution_count": null,
   "metadata": {},
   "outputs": [],
   "source": [
    "shap.dependence_plot(ind='sentiment',\n",
    "                     shap_values=shap_values,\n",
    "                     features=X,\n",
    "                    #  interaction_index='sentiment',\n",
    "                     title='Interaction between')"
   ]
  },
  {
   "cell_type": "code",
   "execution_count": null,
   "metadata": {},
   "outputs": [],
   "source": [
    "shap.dependence_plot(ind='return_12m',\n",
    "                     shap_values=shap_values,\n",
    "                     features=X,\n",
    "                     #interaction_index='return_9m',\n",
    "                     title='Interaction between')"
   ]
  },
  {
   "cell_type": "code",
   "execution_count": null,
   "metadata": {},
   "outputs": [],
   "source": [
    "shap.dependence_plot(ind='eu_hy_oas_diff',\n",
    "                     shap_values=shap_values,\n",
    "                     features=X,\n",
    "                     #interaction_index='return_9m',\n",
    "                     title='Interaction between')"
   ]
  },
  {
   "cell_type": "code",
   "execution_count": null,
   "metadata": {},
   "outputs": [],
   "source": [
    "shap.dependence_plot(ind='return_52m',\n",
    "                     shap_values=shap_values,\n",
    "                     features=X,\n",
    "                     #interaction_index='return_9m',\n",
    "                     title='Interaction between')"
   ]
  },
  {
   "cell_type": "code",
   "execution_count": null,
   "metadata": {},
   "outputs": [],
   "source": [
    "shap.dependence_plot(ind='vixoil',\n",
    "                     shap_values=shap_values,\n",
    "                     features=X,\n",
    "                     #interaction_index='return_9m',\n",
    "                     title='Interaction between')"
   ]
  },
  {
   "cell_type": "code",
   "execution_count": null,
   "metadata": {},
   "outputs": [],
   "source": [
    "shap.dependence_plot(ind='RMW',\n",
    "                     shap_values=shap_values,\n",
    "                     features=X,\n",
    "                     #interaction_index='return_9m',\n",
    "                     title='Interaction between')"
   ]
  },
  {
   "cell_type": "code",
   "execution_count": null,
   "metadata": {},
   "outputs": [],
   "source": []
  }
 ],
 "metadata": {
  "kernelspec": {
   "display_name": "Python 3",
   "language": "python",
   "name": "python3"
  },
  "language_info": {
   "codemirror_mode": {
    "name": "ipython",
    "version": 3
   },
   "file_extension": ".py",
   "mimetype": "text/x-python",
   "name": "python",
   "nbconvert_exporter": "python",
   "pygments_lexer": "ipython3",
   "version": "3.12.3"
  },
  "toc": {
   "base_numbering": 1,
   "nav_menu": {},
   "number_sections": true,
   "sideBar": true,
   "skip_h1_title": true,
   "title_cell": "Table of Contents",
   "title_sidebar": "Contents",
   "toc_cell": false,
   "toc_position": {
    "height": "calc(100% - 180px)",
    "left": "10px",
    "top": "150px",
    "width": "250.44px"
   },
   "toc_section_display": true,
   "toc_window_display": true
  }
 },
 "nbformat": 4,
 "nbformat_minor": 4
}
