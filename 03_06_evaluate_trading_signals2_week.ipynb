{
 "cells": [
  {
   "cell_type": "markdown",
   "metadata": {},
   "source": [
    "# Evaluamos los Boosting Model Signals"
   ]
  },
  {
   "cell_type": "markdown",
   "metadata": {},
   "source": [
    "## Imports & Settings"
   ]
  },
  {
   "cell_type": "code",
   "execution_count": 20,
   "metadata": {
    "ExecuteTime": {
     "end_time": "2021-04-16T03:07:20.725155Z",
     "start_time": "2021-04-16T03:07:20.723240Z"
    },
    "execution": {
     "iopub.execute_input": "2024-09-23T18:27:59.950132Z",
     "iopub.status.busy": "2024-09-23T18:27:59.950132Z",
     "iopub.status.idle": "2024-09-23T18:27:59.965719Z",
     "shell.execute_reply": "2024-09-23T18:27:59.965719Z"
    }
   },
   "outputs": [],
   "source": [
    "import warnings\n",
    "warnings.filterwarnings('ignore')"
   ]
  },
  {
   "cell_type": "code",
   "execution_count": 21,
   "metadata": {
    "ExecuteTime": {
     "end_time": "2021-04-16T03:07:21.796429Z",
     "start_time": "2021-04-16T03:07:20.726178Z"
    },
    "execution": {
     "iopub.execute_input": "2024-09-23T18:27:59.965719Z",
     "iopub.status.busy": "2024-09-23T18:27:59.965719Z",
     "iopub.status.idle": "2024-09-23T18:28:03.231556Z",
     "shell.execute_reply": "2024-09-23T18:28:03.231556Z"
    },
    "scrolled": true
   },
   "outputs": [],
   "source": [
    "%matplotlib inline\n",
    "\n",
    "from time import time\n",
    "from io import StringIO\n",
    "import sys, os\n",
    "import warnings\n",
    "from pathlib import Path\n",
    "import pandas as pd\n",
    "import statsmodels.api as sm\n",
    "import matplotlib.pyplot as plt\n",
    "import seaborn as sns\n",
    "import numpy as np\n",
    "\n",
    "import lightgbm as lgb\n",
    "\n",
    "from scipy.stats import spearmanr, pearsonr\n",
    "\n",
    "from alphalens import plotting\n",
    "from alphalens import performance as perf\n",
    "from alphalens.utils import get_clean_factor_and_forward_returns, rate_of_return, std_conversion\n",
    "from alphalens.tears import (create_summary_tear_sheet,\n",
    "                             create_full_tear_sheet)"
   ]
  },
  {
   "cell_type": "code",
   "execution_count": 22,
   "metadata": {
    "ExecuteTime": {
     "end_time": "2021-04-16T03:07:21.799549Z",
     "start_time": "2021-04-16T03:07:21.797351Z"
    },
    "execution": {
     "iopub.execute_input": "2024-09-23T18:28:03.231556Z",
     "iopub.status.busy": "2024-09-23T18:28:03.231556Z",
     "iopub.status.idle": "2024-09-23T18:28:03.247194Z",
     "shell.execute_reply": "2024-09-23T18:28:03.247194Z"
    },
    "scrolled": true
   },
   "outputs": [],
   "source": [
    "sys.path.insert(1, os.path.join(sys.path[0], '..'))\n",
    "from new_utils import MultipleTimeSeriesCV"
   ]
  },
  {
   "cell_type": "code",
   "execution_count": 23,
   "metadata": {
    "ExecuteTime": {
     "end_time": "2021-04-16T03:07:21.808172Z",
     "start_time": "2021-04-16T03:07:21.801161Z"
    },
    "execution": {
     "iopub.execute_input": "2024-09-23T18:28:03.247194Z",
     "iopub.status.busy": "2024-09-23T18:28:03.247194Z",
     "iopub.status.idle": "2024-09-23T18:28:03.262793Z",
     "shell.execute_reply": "2024-09-23T18:28:03.262793Z"
    },
    "scrolled": true
   },
   "outputs": [],
   "source": [
    "sns.set_style('whitegrid')"
   ]
  },
  {
   "cell_type": "code",
   "execution_count": 24,
   "metadata": {
    "ExecuteTime": {
     "end_time": "2021-04-16T03:07:21.816173Z",
     "start_time": "2021-04-16T03:07:21.809160Z"
    },
    "execution": {
     "iopub.execute_input": "2024-09-23T18:28:03.262793Z",
     "iopub.status.busy": "2024-09-23T18:28:03.262793Z",
     "iopub.status.idle": "2024-09-23T18:28:03.278592Z",
     "shell.execute_reply": "2024-09-23T18:28:03.278592Z"
    },
    "scrolled": true
   },
   "outputs": [],
   "source": [
    "#YEAR = 252\n",
    "#YEAR = 12\n",
    "idx = pd.IndexSlice"
   ]
  },
  {
   "cell_type": "code",
   "execution_count": 25,
   "metadata": {
    "ExecuteTime": {
     "end_time": "2021-04-16T03:07:21.824275Z",
     "start_time": "2021-04-16T03:07:21.817031Z"
    },
    "execution": {
     "iopub.execute_input": "2024-09-23T18:28:03.278592Z",
     "iopub.status.busy": "2024-09-23T18:28:03.278592Z",
     "iopub.status.idle": "2024-09-23T18:28:03.294196Z",
     "shell.execute_reply": "2024-09-23T18:28:03.294196Z"
    }
   },
   "outputs": [],
   "source": [
    "scope_params = ['lookahead', 'train_length', 'test_length']\n",
    "daily_ic_metrics = ['daily_ic_mean', 'daily_ic_mean_n', 'daily_ic_median', 'daily_ic_median_n']\n",
    "lgb_train_params = ['learning_rate', 'num_leaves', 'feature_fraction', 'min_data_in_leaf']\n",
    "rf_train_params = ['bagging_fraction', 'feature_fraction', 'min_data_in_leaf','max_depth']\n",
    "catboost_train_params = ['max_depth', 'min_child_samples']"
   ]
  },
  {
   "cell_type": "code",
   "execution_count": 26,
   "metadata": {
    "ExecuteTime": {
     "end_time": "2021-04-16T03:07:21.832238Z",
     "start_time": "2021-04-16T03:07:21.825091Z"
    },
    "execution": {
     "iopub.execute_input": "2024-09-23T18:28:03.294196Z",
     "iopub.status.busy": "2024-09-23T18:28:03.294196Z",
     "iopub.status.idle": "2024-09-23T18:28:03.309824Z",
     "shell.execute_reply": "2024-09-23T18:28:03.309824Z"
    }
   },
   "outputs": [],
   "source": [
    "results_path = Path('results', 'us_stocks')\n",
    "if not results_path.exists():\n",
    "    results_path.mkdir(parents=True)"
   ]
  },
  {
   "cell_type": "markdown",
   "metadata": {},
   "source": [
    "### LightGBM"
   ]
  },
  {
   "cell_type": "markdown",
   "metadata": {},
   "source": [
    "#### Summary Metrics by Fold"
   ]
  },
  {
   "cell_type": "code",
   "execution_count": 27,
   "metadata": {
    "ExecuteTime": {
     "end_time": "2021-04-16T03:07:23.392375Z",
     "start_time": "2021-04-16T03:07:21.833049Z"
    },
    "execution": {
     "iopub.execute_input": "2024-09-23T18:28:03.309824Z",
     "iopub.status.busy": "2024-09-23T18:28:03.309824Z",
     "iopub.status.idle": "2024-09-23T18:28:05.137814Z",
     "shell.execute_reply": "2024-09-23T18:28:05.137814Z"
    }
   },
   "outputs": [],
   "source": [
    "with pd.HDFStore(results_path / 'tuning_lgb.h5') as store:\n",
    "    for i, key in enumerate(\n",
    "        [k[1:] for k in store.keys() if k[1:].startswith('metrics')]):\n",
    "        _, t, train_length, test_length = key.split('/')[:4]\n",
    "        attrs = {\n",
    "            'lookahead': t,\n",
    "            'train_length': train_length,\n",
    "            'test_length': test_length\n",
    "        }\n",
    "        s = store[key].to_dict()\n",
    "        s.update(attrs)\n",
    "        if i == 0:\n",
    "            lgb_metrics = pd.Series(s).to_frame(i)\n",
    "        else:\n",
    "            lgb_metrics[i] = pd.Series(s)\n",
    "\n",
    "id_vars = scope_params + lgb_train_params + daily_ic_metrics\n",
    "lgb_metrics = pd.melt(lgb_metrics.T.drop('t', axis=1), \n",
    "                  id_vars=id_vars, \n",
    "                  value_name='ic', \n",
    "                  var_name='boost_rounds').dropna().apply(pd.to_numeric)"
   ]
  },
  {
   "cell_type": "code",
   "execution_count": null,
   "metadata": {
    "ExecuteTime": {
     "end_time": "2021-04-16T03:07:23.410569Z",
     "start_time": "2021-04-16T03:07:23.393774Z"
    },
    "execution": {
     "iopub.execute_input": "2024-09-23T18:28:05.153446Z",
     "iopub.status.busy": "2024-09-23T18:28:05.153446Z",
     "iopub.status.idle": "2024-09-23T18:28:05.215758Z",
     "shell.execute_reply": "2024-09-23T18:28:05.215758Z"
    },
    "scrolled": true
   },
   "outputs": [],
   "source": [
    "lgb_metrics.to_hdf('../data/model_tuning.h5', 'lgb/metrics')\n",
    "lgb_metrics.info()"
   ]
  },
  {
   "cell_type": "code",
   "execution_count": null,
   "metadata": {
    "ExecuteTime": {
     "end_time": "2021-04-16T03:07:23.423732Z",
     "start_time": "2021-04-16T03:07:23.411741Z"
    },
    "execution": {
     "iopub.execute_input": "2024-09-23T18:28:05.247003Z",
     "iopub.status.busy": "2024-09-23T18:28:05.247003Z",
     "iopub.status.idle": "2024-09-23T18:28:05.262779Z",
     "shell.execute_reply": "2024-09-23T18:28:05.262779Z"
    }
   },
   "outputs": [],
   "source": [
    "lgb_metrics.groupby(scope_params).size()"
   ]
  },
  {
   "cell_type": "markdown",
   "metadata": {},
   "source": [
    "#### Information Coefficient by Day"
   ]
  },
  {
   "cell_type": "markdown",
   "metadata": {},
   "source": [
    "Next, we retrieve the IC per day computed during cross-validation:"
   ]
  },
  {
   "cell_type": "code",
   "execution_count": 31,
   "metadata": {
    "ExecuteTime": {
     "end_time": "2021-04-16T03:07:23.428475Z",
     "start_time": "2021-04-16T03:07:23.424588Z"
    },
    "execution": {
     "iopub.execute_input": "2024-09-23T18:28:05.262779Z",
     "iopub.status.busy": "2024-09-23T18:28:05.262779Z",
     "iopub.status.idle": "2024-09-23T18:28:05.278421Z",
     "shell.execute_reply": "2024-09-23T18:28:05.278421Z"
    }
   },
   "outputs": [],
   "source": [
    "int_cols = ['lookahead', 'train_length', 'test_length', 'boost_rounds']"
   ]
  },
  {
   "cell_type": "code",
   "execution_count": 32,
   "metadata": {
    "ExecuteTime": {
     "end_time": "2021-04-16T03:07:27.191328Z",
     "start_time": "2021-04-16T03:07:23.429303Z"
    },
    "execution": {
     "iopub.execute_input": "2024-09-23T18:28:05.278421Z",
     "iopub.status.busy": "2024-09-23T18:28:05.278421Z",
     "iopub.status.idle": "2024-09-23T18:28:09.388201Z",
     "shell.execute_reply": "2024-09-23T18:28:09.388201Z"
    }
   },
   "outputs": [],
   "source": [
    "lgb_ic = []\n",
    "with pd.HDFStore(results_path / 'tuning_lgb.h5') as store:\n",
    "    keys = [k[1:] for k in store.keys()]\n",
    "    for key in keys:\n",
    "        _, t, train_length, test_length = key.split('/')[:4]\n",
    "        if key.startswith('daily_ic'):\n",
    "            df = (store[key]\n",
    "                  .drop(['boosting', 'objective', 'verbose'], axis=1)\n",
    "                 .assign(lookahead=t, \n",
    "                         train_length=train_length, \n",
    "                         test_length=test_length))\n",
    "            lgb_ic.append(df)\n",
    "    lgb_ic = pd.concat(lgb_ic).reset_index()"
   ]
  },
  {
   "cell_type": "code",
   "execution_count": null,
   "metadata": {
    "execution": {
     "iopub.execute_input": "2024-09-23T18:28:09.388201Z",
     "iopub.status.busy": "2024-09-23T18:28:09.388201Z",
     "iopub.status.idle": "2024-09-23T18:28:09.419473Z",
     "shell.execute_reply": "2024-09-23T18:28:09.419473Z"
    }
   },
   "outputs": [],
   "source": [
    "lgb_ic"
   ]
  },
  {
   "cell_type": "code",
   "execution_count": 34,
   "metadata": {
    "ExecuteTime": {
     "end_time": "2021-04-16T03:07:28.046350Z",
     "start_time": "2021-04-16T03:07:27.192453Z"
    },
    "execution": {
     "iopub.execute_input": "2024-09-23T18:28:09.419473Z",
     "iopub.status.busy": "2024-09-23T18:28:09.419473Z",
     "iopub.status.idle": "2024-09-23T18:28:09.560080Z",
     "shell.execute_reply": "2024-09-23T18:28:09.560080Z"
    }
   },
   "outputs": [],
   "source": [
    "id_vars = ['date'] + scope_params + lgb_train_params\n",
    "lgb_ic = pd.melt(lgb_ic, \n",
    "                 id_vars=id_vars, \n",
    "                 value_name='ic', \n",
    "                 var_name='boost_rounds').dropna()\n",
    "lgb_ic.loc[:, int_cols] = lgb_ic.loc[:, int_cols].astype(int)"
   ]
  },
  {
   "cell_type": "code",
   "execution_count": null,
   "metadata": {
    "ExecuteTime": {
     "end_time": "2021-04-16T03:07:28.209934Z",
     "start_time": "2021-04-16T03:07:28.047271Z"
    },
    "execution": {
     "iopub.execute_input": "2024-09-23T18:28:09.560080Z",
     "iopub.status.busy": "2024-09-23T18:28:09.560080Z",
     "iopub.status.idle": "2024-09-23T18:28:09.638314Z",
     "shell.execute_reply": "2024-09-23T18:28:09.638314Z"
    }
   },
   "outputs": [],
   "source": [
    "lgb_ic.to_hdf('../data/model_tuning.h5', 'lgb/ic')\n",
    "lgb_ic.info()"
   ]
  },
  {
   "cell_type": "code",
   "execution_count": null,
   "metadata": {
    "ExecuteTime": {
     "end_time": "2021-04-16T03:07:28.360806Z",
     "start_time": "2021-04-16T03:07:28.210955Z"
    },
    "execution": {
     "iopub.execute_input": "2024-09-23T18:28:09.638314Z",
     "iopub.status.busy": "2024-09-23T18:28:09.638314Z",
     "iopub.status.idle": "2024-09-23T18:28:09.716331Z",
     "shell.execute_reply": "2024-09-23T18:28:09.716331Z"
    }
   },
   "outputs": [],
   "source": [
    "lgb_daily_ic = lgb_ic.groupby(id_vars[1:] + ['boost_rounds']).ic.mean().to_frame('ic').reset_index()\n",
    "lgb_daily_ic.to_hdf('../data/model_tuning.h5', 'lgb/daily_ic')\n",
    "lgb_daily_ic.info()"
   ]
  },
  {
   "cell_type": "code",
   "execution_count": 37,
   "metadata": {
    "ExecuteTime": {
     "end_time": "2021-04-16T03:07:28.464834Z",
     "start_time": "2021-04-16T03:07:28.361832Z"
    },
    "execution": {
     "iopub.execute_input": "2024-09-23T18:28:09.716331Z",
     "iopub.status.busy": "2024-09-23T18:28:09.716331Z",
     "iopub.status.idle": "2024-09-23T18:28:09.778744Z",
     "shell.execute_reply": "2024-09-23T18:28:09.778744Z"
    }
   },
   "outputs": [],
   "source": [
    "lgb_ic = pd.read_hdf('../data/model_tuning.h5', 'lgb/ic')\n",
    "lgb_daily_ic = pd.read_hdf('../data/model_tuning.h5', 'lgb/daily_ic')"
   ]
  },
  {
   "cell_type": "markdown",
   "metadata": {},
   "source": [
    "## RF"
   ]
  },
  {
   "cell_type": "markdown",
   "metadata": {},
   "source": [
    "#### Summary Metrics by Fold"
   ]
  },
  {
   "cell_type": "code",
   "execution_count": null,
   "metadata": {
    "ExecuteTime": {
     "end_time": "2021-04-16T03:07:23.392375Z",
     "start_time": "2021-04-16T03:07:21.833049Z"
    },
    "execution": {
     "iopub.execute_input": "2024-09-23T18:28:09.778744Z",
     "iopub.status.busy": "2024-09-23T18:28:09.778744Z",
     "iopub.status.idle": "2024-09-23T18:28:10.388125Z",
     "shell.execute_reply": "2024-09-23T18:28:10.388125Z"
    }
   },
   "outputs": [],
   "source": [
    "with pd.HDFStore(results_path / 'tuning_rf.h5') as store:\n",
    "    for i, key in enumerate(\n",
    "        [k[1:] for k in store.keys() if k[1:].startswith('metrics')]):\n",
    "        _, t, train_length, test_length = key.split('/')[:4]\n",
    "        attrs = {\n",
    "            'lookahead': t,\n",
    "            'train_length': train_length,\n",
    "            'test_length': test_length\n",
    "        }\n",
    "        s = store[key].to_dict()\n",
    "        s.update(attrs)\n",
    "        if i == 0:\n",
    "            rf_metrics = pd.Series(s).to_frame(i)\n",
    "        else:\n",
    "            rf_metrics[i] = pd.Series(s)\n",
    "\n",
    "id_vars = scope_params + rf_train_params + daily_ic_metrics\n",
    "rf_metrics = pd.melt(rf_metrics.T.drop('t', axis=1), \n",
    "                  id_vars=id_vars, \n",
    "                  value_name='ic', \n",
    "                  var_name='boost_rounds').dropna().apply(pd.to_numeric)"
   ]
  },
  {
   "cell_type": "code",
   "execution_count": null,
   "metadata": {
    "execution": {
     "iopub.execute_input": "2024-09-23T18:28:10.403747Z",
     "iopub.status.busy": "2024-09-23T18:28:10.403747Z",
     "iopub.status.idle": "2024-09-23T18:28:10.419378Z",
     "shell.execute_reply": "2024-09-23T18:28:10.419378Z"
    }
   },
   "outputs": [],
   "source": [
    "id_vars"
   ]
  },
  {
   "cell_type": "code",
   "execution_count": null,
   "metadata": {
    "execution": {
     "iopub.execute_input": "2024-09-23T18:28:10.419378Z",
     "iopub.status.busy": "2024-09-23T18:28:10.419378Z",
     "iopub.status.idle": "2024-09-23T18:28:10.810083Z",
     "shell.execute_reply": "2024-09-23T18:28:10.810083Z"
    }
   },
   "outputs": [],
   "source": [
    "import pandas as pd\n",
    "\n",
    "# Abre el archivo HDF5\n",
    "store = pd.HDFStore(results_path / 'tuning_rf.h5')\n",
    "\n",
    "# Imprime las claves\n",
    "for key in store.keys():\n",
    "    print(key)\n",
    "\n",
    "# No olvides cerrar el archivo HDF5 cuando hayas terminado\n",
    "store.close()\n"
   ]
  },
  {
   "cell_type": "code",
   "execution_count": null,
   "metadata": {
    "ExecuteTime": {
     "end_time": "2021-04-16T03:07:23.410569Z",
     "start_time": "2021-04-16T03:07:23.393774Z"
    },
    "execution": {
     "iopub.execute_input": "2024-09-23T18:28:10.810083Z",
     "iopub.status.busy": "2024-09-23T18:28:10.810083Z",
     "iopub.status.idle": "2024-09-23T18:28:10.856955Z",
     "shell.execute_reply": "2024-09-23T18:28:10.856955Z"
    },
    "scrolled": true
   },
   "outputs": [],
   "source": [
    "rf_metrics.to_hdf('../data/model_tuning.h5', 'rf/metrics')\n",
    "rf_metrics.info()"
   ]
  },
  {
   "cell_type": "code",
   "execution_count": null,
   "metadata": {
    "ExecuteTime": {
     "end_time": "2021-04-16T03:07:23.423732Z",
     "start_time": "2021-04-16T03:07:23.411741Z"
    },
    "execution": {
     "iopub.execute_input": "2024-09-23T18:28:10.856955Z",
     "iopub.status.busy": "2024-09-23T18:28:10.856955Z",
     "iopub.status.idle": "2024-09-23T18:28:10.872583Z",
     "shell.execute_reply": "2024-09-23T18:28:10.872583Z"
    }
   },
   "outputs": [],
   "source": [
    "rf_metrics.groupby(scope_params).size()"
   ]
  },
  {
   "cell_type": "markdown",
   "metadata": {},
   "source": [
    "#### Information Coefficient by Day"
   ]
  },
  {
   "cell_type": "code",
   "execution_count": 43,
   "metadata": {
    "ExecuteTime": {
     "end_time": "2021-04-16T03:07:23.428475Z",
     "start_time": "2021-04-16T03:07:23.424588Z"
    },
    "execution": {
     "iopub.execute_input": "2024-09-23T18:28:10.872583Z",
     "iopub.status.busy": "2024-09-23T18:28:10.872583Z",
     "iopub.status.idle": "2024-09-23T18:28:10.888369Z",
     "shell.execute_reply": "2024-09-23T18:28:10.888369Z"
    }
   },
   "outputs": [],
   "source": [
    "int_cols = ['lookahead', 'train_length', 'test_length', 'boost_rounds']"
   ]
  },
  {
   "cell_type": "code",
   "execution_count": 44,
   "metadata": {
    "ExecuteTime": {
     "end_time": "2021-04-16T03:07:27.191328Z",
     "start_time": "2021-04-16T03:07:23.429303Z"
    },
    "execution": {
     "iopub.execute_input": "2024-09-23T18:28:10.888369Z",
     "iopub.status.busy": "2024-09-23T18:28:10.888369Z",
     "iopub.status.idle": "2024-09-23T18:28:12.638204Z",
     "shell.execute_reply": "2024-09-23T18:28:12.638204Z"
    }
   },
   "outputs": [],
   "source": [
    "rf_ic = []\n",
    "with pd.HDFStore(results_path / 'tuning_rf.h5') as store:\n",
    "    keys = [k[1:] for k in store.keys()]\n",
    "    for key in keys:\n",
    "        _, t, train_length, test_length = key.split('/')[:4]\n",
    "        if key.startswith('daily_ic'):\n",
    "            if {'boosting_type', 'objective', 'verbose'}.issubset(store[key].columns):\n",
    "                df = (store[key]\n",
    "                  .drop(['boosting_type', 'objective', 'verbose'], axis=1)\n",
    "                  .assign(lookahead=t, \n",
    "                 train_length=train_length, \n",
    "                 test_length=test_length))\n",
    "                rf_ic.append(df)\n",
    "            else:\n",
    "    \n",
    "                df = (store[key]\n",
    "                       .assign(lookahead=t, \n",
    "                         train_length=train_length, \n",
    "                         test_length=test_length))\n",
    "                rf_ic.append(df)\n",
    "    rf_ic = pd.concat(rf_ic).reset_index()"
   ]
  },
  {
   "cell_type": "code",
   "execution_count": 45,
   "metadata": {
    "execution": {
     "iopub.execute_input": "2024-09-23T18:28:12.638204Z",
     "iopub.status.busy": "2024-09-23T18:28:12.638204Z",
     "iopub.status.idle": "2024-09-23T18:28:12.653832Z",
     "shell.execute_reply": "2024-09-23T18:28:12.653832Z"
    }
   },
   "outputs": [],
   "source": [
    "#borramos bagging freq\n",
    "rf_ic=rf_ic.drop(['bagging_freq'], axis=1)"
   ]
  },
  {
   "cell_type": "code",
   "execution_count": 46,
   "metadata": {
    "ExecuteTime": {
     "end_time": "2021-04-16T03:07:28.046350Z",
     "start_time": "2021-04-16T03:07:27.192453Z"
    },
    "execution": {
     "iopub.execute_input": "2024-09-23T18:28:12.685101Z",
     "iopub.status.busy": "2024-09-23T18:28:12.685101Z",
     "iopub.status.idle": "2024-09-23T18:28:12.747760Z",
     "shell.execute_reply": "2024-09-23T18:28:12.747760Z"
    }
   },
   "outputs": [],
   "source": [
    "id_vars = ['date'] + scope_params + rf_train_params\n",
    "rf_ic = pd.melt(rf_ic, \n",
    "                 id_vars=id_vars, \n",
    "                 value_name='ic', \n",
    "                 var_name='boost_rounds').dropna()\n",
    "rf_ic.loc[:, int_cols] = rf_ic.loc[:, int_cols].astype(int)"
   ]
  },
  {
   "cell_type": "code",
   "execution_count": null,
   "metadata": {
    "execution": {
     "iopub.execute_input": "2024-09-23T18:28:12.747760Z",
     "iopub.status.busy": "2024-09-23T18:28:12.747760Z",
     "iopub.status.idle": "2024-09-23T18:28:12.763315Z",
     "shell.execute_reply": "2024-09-23T18:28:12.763315Z"
    }
   },
   "outputs": [],
   "source": [
    "rf_train_params"
   ]
  },
  {
   "cell_type": "code",
   "execution_count": null,
   "metadata": {
    "ExecuteTime": {
     "end_time": "2021-04-16T03:07:28.209934Z",
     "start_time": "2021-04-16T03:07:28.047271Z"
    },
    "execution": {
     "iopub.execute_input": "2024-09-23T18:28:12.763315Z",
     "iopub.status.busy": "2024-09-23T18:28:12.763315Z",
     "iopub.status.idle": "2024-09-23T18:28:12.825855Z",
     "shell.execute_reply": "2024-09-23T18:28:12.825855Z"
    },
    "scrolled": true
   },
   "outputs": [],
   "source": [
    "rf_ic.to_hdf('../data/model_tuning.h5', 'rf/ic')\n",
    "rf_ic.info()"
   ]
  },
  {
   "cell_type": "code",
   "execution_count": null,
   "metadata": {
    "ExecuteTime": {
     "end_time": "2021-04-16T03:07:28.360806Z",
     "start_time": "2021-04-16T03:07:28.210955Z"
    },
    "execution": {
     "iopub.execute_input": "2024-09-23T18:28:12.825855Z",
     "iopub.status.busy": "2024-09-23T18:28:12.825855Z",
     "iopub.status.idle": "2024-09-23T18:28:12.872375Z",
     "shell.execute_reply": "2024-09-23T18:28:12.872375Z"
    }
   },
   "outputs": [],
   "source": [
    "rf_daily_ic = rf_ic.groupby(id_vars[1:] + ['boost_rounds']).ic.mean().to_frame('ic').reset_index()\n",
    "rf_daily_ic.to_hdf('../data/model_tuning.h5', 'rf/daily_ic')\n",
    "rf_daily_ic.info()"
   ]
  },
  {
   "cell_type": "code",
   "execution_count": 50,
   "metadata": {
    "ExecuteTime": {
     "end_time": "2021-04-16T03:07:28.464834Z",
     "start_time": "2021-04-16T03:07:28.361832Z"
    },
    "execution": {
     "iopub.execute_input": "2024-09-23T18:28:12.872375Z",
     "iopub.status.busy": "2024-09-23T18:28:12.872375Z",
     "iopub.status.idle": "2024-09-23T18:28:12.919642Z",
     "shell.execute_reply": "2024-09-23T18:28:12.919642Z"
    }
   },
   "outputs": [],
   "source": [
    "rf_ic = pd.read_hdf('../data/model_tuning.h5', 'rf/ic')\n",
    "rf_daily_ic = pd.read_hdf('../data/model_tuning.h5', 'rf/daily_ic')"
   ]
  },
  {
   "cell_type": "markdown",
   "metadata": {},
   "source": [
    "## Validation Performance: Daily vs Overall Information Coefficient"
   ]
  },
  {
   "cell_type": "code",
   "execution_count": null,
   "metadata": {
    "ExecuteTime": {
     "end_time": "2021-04-16T03:07:30.828949Z",
     "start_time": "2021-04-16T03:07:30.474619Z"
    },
    "execution": {
     "iopub.execute_input": "2024-09-23T18:28:12.919642Z",
     "iopub.status.busy": "2024-09-23T18:28:12.919642Z",
     "iopub.status.idle": "2024-09-23T18:28:13.497581Z",
     "shell.execute_reply": "2024-09-23T18:28:13.497581Z"
    }
   },
   "outputs": [],
   "source": [
    "fig, axes = plt.subplots(ncols=2, figsize=(15, 5), sharey=True)\n",
    "\n",
    "# Usar pd.concat en lugar de append\n",
    "data_combined = pd.concat([\n",
    "    rf_metrics.assign(model='rf'),\n",
    "    lgb_metrics.assign(model='lightgbm')\n",
    "])\n",
    "\n",
    "sns.boxenplot(x='lookahead', y='ic', hue='model', data=data_combined, ax=axes[0])\n",
    "axes[0].axhline(0, ls='--', lw=1, c='k')\n",
    "axes[0].set_title('Overall IC')\n",
    "\n",
    "# Usar pd.concat en lugar de append\n",
    "data_combined_daily = pd.concat([\n",
    "    rf_daily_ic.assign(model='rf'),\n",
    "    lgb_daily_ic.assign(model='lightgbm')\n",
    "])\n",
    "\n",
    "sns.boxenplot(x='lookahead', y='ic', hue='model', data=data_combined_daily, ax=axes[1])\n",
    "axes[1].axhline(0, ls='--', lw=1, c='k')\n",
    "axes[1].set_title('Daily IC')\n",
    "\n",
    "fig.tight_layout()\n"
   ]
  },
  {
   "cell_type": "markdown",
   "metadata": {},
   "source": [
    "## HyperParameter Impact: Linear Regression"
   ]
  },
  {
   "cell_type": "code",
   "execution_count": 52,
   "metadata": {
    "ExecuteTime": {
     "end_time": "2021-04-16T03:10:07.344109Z",
     "start_time": "2021-04-16T03:09:26.356655Z"
    },
    "execution": {
     "iopub.execute_input": "2024-09-23T18:28:13.497581Z",
     "iopub.status.busy": "2024-09-23T18:28:13.497581Z",
     "iopub.status.idle": "2024-09-23T18:28:20.874117Z",
     "shell.execute_reply": "2024-09-23T18:28:20.874117Z"
    }
   },
   "outputs": [],
   "source": [
    "lin_reg = {}\n",
    "#for t in [1, 2]: #si hay 2 lookaheads\n",
    "for t in [1]:\n",
    "    df_ = lgb_ic[lgb_ic.lookahead==t]\n",
    "    y, X = df_.ic, df_.drop(['ic'], axis=1)\n",
    "    X = sm.add_constant(pd.get_dummies(X, columns=X.columns, drop_first=True, dtype=float))\n",
    "    model = sm.OLS(endog=y, exog=X)\n",
    "    lin_reg[t] = model.fit()\n",
    "    s = lin_reg[t].summary()\n",
    "    coefs = pd.read_csv(StringIO(s.tables[1].as_csv())).rename(columns=lambda x: x.strip())\n",
    "    coefs.columns = ['variable', 'coef', 'std_err', 't', 'p_value', 'ci_low', 'ci_high']\n",
    "    coefs.to_csv(f'results/linreg_result_{t:02}.csv', index=False)"
   ]
  },
  {
   "cell_type": "code",
   "execution_count": 53,
   "metadata": {
    "ExecuteTime": {
     "end_time": "2021-04-16T03:10:07.348256Z",
     "start_time": "2021-04-16T03:10:07.344975Z"
    },
    "execution": {
     "iopub.execute_input": "2024-09-23T18:28:20.874117Z",
     "iopub.status.busy": "2024-09-23T18:28:20.874117Z",
     "iopub.status.idle": "2024-09-23T18:28:20.905387Z",
     "shell.execute_reply": "2024-09-23T18:28:20.905387Z"
    }
   },
   "outputs": [],
   "source": [
    "def visualize_lr_result(model, ax):\n",
    "    ci = model.conf_int()\n",
    "    errors = ci[1].sub(ci[0]).div(2)\n",
    "\n",
    "    coefs = (model.params.to_frame('coef').assign(error=errors)\n",
    "             .reset_index().rename(columns={'index': 'variable'}))\n",
    "    coefs = coefs[~coefs['variable'].str.startswith('date')&(coefs.variable!='const')]\n",
    "\n",
    "    coefs.plot(x='variable', y='coef', kind='bar', \n",
    "                 ax=ax, color='none', capsize=3,\n",
    "                 yerr='error', legend=False)\n",
    "    ax.set_ylabel('IC')\n",
    "    ax.set_xlabel('')\n",
    "    ax.scatter(x=np.arange(len(coefs)), marker='_', s=120, y=coefs['coef'], color='black')\n",
    "    ax.axhline(y=0, linestyle='--', color='black', linewidth=1)\n",
    "    ax.xaxis.set_ticks_position('none')"
   ]
  },
  {
   "cell_type": "code",
   "execution_count": null,
   "metadata": {
    "ExecuteTime": {
     "end_time": "2021-04-16T03:10:08.475861Z",
     "start_time": "2021-04-16T03:10:07.349356Z"
    },
    "execution": {
     "iopub.execute_input": "2024-09-23T18:28:20.905387Z",
     "iopub.status.busy": "2024-09-23T18:28:20.905387Z",
     "iopub.status.idle": "2024-09-23T18:28:21.983493Z",
     "shell.execute_reply": "2024-09-23T18:28:21.983493Z"
    },
    "scrolled": true
   },
   "outputs": [],
   "source": [
    "fig, axes = plt.subplots(nrows=1, ncols=2, figsize=(20, 8), sharey=True)\n",
    "axes = axes.flatten()\n",
    "#for i, t in enumerate([1, 2]):#modificado\n",
    "for i, t in enumerate([1]):#modificado un lookahead\n",
    "    visualize_lr_result(lin_reg[t], axes[i])\n",
    "    axes[i].set_title(f'Lookahead: {t} Day(s)')\n",
    "fig.suptitle('OLS Coefficients & Confidence Intervals', fontsize=20)\n",
    "fig.tight_layout()\n",
    "fig.subplots_adjust(top=.92);"
   ]
  },
  {
   "cell_type": "markdown",
   "metadata": {},
   "source": [
    "# Lo mismo para RF"
   ]
  },
  {
   "cell_type": "code",
   "execution_count": 55,
   "metadata": {
    "ExecuteTime": {
     "end_time": "2021-04-16T03:10:07.344109Z",
     "start_time": "2021-04-16T03:09:26.356655Z"
    },
    "execution": {
     "iopub.execute_input": "2024-09-23T18:28:21.983493Z",
     "iopub.status.busy": "2024-09-23T18:28:21.983493Z",
     "iopub.status.idle": "2024-09-23T18:28:23.906225Z",
     "shell.execute_reply": "2024-09-23T18:28:23.906225Z"
    }
   },
   "outputs": [],
   "source": [
    "lin_reg = {}\n",
    "#for t in [1, 2]:\n",
    "for t in [1]:\n",
    "    df_ = rf_ic[rf_ic.lookahead==t]\n",
    "    y, X = df_.ic, df_.drop(['ic'], axis=1)\n",
    "    #X = sm.add_constant(pd.get_dummies(X, columns=X.columns, drop_first=True))\n",
    "    X = sm.add_constant(pd.get_dummies(X, columns=X.columns, dtype=float))\n",
    "    model = sm.OLS(endog=y, exog=X)\n",
    "    lin_reg[t] = model.fit()\n",
    "    s = lin_reg[t].summary()\n",
    "    coefs = pd.read_csv(StringIO(s.tables[1].as_csv())).rename(columns=lambda x: x.strip())\n",
    "    coefs.columns = ['variable', 'coef', 'std_err', 't', 'p_value', 'ci_low', 'ci_high']\n",
    "    coefs.to_csv(f'results/linreg_result_{t:02}.csv', index=False)"
   ]
  },
  {
   "cell_type": "code",
   "execution_count": null,
   "metadata": {
    "execution": {
     "iopub.execute_input": "2024-09-23T18:28:23.937455Z",
     "iopub.status.busy": "2024-09-23T18:28:23.937455Z",
     "iopub.status.idle": "2024-09-23T18:28:23.968882Z",
     "shell.execute_reply": "2024-09-23T18:28:23.968882Z"
    }
   },
   "outputs": [],
   "source": [
    "coefs.tail(20)"
   ]
  },
  {
   "cell_type": "code",
   "execution_count": null,
   "metadata": {
    "ExecuteTime": {
     "end_time": "2021-04-16T03:10:08.475861Z",
     "start_time": "2021-04-16T03:10:07.349356Z"
    },
    "execution": {
     "iopub.execute_input": "2024-09-23T18:28:23.968882Z",
     "iopub.status.busy": "2024-09-23T18:28:23.968882Z",
     "iopub.status.idle": "2024-09-23T18:28:24.828274Z",
     "shell.execute_reply": "2024-09-23T18:28:24.828274Z"
    }
   },
   "outputs": [],
   "source": [
    "fig, axes = plt.subplots(nrows=1, ncols=2, figsize=(20, 8), sharey=True)\n",
    "axes = axes.flatten()\n",
    "#for i, t in enumerate([1, 2]):#modificado\n",
    "for i, t in enumerate([1]):#modificado\n",
    "    visualize_lr_result(lin_reg[t], axes[i])\n",
    "    axes[i].set_title(f'Lookahead: {t} Day(s)')\n",
    "fig.suptitle('OLS Coefficients & Confidence Intervals', fontsize=20)\n",
    "fig.tight_layout()\n",
    "fig.subplots_adjust(top=.92);"
   ]
  },
  {
   "cell_type": "markdown",
   "metadata": {},
   "source": [
    "## Cross-validation Result: Best Hyperparameters"
   ]
  },
  {
   "cell_type": "markdown",
   "metadata": {},
   "source": [
    "### LightGBM"
   ]
  },
  {
   "cell_type": "code",
   "execution_count": null,
   "metadata": {
    "ExecuteTime": {
     "end_time": "2021-04-16T03:10:17.016817Z",
     "start_time": "2021-04-16T03:10:17.000985Z"
    },
    "execution": {
     "iopub.execute_input": "2024-09-23T18:28:24.828274Z",
     "iopub.status.busy": "2024-09-23T18:28:24.828274Z",
     "iopub.status.idle": "2024-09-23T18:28:24.859550Z",
     "shell.execute_reply": "2024-09-23T18:28:24.859550Z"
    }
   },
   "outputs": [],
   "source": [
    "group_cols = scope_params + lgb_train_params + ['boost_rounds']\n",
    "lgb_daily_ic.groupby('lookahead', group_keys=False).apply(lambda x: x.nlargest(10, 'ic'))"
   ]
  },
  {
   "cell_type": "code",
   "execution_count": 59,
   "metadata": {
    "ExecuteTime": {
     "end_time": "2021-04-16T03:10:17.030109Z",
     "start_time": "2021-04-16T03:10:17.017815Z"
    },
    "execution": {
     "iopub.execute_input": "2024-09-23T18:28:24.859550Z",
     "iopub.status.busy": "2024-09-23T18:28:24.859550Z",
     "iopub.status.idle": "2024-09-23T18:28:24.890787Z",
     "shell.execute_reply": "2024-09-23T18:28:24.890787Z"
    }
   },
   "outputs": [],
   "source": [
    "lgb_metrics.groupby('lookahead', group_keys=False).apply(lambda x: x.nlargest(3, 'ic'))\n",
    "lgb_metrics.groupby('lookahead', group_keys=False).apply(lambda x: x.nlargest(3, 'ic')).to_csv('results/best_lgb_model.csv', index=False)"
   ]
  },
  {
   "cell_type": "code",
   "execution_count": null,
   "metadata": {
    "ExecuteTime": {
     "end_time": "2021-04-16T03:10:17.045745Z",
     "start_time": "2021-04-16T03:10:17.031059Z"
    },
    "execution": {
     "iopub.execute_input": "2024-09-23T18:28:24.890787Z",
     "iopub.status.busy": "2024-09-23T18:28:24.890787Z",
     "iopub.status.idle": "2024-09-23T18:28:24.922053Z",
     "shell.execute_reply": "2024-09-23T18:28:24.922053Z"
    }
   },
   "outputs": [],
   "source": [
    "lgb_metrics.groupby('lookahead', group_keys=False).apply(lambda x: x.nlargest(10, 'daily_ic_mean'))"
   ]
  },
  {
   "cell_type": "markdown",
   "metadata": {},
   "source": [
    "### Random Forest"
   ]
  },
  {
   "cell_type": "code",
   "execution_count": null,
   "metadata": {
    "ExecuteTime": {
     "end_time": "2021-04-16T03:10:17.016817Z",
     "start_time": "2021-04-16T03:10:17.000985Z"
    },
    "execution": {
     "iopub.execute_input": "2024-09-23T18:28:24.922053Z",
     "iopub.status.busy": "2024-09-23T18:28:24.922053Z",
     "iopub.status.idle": "2024-09-23T18:28:24.953496Z",
     "shell.execute_reply": "2024-09-23T18:28:24.953496Z"
    }
   },
   "outputs": [],
   "source": [
    "group_cols = scope_params + rf_train_params + ['boost_rounds']\n",
    "rf_daily_ic.groupby('lookahead', group_keys=False).apply(lambda x: x.nlargest(10, 'ic'))"
   ]
  },
  {
   "cell_type": "code",
   "execution_count": 62,
   "metadata": {
    "ExecuteTime": {
     "end_time": "2021-04-16T03:10:17.030109Z",
     "start_time": "2021-04-16T03:10:17.017815Z"
    },
    "execution": {
     "iopub.execute_input": "2024-09-23T18:28:24.953496Z",
     "iopub.status.busy": "2024-09-23T18:28:24.953496Z",
     "iopub.status.idle": "2024-09-23T18:28:24.984765Z",
     "shell.execute_reply": "2024-09-23T18:28:24.984765Z"
    }
   },
   "outputs": [],
   "source": [
    "rf_metrics.groupby('lookahead', group_keys=False).apply(lambda x: x.nlargest(3, 'ic'))\n",
    "rf_metrics.groupby('lookahead', group_keys=False).apply(lambda x: x.nlargest(3, 'ic')).to_csv('results/best_rf_model.csv', index=False)"
   ]
  },
  {
   "cell_type": "code",
   "execution_count": null,
   "metadata": {
    "ExecuteTime": {
     "end_time": "2021-04-16T03:10:17.045745Z",
     "start_time": "2021-04-16T03:10:17.031059Z"
    },
    "execution": {
     "iopub.execute_input": "2024-09-23T18:28:24.984765Z",
     "iopub.status.busy": "2024-09-23T18:28:24.984765Z",
     "iopub.status.idle": "2024-09-23T18:28:25.015958Z",
     "shell.execute_reply": "2024-09-23T18:28:25.015958Z"
    }
   },
   "outputs": [],
   "source": [
    "rf_metrics.groupby('lookahead', group_keys=False).apply(lambda x: x.nlargest(10, 'daily_ic_mean'))"
   ]
  },
  {
   "cell_type": "markdown",
   "metadata": {},
   "source": [
    "### Visualization"
   ]
  },
  {
   "cell_type": "markdown",
   "metadata": {},
   "source": [
    "#### LightGBM"
   ]
  },
  {
   "cell_type": "code",
   "execution_count": null,
   "metadata": {
    "ExecuteTime": {
     "end_time": "2021-04-16T03:10:36.620383Z",
     "start_time": "2021-04-16T03:10:36.375277Z"
    },
    "execution": {
     "iopub.execute_input": "2024-09-23T18:28:25.015958Z",
     "iopub.status.busy": "2024-09-23T18:28:25.015958Z",
     "iopub.status.idle": "2024-09-23T18:28:26.078299Z",
     "shell.execute_reply": "2024-09-23T18:28:26.078299Z"
    }
   },
   "outputs": [],
   "source": [
    "g = sns.catplot(x='lookahead', y='ic',\n",
    "                col='train_length', row='test_length',\n",
    "                data=lgb_metrics,\n",
    "                kind='box')"
   ]
  },
  {
   "cell_type": "code",
   "execution_count": null,
   "metadata": {
    "ExecuteTime": {
     "end_time": "2021-04-16T03:10:37.048871Z",
     "start_time": "2021-04-16T03:10:36.621349Z"
    },
    "execution": {
     "iopub.execute_input": "2024-09-23T18:28:26.078299Z",
     "iopub.status.busy": "2024-09-23T18:28:26.078299Z",
     "iopub.status.idle": "2024-09-23T18:28:27.218930Z",
     "shell.execute_reply": "2024-09-23T18:28:27.218930Z"
    }
   },
   "outputs": [],
   "source": [
    "t=1\n",
    "g=sns.catplot(x='boost_rounds',\n",
    "            y='ic',\n",
    "            col='train_length',\n",
    "            row='test_length',\n",
    "            data=lgb_daily_ic[lgb_daily_ic.lookahead == t],\n",
    "            kind='box')"
   ]
  },
  {
   "cell_type": "markdown",
   "metadata": {},
   "source": [
    "### Random forest"
   ]
  },
  {
   "cell_type": "markdown",
   "metadata": {},
   "source": [
    "#### Random Forest"
   ]
  },
  {
   "cell_type": "code",
   "execution_count": null,
   "metadata": {
    "ExecuteTime": {
     "end_time": "2021-04-16T03:10:36.620383Z",
     "start_time": "2021-04-16T03:10:36.375277Z"
    },
    "execution": {
     "iopub.execute_input": "2024-09-23T18:28:27.218930Z",
     "iopub.status.busy": "2024-09-23T18:28:27.218930Z",
     "iopub.status.idle": "2024-09-23T18:28:28.359359Z",
     "shell.execute_reply": "2024-09-23T18:28:28.359359Z"
    }
   },
   "outputs": [],
   "source": [
    "g = sns.catplot(x='lookahead', y='ic',\n",
    "                col='train_length', row='test_length',\n",
    "                data=rf_metrics,\n",
    "                kind='box')"
   ]
  },
  {
   "cell_type": "code",
   "execution_count": null,
   "metadata": {
    "ExecuteTime": {
     "end_time": "2021-04-16T03:10:37.048871Z",
     "start_time": "2021-04-16T03:10:36.621349Z"
    },
    "execution": {
     "iopub.execute_input": "2024-09-23T18:28:28.359359Z",
     "iopub.status.busy": "2024-09-23T18:28:28.359359Z",
     "iopub.status.idle": "2024-09-23T18:28:29.468935Z",
     "shell.execute_reply": "2024-09-23T18:28:29.468935Z"
    }
   },
   "outputs": [],
   "source": [
    "t=1\n",
    "g=sns.catplot(x='boost_rounds',\n",
    "            y='ic',\n",
    "            col='train_length',\n",
    "            row='test_length',\n",
    "            data=rf_daily_ic[rf_daily_ic.lookahead == t],\n",
    "            kind='box')"
   ]
  },
  {
   "cell_type": "markdown",
   "metadata": {},
   "source": [
    "## AlphaLens Analysis - Validation Performance"
   ]
  },
  {
   "cell_type": "markdown",
   "metadata": {},
   "source": [
    "### LightGBM"
   ]
  },
  {
   "cell_type": "markdown",
   "metadata": {},
   "source": [
    "#### Select Parameters"
   ]
  },
  {
   "cell_type": "code",
   "execution_count": null,
   "metadata": {
    "ExecuteTime": {
     "end_time": "2021-04-16T03:10:40.380702Z",
     "start_time": "2021-04-16T03:10:40.368392Z"
    },
    "execution": {
     "iopub.execute_input": "2024-09-23T18:28:29.468935Z",
     "iopub.status.busy": "2024-09-23T18:28:29.468935Z",
     "iopub.status.idle": "2024-09-23T18:28:29.500177Z",
     "shell.execute_reply": "2024-09-23T18:28:29.500177Z"
    }
   },
   "outputs": [],
   "source": [
    "lgb_daily_ic = pd.read_hdf('../data/model_tuning.h5', 'lgb/daily_ic')\n",
    "lgb_daily_ic.info()"
   ]
  },
  {
   "cell_type": "code",
   "execution_count": 69,
   "metadata": {
    "ExecuteTime": {
     "end_time": "2021-04-16T03:10:40.399763Z",
     "start_time": "2021-04-16T03:10:40.381606Z"
    },
    "execution": {
     "iopub.execute_input": "2024-09-23T18:28:29.500177Z",
     "iopub.status.busy": "2024-09-23T18:28:29.500177Z",
     "iopub.status.idle": "2024-09-23T18:28:29.515776Z",
     "shell.execute_reply": "2024-09-23T18:28:29.515776Z"
    }
   },
   "outputs": [],
   "source": [
    "def get_lgb_params(data, t=5, best=0):\n",
    "    param_cols = scope_params[1:] + lgb_train_params + ['boost_rounds']\n",
    "    df = data[data.lookahead==t].sort_values('ic', ascending=False).iloc[best]\n",
    "    return df.loc[param_cols]"
   ]
  },
  {
   "cell_type": "code",
   "execution_count": 70,
   "metadata": {
    "ExecuteTime": {
     "end_time": "2021-04-16T03:10:40.407748Z",
     "start_time": "2021-04-16T03:10:40.400875Z"
    },
    "execution": {
     "iopub.execute_input": "2024-09-23T18:28:29.515776Z",
     "iopub.status.busy": "2024-09-23T18:28:29.515776Z",
     "iopub.status.idle": "2024-09-23T18:28:29.531410Z",
     "shell.execute_reply": "2024-09-23T18:28:29.531410Z"
    }
   },
   "outputs": [],
   "source": [
    "def get_lgb_key(t, p):\n",
    "    key = f'{t}/{int(p.train_length)}/{int(p.test_length)}/{p.learning_rate}/'\n",
    "    return key + f'{int(p.num_leaves)}/{p.feature_fraction}/{int(p.min_data_in_leaf)}'"
   ]
  },
  {
   "cell_type": "code",
   "execution_count": null,
   "metadata": {
    "ExecuteTime": {
     "end_time": "2021-04-16T03:10:40.418824Z",
     "start_time": "2021-04-16T03:10:40.409341Z"
    },
    "execution": {
     "iopub.execute_input": "2024-09-23T18:28:29.531410Z",
     "iopub.status.busy": "2024-09-23T18:28:29.531410Z",
     "iopub.status.idle": "2024-09-23T18:28:29.547058Z",
     "shell.execute_reply": "2024-09-23T18:28:29.547058Z"
    }
   },
   "outputs": [],
   "source": [
    "best_params = get_lgb_params(lgb_daily_ic, t=1, best=0)\n",
    "best_params"
   ]
  },
  {
   "cell_type": "code",
   "execution_count": 72,
   "metadata": {
    "ExecuteTime": {
     "end_time": "2021-04-16T03:10:40.431022Z",
     "start_time": "2021-04-16T03:10:40.421305Z"
    },
    "execution": {
     "iopub.execute_input": "2024-09-23T18:28:29.547058Z",
     "iopub.status.busy": "2024-09-23T18:28:29.547058Z",
     "iopub.status.idle": "2024-09-23T18:28:29.578272Z",
     "shell.execute_reply": "2024-09-23T18:28:29.578272Z"
    }
   },
   "outputs": [],
   "source": [
    "best_params.to_hdf('data.h5', 'best_params')"
   ]
  },
  {
   "cell_type": "markdown",
   "metadata": {},
   "source": [
    "#### Plot rolling IC"
   ]
  },
  {
   "cell_type": "code",
   "execution_count": 73,
   "metadata": {
    "ExecuteTime": {
     "end_time": "2021-04-16T03:10:40.440209Z",
     "start_time": "2021-04-16T03:10:40.431883Z"
    },
    "execution": {
     "iopub.execute_input": "2024-09-23T18:28:29.578272Z",
     "iopub.status.busy": "2024-09-23T18:28:29.578272Z",
     "iopub.status.idle": "2024-09-23T18:28:29.593901Z",
     "shell.execute_reply": "2024-09-23T18:28:29.593901Z"
    }
   },
   "outputs": [],
   "source": [
    "def select_ic(params, ic_data, lookahead):\n",
    "    return ic_data.loc[(ic_data.lookahead == lookahead) &\n",
    "                       (ic_data.train_length == params.train_length) &\n",
    "                       (ic_data.test_length == params.test_length) &\n",
    "                       (ic_data.learning_rate == params.learning_rate) &\n",
    "                       (ic_data.num_leaves == params.num_leaves) &\n",
    "                       (ic_data.feature_fraction == params.feature_fraction) &\n",
    "                       (ic_data.boost_rounds == params.boost_rounds), ['date', 'ic']].set_index('date')"
   ]
  },
  {
   "cell_type": "code",
   "execution_count": null,
   "metadata": {
    "ExecuteTime": {
     "end_time": "2021-04-16T03:10:41.367644Z",
     "start_time": "2021-04-16T03:10:40.442038Z"
    },
    "execution": {
     "iopub.execute_input": "2024-09-23T18:28:29.593901Z",
     "iopub.status.busy": "2024-09-23T18:28:29.593901Z",
     "iopub.status.idle": "2024-09-23T18:28:30.484371Z",
     "shell.execute_reply": "2024-09-23T18:28:30.484371Z"
    }
   },
   "outputs": [],
   "source": [
    "fig, axes = plt.subplots(nrows=1, ncols=2, figsize=(20, 5))\n",
    "axes = axes.flatten()\n",
    "\n",
    "\n",
    "for i, t in enumerate([1]): #modificado para meses un lookahead\n",
    "    params = get_lgb_params(lgb_daily_ic, t=t)\n",
    "    data = select_ic(params, lgb_ic, lookahead=t).sort_index()\n",
    "    #rolling = data.rolling(63).ic.mean().dropna()\n",
    "    rolling = data.rolling(3*4).ic.mean().dropna()#semanas\n",
    "    avg = data.ic.mean()\n",
    "    med = data.ic.median()\n",
    "    rolling.plot(ax=axes[i], title=f'Horizon: {t} Day(s) | IC: Mean={avg*100:.2f}   Median={med*100:.2f}')\n",
    "    axes[i].axhline(avg, c='darkred', lw=1)\n",
    "    axes[i].axhline(0, ls='--', c='k', lw=1)\n",
    "\n",
    "fig.suptitle('3-Month Rolling Information Coefficient', fontsize=16)\n",
    "fig.tight_layout()\n",
    "fig.subplots_adjust(top=0.92);"
   ]
  },
  {
   "cell_type": "code",
   "execution_count": null,
   "metadata": {
    "execution": {
     "iopub.execute_input": "2024-09-23T18:28:30.484371Z",
     "iopub.status.busy": "2024-09-23T18:28:30.484371Z",
     "iopub.status.idle": "2024-09-23T18:28:30.500290Z",
     "shell.execute_reply": "2024-09-23T18:28:30.500290Z"
    }
   },
   "outputs": [],
   "source": [
    "t"
   ]
  },
  {
   "cell_type": "markdown",
   "metadata": {},
   "source": [
    "#### Get Predictions for Validation Period"
   ]
  },
  {
   "cell_type": "code",
   "execution_count": 76,
   "metadata": {
    "ExecuteTime": {
     "end_time": "2021-04-16T03:10:43.816007Z",
     "start_time": "2021-04-16T03:10:41.368615Z"
    },
    "execution": {
     "iopub.execute_input": "2024-09-23T18:28:30.500290Z",
     "iopub.status.busy": "2024-09-23T18:28:30.500290Z",
     "iopub.status.idle": "2024-09-23T18:28:30.734557Z",
     "shell.execute_reply": "2024-09-23T18:28:30.734557Z"
    }
   },
   "outputs": [],
   "source": [
    "lookahead = 1\n",
    "topn = 10\n",
    "for best in range(topn):\n",
    "    best_params = get_lgb_params(lgb_daily_ic, t=lookahead, best=best)\n",
    "    key = get_lgb_key(lookahead, best_params)\n",
    "    rounds = str(int(best_params.boost_rounds))\n",
    "    if best == 0:\n",
    "        best_predictions = pd.read_hdf(results_path / 'tuning_lgb.h5', 'predictions/' + key)\n",
    "        best_predictions = best_predictions[rounds].to_frame(best)\n",
    "    else:\n",
    "        best_predictions[best] = pd.read_hdf(results_path / 'tuning_lgb.h5',\n",
    "                                             'predictions/' + key)[rounds]\n",
    "best_predictions = best_predictions.sort_index()"
   ]
  },
  {
   "cell_type": "code",
   "execution_count": null,
   "metadata": {
    "ExecuteTime": {
     "end_time": "2021-04-16T03:10:43.870023Z",
     "start_time": "2021-04-16T03:10:43.816894Z"
    },
    "execution": {
     "iopub.execute_input": "2024-09-23T18:28:30.734557Z",
     "iopub.status.busy": "2024-09-23T18:28:30.734557Z",
     "iopub.status.idle": "2024-09-23T18:28:30.797049Z",
     "shell.execute_reply": "2024-09-23T18:28:30.797049Z"
    }
   },
   "outputs": [],
   "source": [
    "best_predictions.to_hdf('../data/predictions.h5', f'lgb/train/{lookahead:02}')\n",
    "best_predictions.info()"
   ]
  },
  {
   "cell_type": "code",
   "execution_count": 78,
   "metadata": {
    "execution": {
     "iopub.execute_input": "2024-09-23T18:28:30.797049Z",
     "iopub.status.busy": "2024-09-23T18:28:30.797049Z",
     "iopub.status.idle": "2024-09-23T18:28:30.812674Z",
     "shell.execute_reply": "2024-09-23T18:28:30.812674Z"
    }
   },
   "outputs": [],
   "source": [
    "#modificado\n",
    "def get_trade_prices(tickers):\n",
    "    idx = pd.IndexSlice\n",
    "    DATA_STORE = '../data/assets.h5'\n",
    "    with pd.HDFStore(DATA_STORE) as store:\n",
    "        prices = (store['data_close']) \n",
    "    \n",
    "    return (prices.loc[idx[tickers, '2012': '2024'], 'open']\n",
    "            .unstack('ticker')\n",
    "            .sort_index()\n",
    "            .shift(-1)\n",
    "            .tz_localize('UTC')\n",
    "            .resample('W').last())"
   ]
  },
  {
   "cell_type": "code",
   "execution_count": 79,
   "metadata": {
    "ExecuteTime": {
     "end_time": "2021-04-16T03:10:43.908586Z",
     "start_time": "2021-04-16T03:10:43.874231Z"
    },
    "execution": {
     "iopub.execute_input": "2024-09-23T18:28:30.828297Z",
     "iopub.status.busy": "2024-09-23T18:28:30.828297Z",
     "iopub.status.idle": "2024-09-23T18:28:30.844071Z",
     "shell.execute_reply": "2024-09-23T18:28:30.844071Z"
    }
   },
   "outputs": [],
   "source": [
    "test_tickers = best_predictions.index.get_level_values('ticker').unique()#modificado"
   ]
  },
  {
   "cell_type": "code",
   "execution_count": null,
   "metadata": {},
   "outputs": [],
   "source": [
    "test_tickers"
   ]
  },
  {
   "cell_type": "code",
   "execution_count": null,
   "metadata": {
    "ExecuteTime": {
     "end_time": "2021-04-16T03:13:58.205331Z",
     "start_time": "2021-04-16T03:10:43.909554Z"
    },
    "execution": {
     "iopub.execute_input": "2024-09-23T18:28:30.844071Z",
     "iopub.status.busy": "2024-09-23T18:28:30.844071Z",
     "iopub.status.idle": "2024-09-23T18:28:30.937677Z",
     "shell.execute_reply": "2024-09-23T18:28:30.937677Z"
    }
   },
   "outputs": [],
   "source": [
    "trade_prices = get_trade_prices(test_tickers)\n",
    "trade_prices.info()"
   ]
  },
  {
   "cell_type": "code",
   "execution_count": 82,
   "metadata": {
    "ExecuteTime": {
     "end_time": "2021-04-16T03:13:58.231745Z",
     "start_time": "2021-04-16T03:13:58.206259Z"
    },
    "execution": {
     "iopub.execute_input": "2024-09-23T18:28:30.937677Z",
     "iopub.status.busy": "2024-09-23T18:28:30.937677Z",
     "iopub.status.idle": "2024-09-23T18:28:30.984683Z",
     "shell.execute_reply": "2024-09-23T18:28:30.984683Z"
    }
   },
   "outputs": [],
   "source": [
    "trade_prices.to_hdf('../data/model_tuning.h5', 'trade_prices/model_selection')\n",
    "trade_prices = pd.read_hdf('../data/model_tuning.h5', 'trade_prices/model_selection')"
   ]
  },
  {
   "cell_type": "code",
   "execution_count": null,
   "metadata": {
    "execution": {
     "iopub.execute_input": "2024-09-23T18:28:30.984683Z",
     "iopub.status.busy": "2024-09-23T18:28:30.984683Z",
     "iopub.status.idle": "2024-09-23T18:28:31.015965Z",
     "shell.execute_reply": "2024-09-23T18:28:31.015965Z"
    }
   },
   "outputs": [],
   "source": [
    "trade_prices.tail()"
   ]
  },
  {
   "cell_type": "code",
   "execution_count": 84,
   "metadata": {
    "ExecuteTime": {
     "end_time": "2021-04-16T03:13:58.241947Z",
     "start_time": "2021-04-16T03:13:58.232591Z"
    },
    "execution": {
     "iopub.execute_input": "2024-09-23T18:28:31.015965Z",
     "iopub.status.busy": "2024-09-23T18:28:31.015965Z",
     "iopub.status.idle": "2024-09-23T18:28:31.031540Z",
     "shell.execute_reply": "2024-09-23T18:28:31.031540Z"
    }
   },
   "outputs": [],
   "source": [
    "factor = best_predictions.iloc[:, :5].mean(1).dropna().tz_localize('UTC', level='date').swaplevel()"
   ]
  },
  {
   "cell_type": "code",
   "execution_count": null,
   "metadata": {
    "execution": {
     "iopub.execute_input": "2024-09-23T18:28:31.062894Z",
     "iopub.status.busy": "2024-09-23T18:28:31.062894Z",
     "iopub.status.idle": "2024-09-23T18:28:31.094141Z",
     "shell.execute_reply": "2024-09-23T18:28:31.094141Z"
    }
   },
   "outputs": [],
   "source": [
    "trade_prices.tail()"
   ]
  },
  {
   "cell_type": "code",
   "execution_count": null,
   "metadata": {
    "execution": {
     "iopub.execute_input": "2024-09-23T18:28:31.094141Z",
     "iopub.status.busy": "2024-09-23T18:28:31.094141Z",
     "iopub.status.idle": "2024-09-23T18:28:31.109720Z",
     "shell.execute_reply": "2024-09-23T18:28:31.109720Z"
    }
   },
   "outputs": [],
   "source": [
    "freq = pd.infer_freq(trade_prices.index)\n",
    "print(freq)"
   ]
  },
  {
   "cell_type": "markdown",
   "metadata": {},
   "source": [
    "#### Create AlphaLens Inputs"
   ]
  },
  {
   "cell_type": "code",
   "execution_count": null,
   "metadata": {
    "ExecuteTime": {
     "end_time": "2021-04-16T03:14:03.315504Z",
     "start_time": "2021-04-16T03:13:58.242798Z"
    },
    "execution": {
     "iopub.execute_input": "2024-09-23T18:28:31.109720Z",
     "iopub.status.busy": "2024-09-23T18:28:31.109720Z",
     "iopub.status.idle": "2024-09-23T18:28:31.656202Z",
     "shell.execute_reply": "2024-09-23T18:28:31.656202Z"
    }
   },
   "outputs": [],
   "source": [
    "factor_data = get_clean_factor_and_forward_returns(factor=factor,\n",
    "                                                   prices=trade_prices,\n",
    "                                                   quantiles=5,\n",
    "                                                   #periods=(1, 2))#modificado\n",
    "                                                   periods=(1,2),max_loss=2)#modificado"
   ]
  },
  {
   "cell_type": "markdown",
   "metadata": {},
   "source": [
    "#### Compute Alphalens metrics"
   ]
  },
  {
   "cell_type": "code",
   "execution_count": 90,
   "metadata": {
    "ExecuteTime": {
     "end_time": "2021-04-16T03:14:09.167822Z",
     "start_time": "2021-04-16T03:14:03.316463Z"
    },
    "execution": {
     "iopub.execute_input": "2024-09-23T18:28:31.656202Z",
     "iopub.status.busy": "2024-09-23T18:28:31.656202Z",
     "iopub.status.idle": "2024-09-23T18:28:34.344122Z",
     "shell.execute_reply": "2024-09-23T18:28:34.344122Z"
    }
   },
   "outputs": [],
   "source": [
    "mean_quant_ret_bydate, std_quant_daily = perf.mean_return_by_quantile(\n",
    "    factor_data,\n",
    "    by_date=True,\n",
    "    by_group=False,\n",
    "    demeaned=True,\n",
    "    group_adjust=False,\n",
    ")"
   ]
  },
  {
   "cell_type": "code",
   "execution_count": 91,
   "metadata": {
    "ExecuteTime": {
     "end_time": "2021-04-16T03:14:11.615174Z",
     "start_time": "2021-04-16T03:14:09.168637Z"
    },
    "execution": {
     "iopub.execute_input": "2024-09-23T18:28:34.344122Z",
     "iopub.status.busy": "2024-09-23T18:28:34.344122Z",
     "iopub.status.idle": "2024-09-23T18:28:34.719338Z",
     "shell.execute_reply": "2024-09-23T18:28:34.719338Z"
    }
   },
   "outputs": [],
   "source": [
    "factor_returns = perf.factor_returns(factor_data)"
   ]
  },
  {
   "cell_type": "code",
   "execution_count": 92,
   "metadata": {
    "ExecuteTime": {
     "end_time": "2021-04-16T03:14:17.469702Z",
     "start_time": "2021-04-16T03:14:11.616024Z"
    },
    "execution": {
     "iopub.execute_input": "2024-09-23T18:28:34.719338Z",
     "iopub.status.busy": "2024-09-23T18:28:34.719338Z",
     "iopub.status.idle": "2024-09-23T18:28:36.781850Z",
     "shell.execute_reply": "2024-09-23T18:28:36.781850Z"
    }
   },
   "outputs": [],
   "source": [
    "mean_quant_ret, std_quantile = perf.mean_return_by_quantile(factor_data,\n",
    "                                                            by_group=False,\n",
    "                                                            demeaned=True)\n",
    "\n",
    "\n",
    "\n",
    "mean_quant_rateret = mean_quant_ret.apply(rate_of_return, axis=0,\n",
    "                                          base_period=mean_quant_ret.columns[0])"
   ]
  },
  {
   "cell_type": "code",
   "execution_count": 93,
   "metadata": {
    "ExecuteTime": {
     "end_time": "2021-04-16T03:14:25.951528Z",
     "start_time": "2021-04-16T03:14:17.471576Z"
    },
    "execution": {
     "iopub.execute_input": "2024-09-23T18:28:36.781850Z",
     "iopub.status.busy": "2024-09-23T18:28:36.781850Z",
     "iopub.status.idle": "2024-09-23T18:28:39.125594Z",
     "shell.execute_reply": "2024-09-23T18:28:39.125594Z"
    }
   },
   "outputs": [],
   "source": [
    "mean_quant_ret_bydate, std_quant_daily = perf.mean_return_by_quantile(\n",
    "    factor_data,\n",
    "    by_date=True,\n",
    "    by_group=False,\n",
    "    demeaned=True,\n",
    "    group_adjust=False,\n",
    ")\n",
    "\n",
    "mean_quant_rateret_bydate = mean_quant_ret_bydate.apply(\n",
    "    rate_of_return,\n",
    "    base_period=mean_quant_ret_bydate.columns[0],\n",
    ")\n",
    "\n",
    "compstd_quant_daily = std_quant_daily.apply(std_conversion,\n",
    "                                            base_period=std_quant_daily.columns[0])\n",
    "\n",
    "alpha_beta = perf.factor_alpha_beta(factor_data,\n",
    "                                    demeaned=True)\n",
    "\n",
    "mean_ret_spread_quant, std_spread_quant = perf.compute_mean_returns_spread(\n",
    "    mean_quant_rateret_bydate,\n",
    "    factor_data[\"factor_quantile\"].max(),\n",
    "    factor_data[\"factor_quantile\"].min(),\n",
    "    std_err=compstd_quant_daily,\n",
    ")"
   ]
  },
  {
   "cell_type": "code",
   "execution_count": null,
   "metadata": {
    "ExecuteTime": {
     "end_time": "2021-04-16T03:14:25.960685Z",
     "start_time": "2021-04-16T03:14:25.952710Z"
    },
    "execution": {
     "iopub.execute_input": "2024-09-23T18:28:39.125594Z",
     "iopub.status.busy": "2024-09-23T18:28:39.125594Z",
     "iopub.status.idle": "2024-09-23T18:28:39.156845Z",
     "shell.execute_reply": "2024-09-23T18:28:39.156845Z"
    }
   },
   "outputs": [],
   "source": [
    "mean_ret_spread_quant.mean().mul(10000).to_frame('Mean Period Wise Spread (bps)').join(alpha_beta.T).T"
   ]
  },
  {
   "cell_type": "code",
   "execution_count": null,
   "metadata": {
    "ExecuteTime": {
     "end_time": "2021-04-16T03:14:26.934807Z",
     "start_time": "2021-04-16T03:14:25.961662Z"
    },
    "execution": {
     "iopub.execute_input": "2024-09-23T18:28:39.156845Z",
     "iopub.status.busy": "2024-09-23T18:28:39.156845Z",
     "iopub.status.idle": "2024-09-23T18:28:40.547874Z",
     "shell.execute_reply": "2024-09-23T18:28:40.547874Z"
    }
   },
   "outputs": [],
   "source": [
    "fig, axes = plt.subplots(ncols=3, figsize=(18, 4))\n",
    "\n",
    "\n",
    "plotting.plot_quantile_returns_bar(mean_quant_rateret, ax=axes[0])\n",
    "plt.setp(axes[0].xaxis.get_majorticklabels(), rotation=0)\n",
    "axes[0].set_xlabel('Quantile')\n",
    "\n",
    "plotting.plot_cumulative_returns_by_quantile(mean_quant_ret_bydate['1D'],\n",
    "                                             freq=pd.tseries.offsets.BDay(),\n",
    "                                             period='1D',\n",
    "                                             ax=axes[1])\n",
    "axes[1].set_title('Cumulative Return by Quantile (1D Period)')\n",
    "\n",
    "title = \"Cumulative Return - Factor-Weighted Long/Short PF (1D Period)\"\n",
    "plotting.plot_cumulative_returns(factor_returns['1D'],\n",
    "                                 period='1D',\n",
    "                                 freq=pd.tseries.offsets.BDay(),\n",
    "                                 title=title,\n",
    "                                 ax=axes[2])\n",
    "\n",
    "fig.suptitle('Alphalens - Validation Set Performance', fontsize=14)\n",
    "fig.tight_layout()\n",
    "fig.subplots_adjust(top=.85);"
   ]
  },
  {
   "cell_type": "code",
   "execution_count": null,
   "metadata": {
    "ExecuteTime": {
     "end_time": "2021-04-16T03:14:44.691722Z",
     "start_time": "2021-04-16T03:14:26.935678Z"
    },
    "execution": {
     "iopub.execute_input": "2024-09-23T18:28:40.547874Z",
     "iopub.status.busy": "2024-09-23T18:28:40.547874Z",
     "iopub.status.idle": "2024-09-23T18:28:46.423644Z",
     "shell.execute_reply": "2024-09-23T18:28:46.423644Z"
    }
   },
   "outputs": [],
   "source": [
    "create_summary_tear_sheet(factor_data)"
   ]
  },
  {
   "cell_type": "code",
   "execution_count": null,
   "metadata": {
    "ExecuteTime": {
     "end_time": "2021-04-16T03:15:11.257824Z",
     "start_time": "2021-04-16T03:14:44.692590Z"
    },
    "execution": {
     "iopub.execute_input": "2024-09-23T18:28:46.423644Z",
     "iopub.status.busy": "2024-09-23T18:28:46.423644Z",
     "iopub.status.idle": "2024-09-23T18:29:01.572222Z",
     "shell.execute_reply": "2024-09-23T18:29:01.572222Z"
    },
    "scrolled": true
   },
   "outputs": [],
   "source": [
    "create_full_tear_sheet(factor_data)"
   ]
  },
  {
   "cell_type": "markdown",
   "metadata": {},
   "source": [
    "### Random Forest"
   ]
  },
  {
   "cell_type": "markdown",
   "metadata": {},
   "source": [
    "#### Select Parameters"
   ]
  },
  {
   "cell_type": "code",
   "execution_count": null,
   "metadata": {
    "ExecuteTime": {
     "end_time": "2021-04-16T03:10:40.380702Z",
     "start_time": "2021-04-16T03:10:40.368392Z"
    },
    "execution": {
     "iopub.execute_input": "2024-09-23T18:29:01.572222Z",
     "iopub.status.busy": "2024-09-23T18:29:01.572222Z",
     "iopub.status.idle": "2024-09-23T18:29:01.603514Z",
     "shell.execute_reply": "2024-09-23T18:29:01.603514Z"
    }
   },
   "outputs": [],
   "source": [
    "rf_daily_ic = pd.read_hdf('../data/model_tuning.h5', 'rf/daily_ic')\n",
    "rf_daily_ic.info()"
   ]
  },
  {
   "cell_type": "code",
   "execution_count": 99,
   "metadata": {
    "ExecuteTime": {
     "end_time": "2021-04-16T03:10:40.399763Z",
     "start_time": "2021-04-16T03:10:40.381606Z"
    },
    "execution": {
     "iopub.execute_input": "2024-09-23T18:29:01.603514Z",
     "iopub.status.busy": "2024-09-23T18:29:01.603514Z",
     "iopub.status.idle": "2024-09-23T18:29:01.619319Z",
     "shell.execute_reply": "2024-09-23T18:29:01.619319Z"
    }
   },
   "outputs": [],
   "source": [
    "def get_rf_params(data, t=5, best=0):\n",
    "    param_cols = scope_params[1:] + rf_train_params + ['boost_rounds']\n",
    "    df = data[data.lookahead==t].sort_values('ic', ascending=False).iloc[best]\n",
    "    return df.loc[param_cols]"
   ]
  },
  {
   "cell_type": "code",
   "execution_count": 100,
   "metadata": {
    "ExecuteTime": {
     "end_time": "2021-04-16T03:10:40.407748Z",
     "start_time": "2021-04-16T03:10:40.400875Z"
    },
    "execution": {
     "iopub.execute_input": "2024-09-23T18:29:01.619319Z",
     "iopub.status.busy": "2024-09-23T18:29:01.619319Z",
     "iopub.status.idle": "2024-09-23T18:29:01.634923Z",
     "shell.execute_reply": "2024-09-23T18:29:01.634923Z"
    }
   },
   "outputs": [],
   "source": [
    "def get_rf_key(t, p):\n",
    "    key = f'{t}/{int(p.train_length)}/{int(p.test_length)}/{p.bagging_fraction}/'\n",
    "    return key + f'{p.feature_fraction}/{int(p.min_data_in_leaf)}/{int(p.max_depth)}'"
   ]
  },
  {
   "cell_type": "code",
   "execution_count": null,
   "metadata": {
    "ExecuteTime": {
     "end_time": "2021-04-16T03:10:40.418824Z",
     "start_time": "2021-04-16T03:10:40.409341Z"
    },
    "execution": {
     "iopub.execute_input": "2024-09-23T18:29:01.634923Z",
     "iopub.status.busy": "2024-09-23T18:29:01.634923Z",
     "iopub.status.idle": "2024-09-23T18:29:01.650585Z",
     "shell.execute_reply": "2024-09-23T18:29:01.650585Z"
    }
   },
   "outputs": [],
   "source": [
    "best_params_rf = get_rf_params(rf_daily_ic, t=1, best=0)\n",
    "best_params_rf"
   ]
  },
  {
   "cell_type": "code",
   "execution_count": 102,
   "metadata": {
    "ExecuteTime": {
     "end_time": "2021-04-16T03:10:40.431022Z",
     "start_time": "2021-04-16T03:10:40.421305Z"
    },
    "execution": {
     "iopub.execute_input": "2024-09-23T18:29:01.650585Z",
     "iopub.status.busy": "2024-09-23T18:29:01.650585Z",
     "iopub.status.idle": "2024-09-23T18:29:01.681967Z",
     "shell.execute_reply": "2024-09-23T18:29:01.681967Z"
    }
   },
   "outputs": [],
   "source": [
    "best_params_rf.to_hdf('data.h5', 'best_params_rf')"
   ]
  },
  {
   "cell_type": "markdown",
   "metadata": {},
   "source": [
    "#### Plot rolling IC"
   ]
  },
  {
   "cell_type": "code",
   "execution_count": 103,
   "metadata": {
    "ExecuteTime": {
     "end_time": "2021-04-16T03:10:40.440209Z",
     "start_time": "2021-04-16T03:10:40.431883Z"
    },
    "execution": {
     "iopub.execute_input": "2024-09-23T18:29:01.681967Z",
     "iopub.status.busy": "2024-09-23T18:29:01.681967Z",
     "iopub.status.idle": "2024-09-23T18:29:01.697562Z",
     "shell.execute_reply": "2024-09-23T18:29:01.697562Z"
    }
   },
   "outputs": [],
   "source": [
    "def select_ic(params, ic_data, lookahead):\n",
    "    return ic_data.loc[(ic_data.lookahead == lookahead) &\n",
    "                       (ic_data.train_length == params.train_length) &\n",
    "                       (ic_data.test_length == params.test_length) &\n",
    "                       (ic_data.bagging_fraction == params.bagging_fraction) &\n",
    "                       (ic_data.feature_fraction == params.feature_fraction) &\n",
    "                       (ic_data.max_depth == params.max_depth) &\n",
    "                       (ic_data.boost_rounds == params.boost_rounds), ['date', 'ic']].set_index('date')"
   ]
  },
  {
   "cell_type": "code",
   "execution_count": null,
   "metadata": {
    "ExecuteTime": {
     "end_time": "2021-04-16T03:10:41.367644Z",
     "start_time": "2021-04-16T03:10:40.442038Z"
    },
    "execution": {
     "iopub.execute_input": "2024-09-23T18:29:01.697562Z",
     "iopub.status.busy": "2024-09-23T18:29:01.697562Z",
     "iopub.status.idle": "2024-09-23T18:29:02.634725Z",
     "shell.execute_reply": "2024-09-23T18:29:02.634725Z"
    }
   },
   "outputs": [],
   "source": [
    "fig, axes = plt.subplots(nrows=1, ncols=2, figsize=(20, 5))\n",
    "axes = axes.flatten()\n",
    "for i, t in enumerate([1]):#modificado para meses\n",
    "    params = get_rf_params(rf_daily_ic, t=t)\n",
    "    data = select_ic(params, rf_ic, lookahead=t).sort_index()\n",
    "    #rolling = data.rolling(63).ic.mean().dropna()\n",
    "    rolling = data.rolling(3*4).ic.mean().dropna()#semanas\n",
    "    avg = data.ic.mean()\n",
    "    med = data.ic.median()\n",
    "    rolling.plot(ax=axes[i], title=f'Horizon: {t} Day(s) | IC: Mean={avg*100:.2f}   Median={med*100:.2f}')\n",
    "    axes[i].axhline(avg, c='darkred', lw=1)\n",
    "    axes[i].axhline(0, ls='--', c='k', lw=1)\n",
    "\n",
    "fig.suptitle('3-Month Rolling Information Coefficient', fontsize=16)\n",
    "fig.tight_layout()\n",
    "fig.subplots_adjust(top=0.92);"
   ]
  },
  {
   "cell_type": "markdown",
   "metadata": {},
   "source": [
    "#### Get Predictions for Validation Period"
   ]
  },
  {
   "cell_type": "code",
   "execution_count": 105,
   "metadata": {
    "ExecuteTime": {
     "end_time": "2021-04-16T03:10:43.816007Z",
     "start_time": "2021-04-16T03:10:41.368615Z"
    },
    "execution": {
     "iopub.execute_input": "2024-09-23T18:29:02.634725Z",
     "iopub.status.busy": "2024-09-23T18:29:02.634725Z",
     "iopub.status.idle": "2024-09-23T18:29:03.165975Z",
     "shell.execute_reply": "2024-09-23T18:29:03.165975Z"
    }
   },
   "outputs": [],
   "source": [
    "lookahead = 1\n",
    "topn = 10\n",
    "for best in range(topn):\n",
    "    best_params = get_rf_params(rf_daily_ic, t=lookahead, best=best)\n",
    "    key = get_rf_key(lookahead, best_params)\n",
    "    rounds = str(int(best_params.boost_rounds))\n",
    "    if best == 0:\n",
    "        best_predictions = pd.read_hdf(results_path / 'tuning_rf.h5', 'predictions/' + key)\n",
    "        best_predictions = best_predictions[rounds].to_frame(best)\n",
    "    else:\n",
    "        best_predictions[best] = pd.read_hdf(results_path / 'tuning_rf.h5',\n",
    "                                             'predictions/' + key)[rounds]\n",
    "best_predictions = best_predictions.sort_index()"
   ]
  },
  {
   "cell_type": "code",
   "execution_count": null,
   "metadata": {
    "execution": {
     "iopub.execute_input": "2024-09-23T18:29:03.165975Z",
     "iopub.status.busy": "2024-09-23T18:29:03.165975Z",
     "iopub.status.idle": "2024-09-23T18:29:03.181602Z",
     "shell.execute_reply": "2024-09-23T18:29:03.181602Z"
    }
   },
   "outputs": [],
   "source": [
    "key"
   ]
  },
  {
   "cell_type": "code",
   "execution_count": null,
   "metadata": {
    "ExecuteTime": {
     "end_time": "2021-04-16T03:10:43.870023Z",
     "start_time": "2021-04-16T03:10:43.816894Z"
    },
    "execution": {
     "iopub.execute_input": "2024-09-23T18:29:03.181602Z",
     "iopub.status.busy": "2024-09-23T18:29:03.181602Z",
     "iopub.status.idle": "2024-09-23T18:29:03.244141Z",
     "shell.execute_reply": "2024-09-23T18:29:03.244141Z"
    }
   },
   "outputs": [],
   "source": [
    "best_predictions.to_hdf('../data/predictions.h5', f'rf/train/{lookahead:02}')\n",
    "best_predictions.info()"
   ]
  },
  {
   "cell_type": "markdown",
   "metadata": {},
   "source": [
    "#### Get Trade Prices"
   ]
  },
  {
   "cell_type": "code",
   "execution_count": 108,
   "metadata": {
    "ExecuteTime": {
     "end_time": "2021-04-16T03:10:43.908586Z",
     "start_time": "2021-04-16T03:10:43.874231Z"
    },
    "execution": {
     "iopub.execute_input": "2024-09-23T18:29:03.275388Z",
     "iopub.status.busy": "2024-09-23T18:29:03.275388Z",
     "iopub.status.idle": "2024-09-23T18:29:03.291013Z",
     "shell.execute_reply": "2024-09-23T18:29:03.291013Z"
    }
   },
   "outputs": [],
   "source": [
    "test_tickers = best_predictions.index.get_level_values('ticker').unique()#modificado"
   ]
  },
  {
   "cell_type": "code",
   "execution_count": null,
   "metadata": {
    "ExecuteTime": {
     "end_time": "2021-04-16T03:13:58.205331Z",
     "start_time": "2021-04-16T03:10:43.909554Z"
    },
    "execution": {
     "iopub.execute_input": "2024-09-23T18:29:03.291013Z",
     "iopub.status.busy": "2024-09-23T18:29:03.291013Z",
     "iopub.status.idle": "2024-09-23T18:29:03.400392Z",
     "shell.execute_reply": "2024-09-23T18:29:03.400392Z"
    }
   },
   "outputs": [],
   "source": [
    "trade_prices = get_trade_prices(test_tickers)\n",
    "trade_prices.info()"
   ]
  },
  {
   "cell_type": "code",
   "execution_count": 110,
   "metadata": {
    "ExecuteTime": {
     "end_time": "2021-04-16T03:13:58.231745Z",
     "start_time": "2021-04-16T03:13:58.206259Z"
    },
    "execution": {
     "iopub.execute_input": "2024-09-23T18:29:03.400392Z",
     "iopub.status.busy": "2024-09-23T18:29:03.400392Z",
     "iopub.status.idle": "2024-09-23T18:29:03.447229Z",
     "shell.execute_reply": "2024-09-23T18:29:03.447229Z"
    }
   },
   "outputs": [],
   "source": [
    "# persist result in case we want to rerun:\n",
    "trade_prices.to_hdf('../data/model_tuning.h5', 'trade_prices/model_selection')\n",
    "trade_prices = pd.read_hdf('../data/model_tuning.h5', 'trade_prices/model_selection')"
   ]
  },
  {
   "cell_type": "code",
   "execution_count": null,
   "metadata": {
    "execution": {
     "iopub.execute_input": "2024-09-23T18:29:03.478477Z",
     "iopub.status.busy": "2024-09-23T18:29:03.478477Z",
     "iopub.status.idle": "2024-09-23T18:29:03.540972Z",
     "shell.execute_reply": "2024-09-23T18:29:03.540972Z"
    }
   },
   "outputs": [],
   "source": [
    "trade_prices"
   ]
  },
  {
   "cell_type": "code",
   "execution_count": 112,
   "metadata": {
    "ExecuteTime": {
     "end_time": "2021-04-16T03:13:58.241947Z",
     "start_time": "2021-04-16T03:13:58.232591Z"
    },
    "execution": {
     "iopub.execute_input": "2024-09-23T18:29:03.540972Z",
     "iopub.status.busy": "2024-09-23T18:29:03.540972Z",
     "iopub.status.idle": "2024-09-23T18:29:03.572228Z",
     "shell.execute_reply": "2024-09-23T18:29:03.572228Z"
    }
   },
   "outputs": [],
   "source": [
    "factor = best_predictions.iloc[:, :5].mean(1).dropna().tz_localize('UTC', level='date').swaplevel()"
   ]
  },
  {
   "cell_type": "code",
   "execution_count": null,
   "metadata": {
    "execution": {
     "iopub.execute_input": "2024-09-23T18:29:03.572228Z",
     "iopub.status.busy": "2024-09-23T18:29:03.572228Z",
     "iopub.status.idle": "2024-09-23T18:29:03.634729Z",
     "shell.execute_reply": "2024-09-23T18:29:03.634729Z"
    }
   },
   "outputs": [],
   "source": [
    "best_predictions.iloc[:, :5]"
   ]
  },
  {
   "cell_type": "code",
   "execution_count": null,
   "metadata": {
    "execution": {
     "iopub.execute_input": "2024-09-23T18:29:03.681598Z",
     "iopub.status.busy": "2024-09-23T18:29:03.681598Z",
     "iopub.status.idle": "2024-09-23T18:29:03.697225Z",
     "shell.execute_reply": "2024-09-23T18:29:03.697225Z"
    }
   },
   "outputs": [],
   "source": [
    "freq = pd.infer_freq(trade_prices.index)\n",
    "print(freq)"
   ]
  },
  {
   "cell_type": "markdown",
   "metadata": {},
   "source": [
    "#### Create AlphaLens Inputs"
   ]
  },
  {
   "cell_type": "code",
   "execution_count": null,
   "metadata": {
    "ExecuteTime": {
     "end_time": "2021-04-16T03:14:03.315504Z",
     "start_time": "2021-04-16T03:13:58.242798Z"
    },
    "execution": {
     "iopub.execute_input": "2024-09-23T18:29:03.697225Z",
     "iopub.status.busy": "2024-09-23T18:29:03.697225Z",
     "iopub.status.idle": "2024-09-23T18:29:04.697648Z",
     "shell.execute_reply": "2024-09-23T18:29:04.697648Z"
    }
   },
   "outputs": [],
   "source": [
    "factor_data = get_clean_factor_and_forward_returns(factor=factor,\n",
    "                                                   prices=trade_prices,\n",
    "                                                   quantiles=5,\n",
    "                                                   periods=(1, 2),max_loss=2)#modificado"
   ]
  },
  {
   "cell_type": "markdown",
   "metadata": {},
   "source": [
    "#### Compute Alphalens metrics"
   ]
  },
  {
   "cell_type": "code",
   "execution_count": 118,
   "metadata": {
    "ExecuteTime": {
     "end_time": "2021-04-16T03:14:09.167822Z",
     "start_time": "2021-04-16T03:14:03.316463Z"
    },
    "execution": {
     "iopub.execute_input": "2024-09-23T18:29:04.697648Z",
     "iopub.status.busy": "2024-09-23T18:29:04.697648Z",
     "iopub.status.idle": "2024-09-23T18:29:07.417496Z",
     "shell.execute_reply": "2024-09-23T18:29:07.417496Z"
    }
   },
   "outputs": [],
   "source": [
    "mean_quant_ret_bydate, std_quant_daily = perf.mean_return_by_quantile(\n",
    "    factor_data,\n",
    "    by_date=True,\n",
    "    by_group=False,\n",
    "    demeaned=True,\n",
    "    group_adjust=False,\n",
    ")"
   ]
  },
  {
   "cell_type": "code",
   "execution_count": 119,
   "metadata": {
    "ExecuteTime": {
     "end_time": "2021-04-16T03:14:11.615174Z",
     "start_time": "2021-04-16T03:14:09.168637Z"
    },
    "execution": {
     "iopub.execute_input": "2024-09-23T18:29:07.417496Z",
     "iopub.status.busy": "2024-09-23T18:29:07.417496Z",
     "iopub.status.idle": "2024-09-23T18:29:07.714213Z",
     "shell.execute_reply": "2024-09-23T18:29:07.714213Z"
    }
   },
   "outputs": [],
   "source": [
    "factor_returns = perf.factor_returns(factor_data)"
   ]
  },
  {
   "cell_type": "code",
   "execution_count": 120,
   "metadata": {
    "ExecuteTime": {
     "end_time": "2021-04-16T03:14:17.469702Z",
     "start_time": "2021-04-16T03:14:11.616024Z"
    },
    "execution": {
     "iopub.execute_input": "2024-09-23T18:29:07.714213Z",
     "iopub.status.busy": "2024-09-23T18:29:07.714213Z",
     "iopub.status.idle": "2024-09-23T18:29:09.698569Z",
     "shell.execute_reply": "2024-09-23T18:29:09.698569Z"
    }
   },
   "outputs": [],
   "source": [
    "mean_quant_ret, std_quantile = perf.mean_return_by_quantile(factor_data,\n",
    "                                                            by_group=False,\n",
    "                                                            demeaned=True)\n",
    "\n",
    "\n",
    "\n",
    "mean_quant_rateret = mean_quant_ret.apply(rate_of_return, axis=0,\n",
    "                                          base_period=mean_quant_ret.columns[0])"
   ]
  },
  {
   "cell_type": "code",
   "execution_count": 121,
   "metadata": {
    "ExecuteTime": {
     "end_time": "2021-04-16T03:14:25.951528Z",
     "start_time": "2021-04-16T03:14:17.471576Z"
    },
    "execution": {
     "iopub.execute_input": "2024-09-23T18:29:09.698569Z",
     "iopub.status.busy": "2024-09-23T18:29:09.698569Z",
     "iopub.status.idle": "2024-09-23T18:29:12.058546Z",
     "shell.execute_reply": "2024-09-23T18:29:12.058546Z"
    }
   },
   "outputs": [],
   "source": [
    "mean_quant_ret_bydate, std_quant_daily = perf.mean_return_by_quantile(\n",
    "    factor_data,\n",
    "    by_date=True,\n",
    "    by_group=False,\n",
    "    demeaned=True,\n",
    "    group_adjust=False,\n",
    ")\n",
    "\n",
    "mean_quant_rateret_bydate = mean_quant_ret_bydate.apply(\n",
    "    rate_of_return,\n",
    "    base_period=mean_quant_ret_bydate.columns[0],\n",
    ")\n",
    "\n",
    "compstd_quant_daily = std_quant_daily.apply(std_conversion,\n",
    "                                            base_period=std_quant_daily.columns[0])\n",
    "\n",
    "alpha_beta = perf.factor_alpha_beta(factor_data,\n",
    "                                    demeaned=True)\n",
    "\n",
    "mean_ret_spread_quant, std_spread_quant = perf.compute_mean_returns_spread(\n",
    "    mean_quant_rateret_bydate,\n",
    "    factor_data[\"factor_quantile\"].max(),\n",
    "    factor_data[\"factor_quantile\"].min(),\n",
    "    std_err=compstd_quant_daily,\n",
    ")"
   ]
  },
  {
   "cell_type": "code",
   "execution_count": null,
   "metadata": {
    "ExecuteTime": {
     "end_time": "2021-04-16T03:14:25.960685Z",
     "start_time": "2021-04-16T03:14:25.952710Z"
    },
    "execution": {
     "iopub.execute_input": "2024-09-23T18:29:12.058546Z",
     "iopub.status.busy": "2024-09-23T18:29:12.058546Z",
     "iopub.status.idle": "2024-09-23T18:29:12.073934Z",
     "shell.execute_reply": "2024-09-23T18:29:12.073934Z"
    }
   },
   "outputs": [],
   "source": [
    "mean_ret_spread_quant.mean().mul(10000).to_frame('Mean Period Wise Spread (bps)').join(alpha_beta.T).T"
   ]
  },
  {
   "cell_type": "code",
   "execution_count": null,
   "metadata": {
    "ExecuteTime": {
     "end_time": "2021-04-16T03:14:26.934807Z",
     "start_time": "2021-04-16T03:14:25.961662Z"
    },
    "execution": {
     "iopub.execute_input": "2024-09-23T18:29:12.073934Z",
     "iopub.status.busy": "2024-09-23T18:29:12.073934Z",
     "iopub.status.idle": "2024-09-23T18:29:13.589629Z",
     "shell.execute_reply": "2024-09-23T18:29:13.589629Z"
    },
    "scrolled": true
   },
   "outputs": [],
   "source": [
    "fig, axes = plt.subplots(ncols=3, figsize=(18, 4))\n",
    "\n",
    "\n",
    "plotting.plot_quantile_returns_bar(mean_quant_rateret, ax=axes[0])\n",
    "plt.setp(axes[0].xaxis.get_majorticklabels(), rotation=0)\n",
    "axes[0].set_xlabel('Quantile')\n",
    "\n",
    "plotting.plot_cumulative_returns_by_quantile(mean_quant_ret_bydate['1D'],\n",
    "                                             freq=pd.tseries.offsets.BDay(),\n",
    "                                             period='1D',\n",
    "                                             ax=axes[1])\n",
    "axes[1].set_title('Cumulative Return by Quantile (1D Period)')\n",
    "\n",
    "title = \"Cumulative Return - Factor-Weighted Long/Short PF (1D Period)\"\n",
    "plotting.plot_cumulative_returns(factor_returns['1D'],\n",
    "                                 period='1D',\n",
    "                                 freq=pd.tseries.offsets.BDay(),\n",
    "                                 title=title,\n",
    "                                 ax=axes[2])\n",
    "\n",
    "fig.suptitle('Alphalens - Validation Set Performance', fontsize=14)\n",
    "fig.tight_layout()\n",
    "fig.subplots_adjust(top=.85);"
   ]
  },
  {
   "cell_type": "markdown",
   "metadata": {},
   "source": [
    "#### Summary Tearsheet"
   ]
  },
  {
   "cell_type": "code",
   "execution_count": null,
   "metadata": {
    "ExecuteTime": {
     "end_time": "2021-04-16T03:14:44.691722Z",
     "start_time": "2021-04-16T03:14:26.935678Z"
    },
    "execution": {
     "iopub.execute_input": "2024-09-23T18:29:13.589629Z",
     "iopub.status.busy": "2024-09-23T18:29:13.589629Z",
     "iopub.status.idle": "2024-09-23T18:29:19.230979Z",
     "shell.execute_reply": "2024-09-23T18:29:19.230979Z"
    }
   },
   "outputs": [],
   "source": [
    "create_summary_tear_sheet(factor_data)"
   ]
  },
  {
   "cell_type": "code",
   "execution_count": null,
   "metadata": {
    "ExecuteTime": {
     "end_time": "2021-04-16T03:15:11.257824Z",
     "start_time": "2021-04-16T03:14:44.692590Z"
    },
    "execution": {
     "iopub.execute_input": "2024-09-23T18:29:19.230979Z",
     "iopub.status.busy": "2024-09-23T18:29:19.230979Z",
     "iopub.status.idle": "2024-09-23T18:29:33.731823Z",
     "shell.execute_reply": "2024-09-23T18:29:33.731823Z"
    }
   },
   "outputs": [],
   "source": [
    "create_full_tear_sheet(factor_data)"
   ]
  },
  {
   "cell_type": "code",
   "execution_count": null,
   "metadata": {},
   "outputs": [],
   "source": []
  },
  {
   "cell_type": "code",
   "execution_count": null,
   "metadata": {},
   "outputs": [],
   "source": []
  }
 ],
 "metadata": {
  "kernelspec": {
   "display_name": "Python 3",
   "language": "python",
   "name": "python3"
  },
  "language_info": {
   "codemirror_mode": {
    "name": "ipython",
    "version": 3
   },
   "file_extension": ".py",
   "mimetype": "text/x-python",
   "name": "python",
   "nbconvert_exporter": "python",
   "pygments_lexer": "ipython3",
   "version": "3.12.3"
  },
  "toc": {
   "base_numbering": 1,
   "nav_menu": {},
   "number_sections": true,
   "sideBar": true,
   "skip_h1_title": true,
   "title_cell": "Table of Contents",
   "title_sidebar": "Contents",
   "toc_cell": false,
   "toc_position": {
    "height": "calc(100% - 180px)",
    "left": "10px",
    "top": "150px",
    "width": "301.861px"
   },
   "toc_section_display": true,
   "toc_window_display": true
  }
 },
 "nbformat": 4,
 "nbformat_minor": 4
}
